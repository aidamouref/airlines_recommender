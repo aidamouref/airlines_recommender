{
 "cells": [
  {
   "cell_type": "markdown",
   "metadata": {},
   "source": [
    "Import the data"
   ]
  },
  {
   "cell_type": "code",
   "execution_count": 910,
   "metadata": {},
   "outputs": [],
   "source": [
    "import pandas as pd\n",
    "import numpy as np\n",
    "\n",
    "import warnings\n",
    "warnings.filterwarnings('ignore')"
   ]
  },
  {
   "cell_type": "code",
   "execution_count": 911,
   "metadata": {},
   "outputs": [],
   "source": [
    "df=pd.read_csv('datasets/airlines_reviews.csv')"
   ]
  },
  {
   "cell_type": "code",
   "execution_count": 991,
   "metadata": {},
   "outputs": [
    {
     "data": {
      "text/html": [
       "<div>\n",
       "<style scoped>\n",
       "    .dataframe tbody tr th:only-of-type {\n",
       "        vertical-align: middle;\n",
       "    }\n",
       "\n",
       "    .dataframe tbody tr th {\n",
       "        vertical-align: top;\n",
       "    }\n",
       "\n",
       "    .dataframe thead th {\n",
       "        text-align: right;\n",
       "    }\n",
       "</style>\n",
       "<table border=\"1\" class=\"dataframe\">\n",
       "  <thead>\n",
       "    <tr style=\"text-align: right;\">\n",
       "      <th></th>\n",
       "      <th>airline</th>\n",
       "      <th>total_rate</th>\n",
       "      <th>review_title</th>\n",
       "      <th>review_date</th>\n",
       "      <th>verified</th>\n",
       "      <th>review</th>\n",
       "      <th>aircraft</th>\n",
       "      <th>traveller</th>\n",
       "      <th>class_type</th>\n",
       "      <th>route</th>\n",
       "      <th>origin</th>\n",
       "      <th>destiny</th>\n",
       "      <th>flight_date</th>\n",
       "      <th>seat_comfort</th>\n",
       "      <th>cabin_staff</th>\n",
       "      <th>foodrinks</th>\n",
       "      <th>ground_staff</th>\n",
       "      <th>value_for_money</th>\n",
       "      <th>recommended</th>\n",
       "    </tr>\n",
       "  </thead>\n",
       "  <tbody>\n",
       "    <tr>\n",
       "      <th>0</th>\n",
       "      <td>AB Aviation</td>\n",
       "      <td>1</td>\n",
       "      <td>\"Not a good airline\"</td>\n",
       "      <td>25th June 2019</td>\n",
       "      <td>True</td>\n",
       "      <td>Moroni to Anjouan. It is a very small airline...</td>\n",
       "      <td>E120</td>\n",
       "      <td>Solo Leisure</td>\n",
       "      <td>Economy Class</td>\n",
       "      <td>Moroni to Anjouan</td>\n",
       "      <td>Moroni</td>\n",
       "      <td>Anjouan</td>\n",
       "      <td>June 2019</td>\n",
       "      <td>2.0</td>\n",
       "      <td>2.0</td>\n",
       "      <td>1.0</td>\n",
       "      <td>1.0</td>\n",
       "      <td>2.0</td>\n",
       "      <td>no</td>\n",
       "    </tr>\n",
       "    <tr>\n",
       "      <th>1</th>\n",
       "      <td>AB Aviation</td>\n",
       "      <td>1</td>\n",
       "      <td>\"flight was fortunately short\"</td>\n",
       "      <td>25th June 2019</td>\n",
       "      <td>True</td>\n",
       "      <td>Anjouan to Dzaoudzi. A very small airline an...</td>\n",
       "      <td>Embraer E120</td>\n",
       "      <td>Solo Leisure</td>\n",
       "      <td>Economy Class</td>\n",
       "      <td>Anjouan to Dzaoudzi</td>\n",
       "      <td>Anjouan</td>\n",
       "      <td>Dzaoudzi</td>\n",
       "      <td>June 2019</td>\n",
       "      <td>2.0</td>\n",
       "      <td>1.0</td>\n",
       "      <td>1.0</td>\n",
       "      <td>1.0</td>\n",
       "      <td>2.0</td>\n",
       "      <td>no</td>\n",
       "    </tr>\n",
       "    <tr>\n",
       "      <th>2</th>\n",
       "      <td>Adria Airways</td>\n",
       "      <td>1</td>\n",
       "      <td>\"Had very bad experience\"</td>\n",
       "      <td>17th September 2019</td>\n",
       "      <td>True</td>\n",
       "      <td>Had very bad experience with rerouted and ca...</td>\n",
       "      <td>CR 900</td>\n",
       "      <td>Couple Leisure</td>\n",
       "      <td>Economy Class</td>\n",
       "      <td>Sarajevo to Ljubljana</td>\n",
       "      <td>Sarajevo</td>\n",
       "      <td>Ljubljana</td>\n",
       "      <td>September 2019</td>\n",
       "      <td>1.0</td>\n",
       "      <td>1.0</td>\n",
       "      <td>1.0</td>\n",
       "      <td>1.0</td>\n",
       "      <td>1.0</td>\n",
       "      <td>no</td>\n",
       "    </tr>\n",
       "    <tr>\n",
       "      <th>3</th>\n",
       "      <td>Adria Airways</td>\n",
       "      <td>1</td>\n",
       "      <td>\"book another company\"</td>\n",
       "      <td>24th August 2019</td>\n",
       "      <td>False</td>\n",
       "      <td>First of all, I am not complaining about a s...</td>\n",
       "      <td>Bombardier CRJ</td>\n",
       "      <td>Solo Leisure</td>\n",
       "      <td>Economy Class</td>\n",
       "      <td>Timisoara to Munich</td>\n",
       "      <td>Timisoara</td>\n",
       "      <td>Munich</td>\n",
       "      <td>August 2019</td>\n",
       "      <td>1.0</td>\n",
       "      <td>1.0</td>\n",
       "      <td>1.0</td>\n",
       "      <td>1.0</td>\n",
       "      <td>1.0</td>\n",
       "      <td>no</td>\n",
       "    </tr>\n",
       "    <tr>\n",
       "      <th>4</th>\n",
       "      <td>Adria Airways</td>\n",
       "      <td>3</td>\n",
       "      <td>\"should be ashamed of their operations\"</td>\n",
       "      <td>5th December 2017</td>\n",
       "      <td>True</td>\n",
       "      <td>Ljubljana to Vienna. Overall, the flight ser...</td>\n",
       "      <td>ATR-72</td>\n",
       "      <td>Solo Leisure</td>\n",
       "      <td>Economy Class</td>\n",
       "      <td>Ljubljana to Vienna</td>\n",
       "      <td>Ljubljana</td>\n",
       "      <td>Vienna</td>\n",
       "      <td>September 2017</td>\n",
       "      <td>2.0</td>\n",
       "      <td>4.0</td>\n",
       "      <td>1.0</td>\n",
       "      <td>1.0</td>\n",
       "      <td>3.0</td>\n",
       "      <td>no</td>\n",
       "    </tr>\n",
       "  </tbody>\n",
       "</table>\n",
       "</div>"
      ],
      "text/plain": [
       "         airline  total_rate                             review_title  \\\n",
       "0    AB Aviation           1                     \"Not a good airline\"   \n",
       "1    AB Aviation           1           \"flight was fortunately short\"   \n",
       "2  Adria Airways           1                \"Had very bad experience\"   \n",
       "3  Adria Airways           1                   \"book another company\"   \n",
       "4  Adria Airways           3  \"should be ashamed of their operations\"   \n",
       "\n",
       "           review_date  verified  \\\n",
       "0       25th June 2019      True   \n",
       "1       25th June 2019      True   \n",
       "2  17th September 2019      True   \n",
       "3     24th August 2019     False   \n",
       "4    5th December 2017      True   \n",
       "\n",
       "                                              review        aircraft  \\\n",
       "0   Moroni to Anjouan. It is a very small airline...            E120   \n",
       "1    Anjouan to Dzaoudzi. A very small airline an...   Embraer E120    \n",
       "2    Had very bad experience with rerouted and ca...          CR 900   \n",
       "3    First of all, I am not complaining about a s...  Bombardier CRJ   \n",
       "4    Ljubljana to Vienna. Overall, the flight ser...          ATR-72   \n",
       "\n",
       "        traveller     class_type                  route      origin  \\\n",
       "0    Solo Leisure  Economy Class      Moroni to Anjouan     Moroni    \n",
       "1    Solo Leisure  Economy Class    Anjouan to Dzaoudzi    Anjouan    \n",
       "2  Couple Leisure  Economy Class  Sarajevo to Ljubljana   Sarajevo    \n",
       "3    Solo Leisure  Economy Class    Timisoara to Munich  Timisoara    \n",
       "4    Solo Leisure  Economy Class    Ljubljana to Vienna  Ljubljana    \n",
       "\n",
       "      destiny     flight_date  seat_comfort  cabin_staff  foodrinks  \\\n",
       "0     Anjouan       June 2019           2.0          2.0        1.0   \n",
       "1    Dzaoudzi       June 2019           2.0          1.0        1.0   \n",
       "2   Ljubljana  September 2019           1.0          1.0        1.0   \n",
       "3      Munich     August 2019           1.0          1.0        1.0   \n",
       "4      Vienna  September 2017           2.0          4.0        1.0   \n",
       "\n",
       "   ground_staff  value_for_money recommended  \n",
       "0           1.0              2.0          no  \n",
       "1           1.0              2.0          no  \n",
       "2           1.0              1.0          no  \n",
       "3           1.0              1.0          no  \n",
       "4           1.0              3.0          no  "
      ]
     },
     "execution_count": 991,
     "metadata": {},
     "output_type": "execute_result"
    }
   ],
   "source": [
    "df.head()\n"
   ]
  },
  {
   "cell_type": "code",
   "execution_count": 913,
   "metadata": {},
   "outputs": [
    {
     "name": "stdout",
     "output_type": "stream",
     "text": [
      "<class 'pandas.core.frame.DataFrame'>\n",
      "RangeIndex: 23171 entries, 0 to 23170\n",
      "Data columns (total 20 columns):\n",
      " #   Column                  Non-Null Count  Dtype  \n",
      "---  ------                  --------------  -----  \n",
      " 0   Unnamed: 0              23171 non-null  int64  \n",
      " 1   Airline Name            23171 non-null  object \n",
      " 2   Overall_Rating          23171 non-null  object \n",
      " 3   Review_Title            23171 non-null  object \n",
      " 4   Review Date             23171 non-null  object \n",
      " 5   Verified                23171 non-null  bool   \n",
      " 6   Review                  23171 non-null  object \n",
      " 7   Aircraft                7129 non-null   object \n",
      " 8   Type Of Traveller       19433 non-null  object \n",
      " 9   Seat Type               22075 non-null  object \n",
      " 10  Route                   19343 non-null  object \n",
      " 11  Date Flown              19417 non-null  object \n",
      " 12  Seat Comfort            19016 non-null  float64\n",
      " 13  Cabin Staff Service     18911 non-null  float64\n",
      " 14  Food & Beverages        14500 non-null  float64\n",
      " 15  Ground Service          18378 non-null  float64\n",
      " 16  Inflight Entertainment  10829 non-null  float64\n",
      " 17  Wifi & Connectivity     5920 non-null   float64\n",
      " 18  Value For Money         22105 non-null  float64\n",
      " 19  Recommended             23171 non-null  object \n",
      "dtypes: bool(1), float64(7), int64(1), object(11)\n",
      "memory usage: 3.4+ MB\n"
     ]
    }
   ],
   "source": [
    "df.info()\n"
   ]
  },
  {
   "cell_type": "markdown",
   "metadata": {},
   "source": [
    "EDA"
   ]
  },
  {
   "cell_type": "code",
   "execution_count": 914,
   "metadata": {},
   "outputs": [
    {
     "name": "stdout",
     "output_type": "stream",
     "text": [
      "10th April 2005\n",
      "9th September 2022\n"
     ]
    }
   ],
   "source": [
    "print(df[\"Review Date\"].min())\n",
    "print(df[\"Review Date\"].max())\n",
    "#to check if we have enough time frame for the time series"
   ]
  },
  {
   "cell_type": "code",
   "execution_count": 915,
   "metadata": {},
   "outputs": [],
   "source": [
    "#let's stick to the data where we have information on the aircraft ---23k to 7k"
   ]
  },
  {
   "cell_type": "code",
   "execution_count": 916,
   "metadata": {},
   "outputs": [],
   "source": [
    "df = df.dropna(axis=0, subset=['Aircraft'])"
   ]
  },
  {
   "cell_type": "code",
   "execution_count": 917,
   "metadata": {},
   "outputs": [
    {
     "name": "stdout",
     "output_type": "stream",
     "text": [
      "<class 'pandas.core.frame.DataFrame'>\n",
      "Index: 7129 entries, 1 to 23169\n",
      "Data columns (total 20 columns):\n",
      " #   Column                  Non-Null Count  Dtype  \n",
      "---  ------                  --------------  -----  \n",
      " 0   Unnamed: 0              7129 non-null   int64  \n",
      " 1   Airline Name            7129 non-null   object \n",
      " 2   Overall_Rating          7129 non-null   object \n",
      " 3   Review_Title            7129 non-null   object \n",
      " 4   Review Date             7129 non-null   object \n",
      " 5   Verified                7129 non-null   bool   \n",
      " 6   Review                  7129 non-null   object \n",
      " 7   Aircraft                7129 non-null   object \n",
      " 8   Type Of Traveller       7129 non-null   object \n",
      " 9   Seat Type               7129 non-null   object \n",
      " 10  Route                   7122 non-null   object \n",
      " 11  Date Flown              7122 non-null   object \n",
      " 12  Seat Comfort            7029 non-null   float64\n",
      " 13  Cabin Staff Service     7014 non-null   float64\n",
      " 14  Food & Beverages        5885 non-null   float64\n",
      " 15  Ground Service          7073 non-null   float64\n",
      " 16  Inflight Entertainment  3919 non-null   float64\n",
      " 17  Wifi & Connectivity     1864 non-null   float64\n",
      " 18  Value For Money         7129 non-null   float64\n",
      " 19  Recommended             7129 non-null   object \n",
      "dtypes: bool(1), float64(7), int64(1), object(11)\n",
      "memory usage: 1.1+ MB\n"
     ]
    }
   ],
   "source": [
    "df.info()"
   ]
  },
  {
   "cell_type": "code",
   "execution_count": 918,
   "metadata": {},
   "outputs": [],
   "source": [
    "from functions import nulls"
   ]
  },
  {
   "cell_type": "code",
   "execution_count": 919,
   "metadata": {},
   "outputs": [
    {
     "data": {
      "text/html": [
       "<div>\n",
       "<style scoped>\n",
       "    .dataframe tbody tr th:only-of-type {\n",
       "        vertical-align: middle;\n",
       "    }\n",
       "\n",
       "    .dataframe tbody tr th {\n",
       "        vertical-align: top;\n",
       "    }\n",
       "\n",
       "    .dataframe thead th {\n",
       "        text-align: right;\n",
       "    }\n",
       "</style>\n",
       "<table border=\"1\" class=\"dataframe\">\n",
       "  <thead>\n",
       "    <tr style=\"text-align: right;\">\n",
       "      <th></th>\n",
       "      <th>column_name</th>\n",
       "      <th>nulls_percentage</th>\n",
       "    </tr>\n",
       "  </thead>\n",
       "  <tbody>\n",
       "    <tr>\n",
       "      <th>0</th>\n",
       "      <td>Unnamed: 0</td>\n",
       "      <td>0.000000</td>\n",
       "    </tr>\n",
       "    <tr>\n",
       "      <th>1</th>\n",
       "      <td>Airline Name</td>\n",
       "      <td>0.000000</td>\n",
       "    </tr>\n",
       "    <tr>\n",
       "      <th>2</th>\n",
       "      <td>Overall_Rating</td>\n",
       "      <td>0.000000</td>\n",
       "    </tr>\n",
       "    <tr>\n",
       "      <th>3</th>\n",
       "      <td>Review_Title</td>\n",
       "      <td>0.000000</td>\n",
       "    </tr>\n",
       "    <tr>\n",
       "      <th>4</th>\n",
       "      <td>Review Date</td>\n",
       "      <td>0.000000</td>\n",
       "    </tr>\n",
       "    <tr>\n",
       "      <th>5</th>\n",
       "      <td>Verified</td>\n",
       "      <td>0.000000</td>\n",
       "    </tr>\n",
       "    <tr>\n",
       "      <th>6</th>\n",
       "      <td>Review</td>\n",
       "      <td>0.000000</td>\n",
       "    </tr>\n",
       "    <tr>\n",
       "      <th>7</th>\n",
       "      <td>Aircraft</td>\n",
       "      <td>0.000000</td>\n",
       "    </tr>\n",
       "    <tr>\n",
       "      <th>8</th>\n",
       "      <td>Type Of Traveller</td>\n",
       "      <td>0.000000</td>\n",
       "    </tr>\n",
       "    <tr>\n",
       "      <th>9</th>\n",
       "      <td>Seat Type</td>\n",
       "      <td>0.000000</td>\n",
       "    </tr>\n",
       "    <tr>\n",
       "      <th>10</th>\n",
       "      <td>Route</td>\n",
       "      <td>0.000982</td>\n",
       "    </tr>\n",
       "    <tr>\n",
       "      <th>11</th>\n",
       "      <td>Date Flown</td>\n",
       "      <td>0.000982</td>\n",
       "    </tr>\n",
       "    <tr>\n",
       "      <th>12</th>\n",
       "      <td>Seat Comfort</td>\n",
       "      <td>0.014027</td>\n",
       "    </tr>\n",
       "    <tr>\n",
       "      <th>13</th>\n",
       "      <td>Cabin Staff Service</td>\n",
       "      <td>0.016131</td>\n",
       "    </tr>\n",
       "    <tr>\n",
       "      <th>14</th>\n",
       "      <td>Food &amp; Beverages</td>\n",
       "      <td>0.174499</td>\n",
       "    </tr>\n",
       "    <tr>\n",
       "      <th>15</th>\n",
       "      <td>Ground Service</td>\n",
       "      <td>0.007855</td>\n",
       "    </tr>\n",
       "    <tr>\n",
       "      <th>16</th>\n",
       "      <td>Inflight Entertainment</td>\n",
       "      <td>0.450274</td>\n",
       "    </tr>\n",
       "    <tr>\n",
       "      <th>17</th>\n",
       "      <td>Wifi &amp; Connectivity</td>\n",
       "      <td>0.738533</td>\n",
       "    </tr>\n",
       "    <tr>\n",
       "      <th>18</th>\n",
       "      <td>Value For Money</td>\n",
       "      <td>0.000000</td>\n",
       "    </tr>\n",
       "    <tr>\n",
       "      <th>19</th>\n",
       "      <td>Recommended</td>\n",
       "      <td>0.000000</td>\n",
       "    </tr>\n",
       "  </tbody>\n",
       "</table>\n",
       "</div>"
      ],
      "text/plain": [
       "               column_name  nulls_percentage\n",
       "0               Unnamed: 0          0.000000\n",
       "1             Airline Name          0.000000\n",
       "2           Overall_Rating          0.000000\n",
       "3             Review_Title          0.000000\n",
       "4              Review Date          0.000000\n",
       "5                 Verified          0.000000\n",
       "6                   Review          0.000000\n",
       "7                 Aircraft          0.000000\n",
       "8        Type Of Traveller          0.000000\n",
       "9                Seat Type          0.000000\n",
       "10                   Route          0.000982\n",
       "11              Date Flown          0.000982\n",
       "12            Seat Comfort          0.014027\n",
       "13     Cabin Staff Service          0.016131\n",
       "14        Food & Beverages          0.174499\n",
       "15          Ground Service          0.007855\n",
       "16  Inflight Entertainment          0.450274\n",
       "17     Wifi & Connectivity          0.738533\n",
       "18         Value For Money          0.000000\n",
       "19             Recommended          0.000000"
      ]
     },
     "execution_count": 919,
     "metadata": {},
     "output_type": "execute_result"
    }
   ],
   "source": [
    "nulls(df)"
   ]
  },
  {
   "cell_type": "code",
   "execution_count": 920,
   "metadata": {},
   "outputs": [],
   "source": [
    "from functions import minusculas"
   ]
  },
  {
   "cell_type": "code",
   "execution_count": 921,
   "metadata": {},
   "outputs": [],
   "source": [
    "minusculas(df)"
   ]
  },
  {
   "cell_type": "code",
   "execution_count": 922,
   "metadata": {},
   "outputs": [
    {
     "name": "stdout",
     "output_type": "stream",
     "text": [
      "<class 'pandas.core.frame.DataFrame'>\n",
      "Index: 7129 entries, 1 to 23169\n",
      "Data columns (total 20 columns):\n",
      " #   Column                  Non-Null Count  Dtype  \n",
      "---  ------                  --------------  -----  \n",
      " 0   unnamed: 0              7129 non-null   int64  \n",
      " 1   airline name            7129 non-null   object \n",
      " 2   overall_rating          7129 non-null   object \n",
      " 3   review_title            7129 non-null   object \n",
      " 4   review date             7129 non-null   object \n",
      " 5   verified                7129 non-null   bool   \n",
      " 6   review                  7129 non-null   object \n",
      " 7   aircraft                7129 non-null   object \n",
      " 8   type of traveller       7129 non-null   object \n",
      " 9   seat type               7129 non-null   object \n",
      " 10  route                   7122 non-null   object \n",
      " 11  date flown              7122 non-null   object \n",
      " 12  seat comfort            7029 non-null   float64\n",
      " 13  cabin staff service     7014 non-null   float64\n",
      " 14  food & beverages        5885 non-null   float64\n",
      " 15  ground service          7073 non-null   float64\n",
      " 16  inflight entertainment  3919 non-null   float64\n",
      " 17  wifi & connectivity     1864 non-null   float64\n",
      " 18  value for money         7129 non-null   float64\n",
      " 19  recommended             7129 non-null   object \n",
      "dtypes: bool(1), float64(7), int64(1), object(11)\n",
      "memory usage: 1.1+ MB\n"
     ]
    }
   ],
   "source": [
    "df.info()"
   ]
  },
  {
   "cell_type": "code",
   "execution_count": 923,
   "metadata": {},
   "outputs": [],
   "source": [
    "#finish renaming of variables:"
   ]
  },
  {
   "cell_type": "code",
   "execution_count": 924,
   "metadata": {},
   "outputs": [],
   "source": [
    "df.rename(columns={'overall_rating':'total_rate'}, inplace=True)\n",
    "df.rename(columns={'airline name':'airline'}, inplace=True)\n",
    "df.rename(columns={'review date':'review_date'}, inplace=True)\n",
    "df.rename(columns={'type of traveller':'traveller'}, inplace=True)\n",
    "df.rename(columns={'seat type':'class_type'}, inplace=True)\n",
    "df.rename(columns={'date flown':'flight_date'}, inplace=True)\n",
    "df.rename(columns={'seat comfort':'seat_comfort'}, inplace=True)\n",
    "df.rename(columns={'cabin staff service':'cabin_staff'}, inplace=True)\n",
    "df.rename(columns={'food & beverages':'foodrinks'}, inplace=True)\n",
    "df.rename(columns={'ground service':'ground_staff'}, inplace=True)\n",
    "df.rename(columns={'inflight entertainment':'entertainment'}, inplace=True)\n",
    "df.rename(columns={'wifi & connectivity':'connectivity'}, inplace=True)\n",
    "df.rename(columns={'value for money':'value_for_money'}, inplace=True)"
   ]
  },
  {
   "cell_type": "code",
   "execution_count": 925,
   "metadata": {},
   "outputs": [],
   "source": [
    "#droping unnamed variable, does not give any additional info"
   ]
  },
  {
   "cell_type": "code",
   "execution_count": 926,
   "metadata": {},
   "outputs": [],
   "source": [
    "df.drop(columns=\"unnamed: 0\", inplace=True)"
   ]
  },
  {
   "cell_type": "code",
   "execution_count": 927,
   "metadata": {},
   "outputs": [],
   "source": [
    "#briew revision of all variables"
   ]
  },
  {
   "cell_type": "code",
   "execution_count": 928,
   "metadata": {},
   "outputs": [
    {
     "data": {
      "text/plain": [
       "Index(['airline', 'total_rate', 'review_title', 'review_date', 'verified',\n",
       "       'review', 'aircraft', 'traveller', 'class_type', 'route', 'flight_date',\n",
       "       'seat_comfort', 'cabin_staff', 'foodrinks', 'ground_staff',\n",
       "       'entertainment', 'connectivity', 'value_for_money', 'recommended'],\n",
       "      dtype='object')"
      ]
     },
     "execution_count": 928,
     "metadata": {},
     "output_type": "execute_result"
    }
   ],
   "source": [
    "df.columns"
   ]
  },
  {
   "cell_type": "code",
   "execution_count": 929,
   "metadata": {},
   "outputs": [
    {
     "data": {
      "text/plain": [
       "(7129, 19)"
      ]
     },
     "execution_count": 929,
     "metadata": {},
     "output_type": "execute_result"
    }
   ],
   "source": [
    "df.shape #ok"
   ]
  },
  {
   "cell_type": "code",
   "execution_count": 930,
   "metadata": {},
   "outputs": [],
   "source": [
    "df.drop_duplicates(inplace=True) "
   ]
  },
  {
   "cell_type": "code",
   "execution_count": 931,
   "metadata": {},
   "outputs": [
    {
     "data": {
      "text/plain": [
       "(7127, 19)"
      ]
     },
     "execution_count": 931,
     "metadata": {},
     "output_type": "execute_result"
    }
   ],
   "source": [
    "df.shape #only two duplicates"
   ]
  },
  {
   "cell_type": "code",
   "execution_count": 932,
   "metadata": {},
   "outputs": [
    {
     "data": {
      "text/plain": [
       "airline\n",
       "Thomson Airways                     81\n",
       "Hainan Airlines                     78\n",
       "Garuda Indonesia                    77\n",
       "Royal Brunei Airlines               74\n",
       "SilkAir                             68\n",
       "                                    ..\n",
       "ASKY Airlines                        1\n",
       "Thomas Cook Airlines Scandinavia     1\n",
       "Novoair                              1\n",
       "Mack Air                             1\n",
       "Manta Air                            1\n",
       "Name: count, Length: 438, dtype: int64"
      ]
     },
     "execution_count": 932,
     "metadata": {},
     "output_type": "execute_result"
    }
   ],
   "source": [
    "df.airline.value_counts()"
   ]
  },
  {
   "cell_type": "code",
   "execution_count": 933,
   "metadata": {},
   "outputs": [
    {
     "data": {
      "text/plain": [
       "total_rate\n",
       "1    2489\n",
       "9     968\n",
       "8     953\n",
       "7     710\n",
       "2     604\n",
       "3     401\n",
       "6     376\n",
       "5     325\n",
       "4     301\n",
       "Name: count, dtype: int64"
      ]
     },
     "execution_count": 933,
     "metadata": {},
     "output_type": "execute_result"
    }
   ],
   "source": [
    "df.total_rate.value_counts() #let's check later whether the values correspond to the actual review (e.g. 1 is always good or some people \n",
    "#consider it bad?)"
   ]
  },
  {
   "cell_type": "code",
   "execution_count": 934,
   "metadata": {},
   "outputs": [
    {
     "data": {
      "text/plain": [
       "verified\n",
       "True     4475\n",
       "False    2652\n",
       "Name: count, dtype: int64"
      ]
     },
     "execution_count": 934,
     "metadata": {},
     "output_type": "execute_result"
    }
   ],
   "source": [
    "df.verified.value_counts()"
   ]
  },
  {
   "cell_type": "code",
   "execution_count": 935,
   "metadata": {},
   "outputs": [
    {
     "data": {
      "text/plain": [
       "aircraft\n",
       "A320                         1041\n",
       "Boeing 737-800                553\n",
       "Boeing 737                    404\n",
       "Boeing 787                    349\n",
       "A330                          349\n",
       "                             ... \n",
       "A350-900 / Boeing 777-300       1\n",
       "A350-900 / Boeing 747-400       1\n",
       "Boeing 777/350                  1\n",
       "A350 / B744                     1\n",
       "Boeing787                       1\n",
       "Name: count, Length: 1048, dtype: int64"
      ]
     },
     "execution_count": 935,
     "metadata": {},
     "output_type": "execute_result"
    }
   ],
   "source": [
    "df.aircraft.value_counts()"
   ]
  },
  {
   "cell_type": "code",
   "execution_count": 936,
   "metadata": {},
   "outputs": [
    {
     "data": {
      "text/plain": [
       "traveller\n",
       "Solo Leisure      2678\n",
       "Couple Leisure    1835\n",
       "Family Leisure    1325\n",
       "Business          1289\n",
       "Name: count, dtype: int64"
      ]
     },
     "execution_count": 936,
     "metadata": {},
     "output_type": "execute_result"
    }
   ],
   "source": [
    "df.traveller.value_counts()"
   ]
  },
  {
   "cell_type": "code",
   "execution_count": 937,
   "metadata": {},
   "outputs": [
    {
     "data": {
      "text/plain": [
       "seat_comfort\n",
       "4.0    1844\n",
       "5.0    1556\n",
       "3.0    1432\n",
       "1.0    1337\n",
       "2.0     858\n",
       "Name: count, dtype: int64"
      ]
     },
     "execution_count": 937,
     "metadata": {},
     "output_type": "execute_result"
    }
   ],
   "source": [
    "df.seat_comfort.value_counts()"
   ]
  },
  {
   "cell_type": "code",
   "execution_count": 938,
   "metadata": {},
   "outputs": [
    {
     "data": {
      "text/plain": [
       "cabin_staff\n",
       "5.0    2657\n",
       "4.0    1485\n",
       "1.0    1142\n",
       "3.0    1025\n",
       "2.0     703\n",
       "Name: count, dtype: int64"
      ]
     },
     "execution_count": 938,
     "metadata": {},
     "output_type": "execute_result"
    }
   ],
   "source": [
    "df.cabin_staff.value_counts()"
   ]
  },
  {
   "cell_type": "code",
   "execution_count": 939,
   "metadata": {},
   "outputs": [
    {
     "data": {
      "text/plain": [
       "foodrinks\n",
       "5.0    1376\n",
       "1.0    1316\n",
       "4.0    1303\n",
       "3.0    1123\n",
       "2.0     765\n",
       "Name: count, dtype: int64"
      ]
     },
     "execution_count": 939,
     "metadata": {},
     "output_type": "execute_result"
    }
   ],
   "source": [
    "df.foodrinks.value_counts()"
   ]
  },
  {
   "cell_type": "code",
   "execution_count": 940,
   "metadata": {},
   "outputs": [
    {
     "data": {
      "text/plain": [
       "connectivity\n",
       "1.0    959\n",
       "5.0    304\n",
       "4.0    223\n",
       "3.0    219\n",
       "2.0    158\n",
       "Name: count, dtype: int64"
      ]
     },
     "execution_count": 940,
     "metadata": {},
     "output_type": "execute_result"
    }
   ],
   "source": [
    "df.connectivity.value_counts()"
   ]
  },
  {
   "cell_type": "code",
   "execution_count": 941,
   "metadata": {},
   "outputs": [
    {
     "data": {
      "text/plain": [
       "ground_staff\n",
       "1.0    1874\n",
       "5.0    1871\n",
       "4.0    1656\n",
       "3.0    1018\n",
       "2.0     652\n",
       "Name: count, dtype: int64"
      ]
     },
     "execution_count": 941,
     "metadata": {},
     "output_type": "execute_result"
    }
   ],
   "source": [
    "df.ground_staff.value_counts()"
   ]
  },
  {
   "cell_type": "code",
   "execution_count": 942,
   "metadata": {},
   "outputs": [
    {
     "data": {
      "text/plain": [
       "entertainment\n",
       "1.0    1198\n",
       "3.0     814\n",
       "4.0     739\n",
       "5.0     662\n",
       "2.0     505\n",
       "Name: count, dtype: int64"
      ]
     },
     "execution_count": 942,
     "metadata": {},
     "output_type": "execute_result"
    }
   ],
   "source": [
    "df.entertainment.value_counts()"
   ]
  },
  {
   "cell_type": "code",
   "execution_count": 943,
   "metadata": {},
   "outputs": [
    {
     "data": {
      "text/plain": [
       "value_for_money\n",
       "5.0    2258\n",
       "1.0    1630\n",
       "4.0    1456\n",
       "3.0    1000\n",
       "2.0     783\n",
       "Name: count, dtype: int64"
      ]
     },
     "execution_count": 943,
     "metadata": {},
     "output_type": "execute_result"
    }
   ],
   "source": [
    "df.value_for_money.value_counts()"
   ]
  },
  {
   "cell_type": "code",
   "execution_count": 944,
   "metadata": {},
   "outputs": [
    {
     "data": {
      "text/plain": [
       "recommended\n",
       "yes    4117\n",
       "no     3010\n",
       "Name: count, dtype: int64"
      ]
     },
     "execution_count": 944,
     "metadata": {},
     "output_type": "execute_result"
    }
   ],
   "source": [
    "df.recommended.value_counts()"
   ]
  },
  {
   "cell_type": "code",
   "execution_count": 945,
   "metadata": {},
   "outputs": [
    {
     "data": {
      "text/html": [
       "<div>\n",
       "<style scoped>\n",
       "    .dataframe tbody tr th:only-of-type {\n",
       "        vertical-align: middle;\n",
       "    }\n",
       "\n",
       "    .dataframe tbody tr th {\n",
       "        vertical-align: top;\n",
       "    }\n",
       "\n",
       "    .dataframe thead th {\n",
       "        text-align: right;\n",
       "    }\n",
       "</style>\n",
       "<table border=\"1\" class=\"dataframe\">\n",
       "  <thead>\n",
       "    <tr style=\"text-align: right;\">\n",
       "      <th></th>\n",
       "      <th>seat_comfort</th>\n",
       "      <th>cabin_staff</th>\n",
       "      <th>foodrinks</th>\n",
       "      <th>ground_staff</th>\n",
       "      <th>entertainment</th>\n",
       "      <th>connectivity</th>\n",
       "      <th>value_for_money</th>\n",
       "    </tr>\n",
       "  </thead>\n",
       "  <tbody>\n",
       "    <tr>\n",
       "      <th>count</th>\n",
       "      <td>7027.000000</td>\n",
       "      <td>7012.000000</td>\n",
       "      <td>5883.000000</td>\n",
       "      <td>7071.00000</td>\n",
       "      <td>3918.000000</td>\n",
       "      <td>1863.000000</td>\n",
       "      <td>7127.000000</td>\n",
       "    </tr>\n",
       "    <tr>\n",
       "      <th>mean</th>\n",
       "      <td>3.202647</td>\n",
       "      <td>3.543639</td>\n",
       "      <td>3.111848</td>\n",
       "      <td>3.14114</td>\n",
       "      <td>2.786115</td>\n",
       "      <td>2.331723</td>\n",
       "      <td>3.270661</td>\n",
       "    </tr>\n",
       "    <tr>\n",
       "      <th>std</th>\n",
       "      <td>1.410860</td>\n",
       "      <td>1.477818</td>\n",
       "      <td>1.473003</td>\n",
       "      <td>1.55735</td>\n",
       "      <td>1.473514</td>\n",
       "      <td>1.571940</td>\n",
       "      <td>1.556716</td>\n",
       "    </tr>\n",
       "    <tr>\n",
       "      <th>min</th>\n",
       "      <td>1.000000</td>\n",
       "      <td>1.000000</td>\n",
       "      <td>1.000000</td>\n",
       "      <td>1.00000</td>\n",
       "      <td>1.000000</td>\n",
       "      <td>1.000000</td>\n",
       "      <td>1.000000</td>\n",
       "    </tr>\n",
       "    <tr>\n",
       "      <th>25%</th>\n",
       "      <td>2.000000</td>\n",
       "      <td>2.000000</td>\n",
       "      <td>2.000000</td>\n",
       "      <td>1.00000</td>\n",
       "      <td>1.000000</td>\n",
       "      <td>1.000000</td>\n",
       "      <td>2.000000</td>\n",
       "    </tr>\n",
       "    <tr>\n",
       "      <th>50%</th>\n",
       "      <td>3.000000</td>\n",
       "      <td>4.000000</td>\n",
       "      <td>3.000000</td>\n",
       "      <td>3.00000</td>\n",
       "      <td>3.000000</td>\n",
       "      <td>1.000000</td>\n",
       "      <td>4.000000</td>\n",
       "    </tr>\n",
       "    <tr>\n",
       "      <th>75%</th>\n",
       "      <td>4.000000</td>\n",
       "      <td>5.000000</td>\n",
       "      <td>4.000000</td>\n",
       "      <td>5.00000</td>\n",
       "      <td>4.000000</td>\n",
       "      <td>4.000000</td>\n",
       "      <td>5.000000</td>\n",
       "    </tr>\n",
       "    <tr>\n",
       "      <th>max</th>\n",
       "      <td>5.000000</td>\n",
       "      <td>5.000000</td>\n",
       "      <td>5.000000</td>\n",
       "      <td>5.00000</td>\n",
       "      <td>5.000000</td>\n",
       "      <td>5.000000</td>\n",
       "      <td>5.000000</td>\n",
       "    </tr>\n",
       "  </tbody>\n",
       "</table>\n",
       "</div>"
      ],
      "text/plain": [
       "       seat_comfort  cabin_staff    foodrinks  ground_staff  entertainment  \\\n",
       "count   7027.000000  7012.000000  5883.000000    7071.00000    3918.000000   \n",
       "mean       3.202647     3.543639     3.111848       3.14114       2.786115   \n",
       "std        1.410860     1.477818     1.473003       1.55735       1.473514   \n",
       "min        1.000000     1.000000     1.000000       1.00000       1.000000   \n",
       "25%        2.000000     2.000000     2.000000       1.00000       1.000000   \n",
       "50%        3.000000     4.000000     3.000000       3.00000       3.000000   \n",
       "75%        4.000000     5.000000     4.000000       5.00000       4.000000   \n",
       "max        5.000000     5.000000     5.000000       5.00000       5.000000   \n",
       "\n",
       "       connectivity  value_for_money  \n",
       "count   1863.000000      7127.000000  \n",
       "mean       2.331723         3.270661  \n",
       "std        1.571940         1.556716  \n",
       "min        1.000000         1.000000  \n",
       "25%        1.000000         2.000000  \n",
       "50%        1.000000         4.000000  \n",
       "75%        4.000000         5.000000  \n",
       "max        5.000000         5.000000  "
      ]
     },
     "execution_count": 945,
     "metadata": {},
     "output_type": "execute_result"
    }
   ],
   "source": [
    "df.describe()"
   ]
  },
  {
   "cell_type": "code",
   "execution_count": 946,
   "metadata": {},
   "outputs": [
    {
     "name": "stdout",
     "output_type": "stream",
     "text": [
      "<class 'pandas.core.frame.DataFrame'>\n",
      "Index: 7127 entries, 1 to 23169\n",
      "Data columns (total 19 columns):\n",
      " #   Column           Non-Null Count  Dtype  \n",
      "---  ------           --------------  -----  \n",
      " 0   airline          7127 non-null   object \n",
      " 1   total_rate       7127 non-null   object \n",
      " 2   review_title     7127 non-null   object \n",
      " 3   review_date      7127 non-null   object \n",
      " 4   verified         7127 non-null   bool   \n",
      " 5   review           7127 non-null   object \n",
      " 6   aircraft         7127 non-null   object \n",
      " 7   traveller        7127 non-null   object \n",
      " 8   class_type       7127 non-null   object \n",
      " 9   route            7120 non-null   object \n",
      " 10  flight_date      7120 non-null   object \n",
      " 11  seat_comfort     7027 non-null   float64\n",
      " 12  cabin_staff      7012 non-null   float64\n",
      " 13  foodrinks        5883 non-null   float64\n",
      " 14  ground_staff     7071 non-null   float64\n",
      " 15  entertainment    3918 non-null   float64\n",
      " 16  connectivity     1863 non-null   float64\n",
      " 17  value_for_money  7127 non-null   float64\n",
      " 18  recommended      7127 non-null   object \n",
      "dtypes: bool(1), float64(7), object(11)\n",
      "memory usage: 1.0+ MB\n"
     ]
    }
   ],
   "source": [
    "df.info()"
   ]
  },
  {
   "cell_type": "code",
   "execution_count": 947,
   "metadata": {},
   "outputs": [
    {
     "data": {
      "text/plain": [
       "class_type\n",
       "Economy Class      5462\n",
       "Business Class     1266\n",
       "Premium Economy     286\n",
       "First Class         113\n",
       "Name: count, dtype: int64"
      ]
     },
     "execution_count": 947,
     "metadata": {},
     "output_type": "execute_result"
    }
   ],
   "source": [
    "df.class_type.value_counts()"
   ]
  },
  {
   "cell_type": "code",
   "execution_count": 948,
   "metadata": {},
   "outputs": [
    {
     "data": {
      "text/html": [
       "<div>\n",
       "<style scoped>\n",
       "    .dataframe tbody tr th:only-of-type {\n",
       "        vertical-align: middle;\n",
       "    }\n",
       "\n",
       "    .dataframe tbody tr th {\n",
       "        vertical-align: top;\n",
       "    }\n",
       "\n",
       "    .dataframe thead th {\n",
       "        text-align: right;\n",
       "    }\n",
       "</style>\n",
       "<table border=\"1\" class=\"dataframe\">\n",
       "  <thead>\n",
       "    <tr style=\"text-align: right;\">\n",
       "      <th></th>\n",
       "      <th>airline</th>\n",
       "      <th>total_rate</th>\n",
       "      <th>review_title</th>\n",
       "      <th>review_date</th>\n",
       "      <th>verified</th>\n",
       "      <th>review</th>\n",
       "      <th>aircraft</th>\n",
       "      <th>traveller</th>\n",
       "      <th>class_type</th>\n",
       "      <th>route</th>\n",
       "      <th>flight_date</th>\n",
       "      <th>seat_comfort</th>\n",
       "      <th>cabin_staff</th>\n",
       "      <th>foodrinks</th>\n",
       "      <th>ground_staff</th>\n",
       "      <th>entertainment</th>\n",
       "      <th>connectivity</th>\n",
       "      <th>value_for_money</th>\n",
       "      <th>recommended</th>\n",
       "    </tr>\n",
       "  </thead>\n",
       "  <tbody>\n",
       "    <tr>\n",
       "      <th>12998</th>\n",
       "      <td>Korean Air</td>\n",
       "      <td>9</td>\n",
       "      <td>\"would recommend this airline as always\"</td>\n",
       "      <td>10th July 2019</td>\n",
       "      <td>True</td>\n",
       "      <td>Rome Fiumicino to Seoul Incheon with Korean A...</td>\n",
       "      <td>Boeing 747-8</td>\n",
       "      <td>Family Leisure</td>\n",
       "      <td>Business Class</td>\n",
       "      <td>Rome Fiumicino to Seoul Incheon</td>\n",
       "      <td>July 2019</td>\n",
       "      <td>5.0</td>\n",
       "      <td>5.0</td>\n",
       "      <td>5.0</td>\n",
       "      <td>5.0</td>\n",
       "      <td>2.0</td>\n",
       "      <td>NaN</td>\n",
       "      <td>5.0</td>\n",
       "      <td>yes</td>\n",
       "    </tr>\n",
       "  </tbody>\n",
       "</table>\n",
       "</div>"
      ],
      "text/plain": [
       "          airline total_rate                              review_title  \\\n",
       "12998  Korean Air          9  \"would recommend this airline as always\"   \n",
       "\n",
       "          review_date  verified  \\\n",
       "12998  10th July 2019      True   \n",
       "\n",
       "                                                  review      aircraft  \\\n",
       "12998   Rome Fiumicino to Seoul Incheon with Korean A...  Boeing 747-8   \n",
       "\n",
       "            traveller      class_type                             route  \\\n",
       "12998  Family Leisure  Business Class  Rome Fiumicino to Seoul Incheon    \n",
       "\n",
       "      flight_date  seat_comfort  cabin_staff  foodrinks  ground_staff  \\\n",
       "12998   July 2019           5.0          5.0        5.0           5.0   \n",
       "\n",
       "       entertainment  connectivity  value_for_money recommended  \n",
       "12998            2.0           NaN              5.0         yes  "
      ]
     },
     "execution_count": 948,
     "metadata": {},
     "output_type": "execute_result"
    }
   ],
   "source": [
    "df.sample()"
   ]
  },
  {
   "cell_type": "code",
   "execution_count": 949,
   "metadata": {},
   "outputs": [],
   "source": [
    "df.total_rate=pd.to_numeric(df.total_rate)"
   ]
  },
  {
   "cell_type": "code",
   "execution_count": 950,
   "metadata": {},
   "outputs": [],
   "source": [
    "df.reset_index(inplace=True)"
   ]
  },
  {
   "cell_type": "code",
   "execution_count": 951,
   "metadata": {},
   "outputs": [],
   "source": [
    "#hasta aquí, ok"
   ]
  },
  {
   "cell_type": "markdown",
   "metadata": {},
   "source": [
    "Imputing missing values"
   ]
  },
  {
   "cell_type": "code",
   "execution_count": 952,
   "metadata": {},
   "outputs": [
    {
     "name": "stdout",
     "output_type": "stream",
     "text": [
      "<class 'pandas.core.frame.DataFrame'>\n",
      "RangeIndex: 7127 entries, 0 to 7126\n",
      "Data columns (total 20 columns):\n",
      " #   Column           Non-Null Count  Dtype  \n",
      "---  ------           --------------  -----  \n",
      " 0   index            7127 non-null   int64  \n",
      " 1   airline          7127 non-null   object \n",
      " 2   total_rate       7127 non-null   int64  \n",
      " 3   review_title     7127 non-null   object \n",
      " 4   review_date      7127 non-null   object \n",
      " 5   verified         7127 non-null   bool   \n",
      " 6   review           7127 non-null   object \n",
      " 7   aircraft         7127 non-null   object \n",
      " 8   traveller        7127 non-null   object \n",
      " 9   class_type       7127 non-null   object \n",
      " 10  route            7120 non-null   object \n",
      " 11  flight_date      7120 non-null   object \n",
      " 12  seat_comfort     7027 non-null   float64\n",
      " 13  cabin_staff      7012 non-null   float64\n",
      " 14  foodrinks        5883 non-null   float64\n",
      " 15  ground_staff     7071 non-null   float64\n",
      " 16  entertainment    3918 non-null   float64\n",
      " 17  connectivity     1863 non-null   float64\n",
      " 18  value_for_money  7127 non-null   float64\n",
      " 19  recommended      7127 non-null   object \n",
      "dtypes: bool(1), float64(7), int64(2), object(10)\n",
      "memory usage: 1.0+ MB\n"
     ]
    }
   ],
   "source": [
    "df.info()"
   ]
  },
  {
   "cell_type": "code",
   "execution_count": 953,
   "metadata": {},
   "outputs": [],
   "source": [
    "df = df.dropna(axis=0, subset=['route']) ##to complicated to impute"
   ]
  },
  {
   "cell_type": "code",
   "execution_count": 954,
   "metadata": {},
   "outputs": [
    {
     "data": {
      "text/plain": [
       "(7120, 20)"
      ]
     },
     "execution_count": 954,
     "metadata": {},
     "output_type": "execute_result"
    }
   ],
   "source": [
    "df.shape #ok"
   ]
  },
  {
   "cell_type": "code",
   "execution_count": 955,
   "metadata": {},
   "outputs": [
    {
     "name": "stdout",
     "output_type": "stream",
     "text": [
      "<class 'pandas.core.series.Series'>\n",
      "Index: 7120 entries, 0 to 7126\n",
      "Series name: seat_comfort\n",
      "Non-Null Count  Dtype  \n",
      "--------------  -----  \n",
      "7021 non-null   float64\n",
      "dtypes: float64(1)\n",
      "memory usage: 111.2 KB\n"
     ]
    }
   ],
   "source": [
    "df.seat_comfort.info()"
   ]
  },
  {
   "cell_type": "code",
   "execution_count": 956,
   "metadata": {},
   "outputs": [],
   "source": [
    "df['seat_comfort']=df.seat_comfort.fillna(round(np.mean(df.seat_comfort))) "
   ]
  },
  {
   "cell_type": "code",
   "execution_count": 957,
   "metadata": {},
   "outputs": [
    {
     "data": {
      "text/plain": [
       "seat_comfort\n",
       "4.0    1844\n",
       "5.0    1555\n",
       "3.0    1530\n",
       "1.0    1336\n",
       "2.0     855\n",
       "Name: count, dtype: int64"
      ]
     },
     "execution_count": 957,
     "metadata": {},
     "output_type": "execute_result"
    }
   ],
   "source": [
    "df.seat_comfort.value_counts() #ok"
   ]
  },
  {
   "cell_type": "code",
   "execution_count": 958,
   "metadata": {},
   "outputs": [
    {
     "name": "stdout",
     "output_type": "stream",
     "text": [
      "<class 'pandas.core.series.Series'>\n",
      "Index: 7120 entries, 0 to 7126\n",
      "Series name: ground_staff\n",
      "Non-Null Count  Dtype  \n",
      "--------------  -----  \n",
      "7065 non-null   float64\n",
      "dtypes: float64(1)\n",
      "memory usage: 111.2 KB\n"
     ]
    }
   ],
   "source": [
    "df.ground_staff.info()"
   ]
  },
  {
   "cell_type": "code",
   "execution_count": 959,
   "metadata": {},
   "outputs": [],
   "source": [
    "df['ground_staff']=df.ground_staff.fillna(round(np.mean(df.ground_staff)))"
   ]
  },
  {
   "cell_type": "code",
   "execution_count": 960,
   "metadata": {},
   "outputs": [
    {
     "data": {
      "text/plain": [
       "ground_staff\n",
       "1.0    1872\n",
       "5.0    1870\n",
       "4.0    1656\n",
       "3.0    1071\n",
       "2.0     651\n",
       "Name: count, dtype: int64"
      ]
     },
     "execution_count": 960,
     "metadata": {},
     "output_type": "execute_result"
    }
   ],
   "source": [
    "df.ground_staff.value_counts() #ok"
   ]
  },
  {
   "cell_type": "code",
   "execution_count": 961,
   "metadata": {},
   "outputs": [
    {
     "name": "stdout",
     "output_type": "stream",
     "text": [
      "<class 'pandas.core.series.Series'>\n",
      "Index: 7120 entries, 0 to 7126\n",
      "Series name: cabin_staff\n",
      "Non-Null Count  Dtype  \n",
      "--------------  -----  \n",
      "7006 non-null   float64\n",
      "dtypes: float64(1)\n",
      "memory usage: 111.2 KB\n"
     ]
    }
   ],
   "source": [
    "df.cabin_staff.info()"
   ]
  },
  {
   "cell_type": "code",
   "execution_count": 962,
   "metadata": {},
   "outputs": [],
   "source": [
    "df['cabin_staff']=df.cabin_staff.fillna(round(np.mean(df.cabin_staff)))"
   ]
  },
  {
   "cell_type": "code",
   "execution_count": 963,
   "metadata": {},
   "outputs": [
    {
     "name": "stdout",
     "output_type": "stream",
     "text": [
      "<class 'pandas.core.frame.DataFrame'>\n",
      "Index: 7120 entries, 0 to 7126\n",
      "Data columns (total 20 columns):\n",
      " #   Column           Non-Null Count  Dtype  \n",
      "---  ------           --------------  -----  \n",
      " 0   index            7120 non-null   int64  \n",
      " 1   airline          7120 non-null   object \n",
      " 2   total_rate       7120 non-null   int64  \n",
      " 3   review_title     7120 non-null   object \n",
      " 4   review_date      7120 non-null   object \n",
      " 5   verified         7120 non-null   bool   \n",
      " 6   review           7120 non-null   object \n",
      " 7   aircraft         7120 non-null   object \n",
      " 8   traveller        7120 non-null   object \n",
      " 9   class_type       7120 non-null   object \n",
      " 10  route            7120 non-null   object \n",
      " 11  flight_date      7114 non-null   object \n",
      " 12  seat_comfort     7120 non-null   float64\n",
      " 13  cabin_staff      7120 non-null   float64\n",
      " 14  foodrinks        5878 non-null   float64\n",
      " 15  ground_staff     7120 non-null   float64\n",
      " 16  entertainment    3914 non-null   float64\n",
      " 17  connectivity     1859 non-null   float64\n",
      " 18  value_for_money  7120 non-null   float64\n",
      " 19  recommended      7120 non-null   object \n",
      "dtypes: bool(1), float64(7), int64(2), object(10)\n",
      "memory usage: 1.1+ MB\n"
     ]
    }
   ],
   "source": [
    "df.info()"
   ]
  },
  {
   "cell_type": "code",
   "execution_count": 964,
   "metadata": {},
   "outputs": [],
   "source": [
    "df = df.dropna(axis=0, subset=['foodrinks']) ##to complicated to impute"
   ]
  },
  {
   "cell_type": "code",
   "execution_count": 965,
   "metadata": {},
   "outputs": [
    {
     "data": {
      "text/plain": [
       "(5878, 20)"
      ]
     },
     "execution_count": 965,
     "metadata": {},
     "output_type": "execute_result"
    }
   ],
   "source": [
    "df.shape #we will finally stick to this? ask"
   ]
  },
  {
   "cell_type": "code",
   "execution_count": 966,
   "metadata": {},
   "outputs": [],
   "source": [
    "df['flight_date'] = df['flight_date'].fillna(df['flight_date'].mode()[0])"
   ]
  },
  {
   "cell_type": "code",
   "execution_count": 967,
   "metadata": {},
   "outputs": [
    {
     "name": "stdout",
     "output_type": "stream",
     "text": [
      "<class 'pandas.core.frame.DataFrame'>\n",
      "Index: 5878 entries, 0 to 7126\n",
      "Data columns (total 20 columns):\n",
      " #   Column           Non-Null Count  Dtype  \n",
      "---  ------           --------------  -----  \n",
      " 0   index            5878 non-null   int64  \n",
      " 1   airline          5878 non-null   object \n",
      " 2   total_rate       5878 non-null   int64  \n",
      " 3   review_title     5878 non-null   object \n",
      " 4   review_date      5878 non-null   object \n",
      " 5   verified         5878 non-null   bool   \n",
      " 6   review           5878 non-null   object \n",
      " 7   aircraft         5878 non-null   object \n",
      " 8   traveller        5878 non-null   object \n",
      " 9   class_type       5878 non-null   object \n",
      " 10  route            5878 non-null   object \n",
      " 11  flight_date      5878 non-null   object \n",
      " 12  seat_comfort     5878 non-null   float64\n",
      " 13  cabin_staff      5878 non-null   float64\n",
      " 14  foodrinks        5878 non-null   float64\n",
      " 15  ground_staff     5878 non-null   float64\n",
      " 16  entertainment    3796 non-null   float64\n",
      " 17  connectivity     1785 non-null   float64\n",
      " 18  value_for_money  5878 non-null   float64\n",
      " 19  recommended      5878 non-null   object \n",
      "dtypes: bool(1), float64(7), int64(2), object(10)\n",
      "memory usage: 924.2+ KB\n"
     ]
    }
   ],
   "source": [
    "df.info()"
   ]
  },
  {
   "cell_type": "code",
   "execution_count": 968,
   "metadata": {},
   "outputs": [],
   "source": [
    "df.drop('entertainment', axis=1, inplace=True)\n",
    "df.drop('connectivity', axis=1, inplace=True)"
   ]
  },
  {
   "cell_type": "code",
   "execution_count": 969,
   "metadata": {},
   "outputs": [
    {
     "data": {
      "text/plain": [
       "(5878, 18)"
      ]
     },
     "execution_count": 969,
     "metadata": {},
     "output_type": "execute_result"
    }
   ],
   "source": [
    "df.shape"
   ]
  },
  {
   "cell_type": "code",
   "execution_count": 970,
   "metadata": {},
   "outputs": [
    {
     "name": "stdout",
     "output_type": "stream",
     "text": [
      "<class 'pandas.core.frame.DataFrame'>\n",
      "Index: 5878 entries, 0 to 7126\n",
      "Data columns (total 18 columns):\n",
      " #   Column           Non-Null Count  Dtype  \n",
      "---  ------           --------------  -----  \n",
      " 0   index            5878 non-null   int64  \n",
      " 1   airline          5878 non-null   object \n",
      " 2   total_rate       5878 non-null   int64  \n",
      " 3   review_title     5878 non-null   object \n",
      " 4   review_date      5878 non-null   object \n",
      " 5   verified         5878 non-null   bool   \n",
      " 6   review           5878 non-null   object \n",
      " 7   aircraft         5878 non-null   object \n",
      " 8   traveller        5878 non-null   object \n",
      " 9   class_type       5878 non-null   object \n",
      " 10  route            5878 non-null   object \n",
      " 11  flight_date      5878 non-null   object \n",
      " 12  seat_comfort     5878 non-null   float64\n",
      " 13  cabin_staff      5878 non-null   float64\n",
      " 14  foodrinks        5878 non-null   float64\n",
      " 15  ground_staff     5878 non-null   float64\n",
      " 16  value_for_money  5878 non-null   float64\n",
      " 17  recommended      5878 non-null   object \n",
      "dtypes: bool(1), float64(5), int64(2), object(10)\n",
      "memory usage: 832.3+ KB\n"
     ]
    }
   ],
   "source": [
    "df.info()"
   ]
  },
  {
   "cell_type": "code",
   "execution_count": 971,
   "metadata": {},
   "outputs": [],
   "source": [
    "#clean dataset!"
   ]
  },
  {
   "cell_type": "markdown",
   "metadata": {},
   "source": [
    "Feature Engineering"
   ]
  },
  {
   "cell_type": "code",
   "execution_count": 972,
   "metadata": {},
   "outputs": [],
   "source": [
    "new = df[\"route\"].str.split(r\"\\bto\\b\", expand=True)\n"
   ]
  },
  {
   "cell_type": "code",
   "execution_count": 973,
   "metadata": {},
   "outputs": [],
   "source": [
    "new.reset_index(drop=True, inplace=True)"
   ]
  },
  {
   "cell_type": "code",
   "execution_count": 974,
   "metadata": {},
   "outputs": [
    {
     "name": "stdout",
     "output_type": "stream",
     "text": [
      "<class 'pandas.core.frame.DataFrame'>\n",
      "RangeIndex: 5878 entries, 0 to 5877\n",
      "Data columns (total 3 columns):\n",
      " #   Column  Non-Null Count  Dtype \n",
      "---  ------  --------------  ----- \n",
      " 0   0       5878 non-null   object\n",
      " 1   1       5869 non-null   object\n",
      " 2   2       3 non-null      object\n",
      "dtypes: object(3)\n",
      "memory usage: 137.9+ KB\n"
     ]
    }
   ],
   "source": [
    "new.info()"
   ]
  },
  {
   "cell_type": "code",
   "execution_count": 975,
   "metadata": {},
   "outputs": [],
   "source": [
    "df.reset_index(drop=True, inplace=True)"
   ]
  },
  {
   "cell_type": "code",
   "execution_count": 976,
   "metadata": {},
   "outputs": [],
   "source": [
    "df.drop(columns='index', inplace=True)"
   ]
  },
  {
   "cell_type": "code",
   "execution_count": 977,
   "metadata": {},
   "outputs": [
    {
     "data": {
      "text/html": [
       "<div>\n",
       "<style scoped>\n",
       "    .dataframe tbody tr th:only-of-type {\n",
       "        vertical-align: middle;\n",
       "    }\n",
       "\n",
       "    .dataframe tbody tr th {\n",
       "        vertical-align: top;\n",
       "    }\n",
       "\n",
       "    .dataframe thead th {\n",
       "        text-align: right;\n",
       "    }\n",
       "</style>\n",
       "<table border=\"1\" class=\"dataframe\">\n",
       "  <thead>\n",
       "    <tr style=\"text-align: right;\">\n",
       "      <th></th>\n",
       "      <th>airline</th>\n",
       "      <th>total_rate</th>\n",
       "      <th>review_title</th>\n",
       "      <th>review_date</th>\n",
       "      <th>verified</th>\n",
       "      <th>review</th>\n",
       "      <th>aircraft</th>\n",
       "      <th>traveller</th>\n",
       "      <th>class_type</th>\n",
       "      <th>route</th>\n",
       "      <th>flight_date</th>\n",
       "      <th>seat_comfort</th>\n",
       "      <th>cabin_staff</th>\n",
       "      <th>foodrinks</th>\n",
       "      <th>ground_staff</th>\n",
       "      <th>value_for_money</th>\n",
       "      <th>recommended</th>\n",
       "    </tr>\n",
       "  </thead>\n",
       "  <tbody>\n",
       "    <tr>\n",
       "      <th>4843</th>\n",
       "      <td>South African Airways</td>\n",
       "      <td>9</td>\n",
       "      <td>\"Wonderful airline to fly\"</td>\n",
       "      <td>4th December 2019</td>\n",
       "      <td>True</td>\n",
       "      <td>Lilongwe to London via Johannesburg. Wonderf...</td>\n",
       "      <td>A330-300</td>\n",
       "      <td>Business</td>\n",
       "      <td>Business Class</td>\n",
       "      <td>Lilongwe to London via Johannesburg</td>\n",
       "      <td>November 2019</td>\n",
       "      <td>3.0</td>\n",
       "      <td>5.0</td>\n",
       "      <td>5.0</td>\n",
       "      <td>4.0</td>\n",
       "      <td>4.0</td>\n",
       "      <td>yes</td>\n",
       "    </tr>\n",
       "  </tbody>\n",
       "</table>\n",
       "</div>"
      ],
      "text/plain": [
       "                    airline  total_rate                review_title  \\\n",
       "4843  South African Airways           9  \"Wonderful airline to fly\"   \n",
       "\n",
       "            review_date  verified  \\\n",
       "4843  4th December 2019      True   \n",
       "\n",
       "                                                 review  aircraft traveller  \\\n",
       "4843    Lilongwe to London via Johannesburg. Wonderf...  A330-300  Business   \n",
       "\n",
       "          class_type                                route    flight_date  \\\n",
       "4843  Business Class  Lilongwe to London via Johannesburg  November 2019   \n",
       "\n",
       "      seat_comfort  cabin_staff  foodrinks  ground_staff  value_for_money  \\\n",
       "4843           3.0          5.0        5.0           4.0              4.0   \n",
       "\n",
       "     recommended  \n",
       "4843         yes  "
      ]
     },
     "execution_count": 977,
     "metadata": {},
     "output_type": "execute_result"
    }
   ],
   "source": [
    "df.sample()"
   ]
  },
  {
   "cell_type": "code",
   "execution_count": 978,
   "metadata": {},
   "outputs": [],
   "source": [
    "df = pd.concat([df.iloc[:, :10], new, df.iloc[:, 10:]], axis=1)"
   ]
  },
  {
   "cell_type": "code",
   "execution_count": 979,
   "metadata": {},
   "outputs": [
    {
     "data": {
      "text/html": [
       "<div>\n",
       "<style scoped>\n",
       "    .dataframe tbody tr th:only-of-type {\n",
       "        vertical-align: middle;\n",
       "    }\n",
       "\n",
       "    .dataframe tbody tr th {\n",
       "        vertical-align: top;\n",
       "    }\n",
       "\n",
       "    .dataframe thead th {\n",
       "        text-align: right;\n",
       "    }\n",
       "</style>\n",
       "<table border=\"1\" class=\"dataframe\">\n",
       "  <thead>\n",
       "    <tr style=\"text-align: right;\">\n",
       "      <th></th>\n",
       "      <th>airline</th>\n",
       "      <th>total_rate</th>\n",
       "      <th>review_title</th>\n",
       "      <th>review_date</th>\n",
       "      <th>verified</th>\n",
       "      <th>review</th>\n",
       "      <th>aircraft</th>\n",
       "      <th>traveller</th>\n",
       "      <th>class_type</th>\n",
       "      <th>route</th>\n",
       "      <th>0</th>\n",
       "      <th>1</th>\n",
       "      <th>2</th>\n",
       "      <th>flight_date</th>\n",
       "      <th>seat_comfort</th>\n",
       "      <th>cabin_staff</th>\n",
       "      <th>foodrinks</th>\n",
       "      <th>ground_staff</th>\n",
       "      <th>value_for_money</th>\n",
       "      <th>recommended</th>\n",
       "    </tr>\n",
       "  </thead>\n",
       "  <tbody>\n",
       "    <tr>\n",
       "      <th>0</th>\n",
       "      <td>AB Aviation</td>\n",
       "      <td>1</td>\n",
       "      <td>\"Not a good airline\"</td>\n",
       "      <td>25th June 2019</td>\n",
       "      <td>True</td>\n",
       "      <td>Moroni to Anjouan. It is a very small airline...</td>\n",
       "      <td>E120</td>\n",
       "      <td>Solo Leisure</td>\n",
       "      <td>Economy Class</td>\n",
       "      <td>Moroni to Anjouan</td>\n",
       "      <td>Moroni</td>\n",
       "      <td>Anjouan</td>\n",
       "      <td>None</td>\n",
       "      <td>June 2019</td>\n",
       "      <td>2.0</td>\n",
       "      <td>2.0</td>\n",
       "      <td>1.0</td>\n",
       "      <td>1.0</td>\n",
       "      <td>2.0</td>\n",
       "      <td>no</td>\n",
       "    </tr>\n",
       "    <tr>\n",
       "      <th>1</th>\n",
       "      <td>AB Aviation</td>\n",
       "      <td>1</td>\n",
       "      <td>\"flight was fortunately short\"</td>\n",
       "      <td>25th June 2019</td>\n",
       "      <td>True</td>\n",
       "      <td>Anjouan to Dzaoudzi. A very small airline an...</td>\n",
       "      <td>Embraer E120</td>\n",
       "      <td>Solo Leisure</td>\n",
       "      <td>Economy Class</td>\n",
       "      <td>Anjouan to Dzaoudzi</td>\n",
       "      <td>Anjouan</td>\n",
       "      <td>Dzaoudzi</td>\n",
       "      <td>None</td>\n",
       "      <td>June 2019</td>\n",
       "      <td>2.0</td>\n",
       "      <td>1.0</td>\n",
       "      <td>1.0</td>\n",
       "      <td>1.0</td>\n",
       "      <td>2.0</td>\n",
       "      <td>no</td>\n",
       "    </tr>\n",
       "    <tr>\n",
       "      <th>2</th>\n",
       "      <td>Adria Airways</td>\n",
       "      <td>1</td>\n",
       "      <td>\"Had very bad experience\"</td>\n",
       "      <td>17th September 2019</td>\n",
       "      <td>True</td>\n",
       "      <td>Had very bad experience with rerouted and ca...</td>\n",
       "      <td>CR 900</td>\n",
       "      <td>Couple Leisure</td>\n",
       "      <td>Economy Class</td>\n",
       "      <td>Sarajevo to Ljubljana</td>\n",
       "      <td>Sarajevo</td>\n",
       "      <td>Ljubljana</td>\n",
       "      <td>None</td>\n",
       "      <td>September 2019</td>\n",
       "      <td>1.0</td>\n",
       "      <td>1.0</td>\n",
       "      <td>1.0</td>\n",
       "      <td>1.0</td>\n",
       "      <td>1.0</td>\n",
       "      <td>no</td>\n",
       "    </tr>\n",
       "    <tr>\n",
       "      <th>3</th>\n",
       "      <td>Adria Airways</td>\n",
       "      <td>1</td>\n",
       "      <td>\"book another company\"</td>\n",
       "      <td>24th August 2019</td>\n",
       "      <td>False</td>\n",
       "      <td>First of all, I am not complaining about a s...</td>\n",
       "      <td>Bombardier CRJ</td>\n",
       "      <td>Solo Leisure</td>\n",
       "      <td>Economy Class</td>\n",
       "      <td>Timisoara to Munich</td>\n",
       "      <td>Timisoara</td>\n",
       "      <td>Munich</td>\n",
       "      <td>None</td>\n",
       "      <td>August 2019</td>\n",
       "      <td>1.0</td>\n",
       "      <td>1.0</td>\n",
       "      <td>1.0</td>\n",
       "      <td>1.0</td>\n",
       "      <td>1.0</td>\n",
       "      <td>no</td>\n",
       "    </tr>\n",
       "    <tr>\n",
       "      <th>4</th>\n",
       "      <td>Adria Airways</td>\n",
       "      <td>3</td>\n",
       "      <td>\"should be ashamed of their operations\"</td>\n",
       "      <td>5th December 2017</td>\n",
       "      <td>True</td>\n",
       "      <td>Ljubljana to Vienna. Overall, the flight ser...</td>\n",
       "      <td>ATR-72</td>\n",
       "      <td>Solo Leisure</td>\n",
       "      <td>Economy Class</td>\n",
       "      <td>Ljubljana to Vienna</td>\n",
       "      <td>Ljubljana</td>\n",
       "      <td>Vienna</td>\n",
       "      <td>None</td>\n",
       "      <td>September 2017</td>\n",
       "      <td>2.0</td>\n",
       "      <td>4.0</td>\n",
       "      <td>1.0</td>\n",
       "      <td>1.0</td>\n",
       "      <td>3.0</td>\n",
       "      <td>no</td>\n",
       "    </tr>\n",
       "    <tr>\n",
       "      <th>...</th>\n",
       "      <td>...</td>\n",
       "      <td>...</td>\n",
       "      <td>...</td>\n",
       "      <td>...</td>\n",
       "      <td>...</td>\n",
       "      <td>...</td>\n",
       "      <td>...</td>\n",
       "      <td>...</td>\n",
       "      <td>...</td>\n",
       "      <td>...</td>\n",
       "      <td>...</td>\n",
       "      <td>...</td>\n",
       "      <td>...</td>\n",
       "      <td>...</td>\n",
       "      <td>...</td>\n",
       "      <td>...</td>\n",
       "      <td>...</td>\n",
       "      <td>...</td>\n",
       "      <td>...</td>\n",
       "      <td>...</td>\n",
       "    </tr>\n",
       "    <tr>\n",
       "      <th>5873</th>\n",
       "      <td>ZIPAIR</td>\n",
       "      <td>1</td>\n",
       "      <td>ZIPAIR customer review</td>\n",
       "      <td>21st April 2023</td>\n",
       "      <td>True</td>\n",
       "      <td>The seats are abysmal for a long-haul flight...</td>\n",
       "      <td>Boeing 787</td>\n",
       "      <td>Couple Leisure</td>\n",
       "      <td>Economy Class</td>\n",
       "      <td>Los Angeles to Tokyo</td>\n",
       "      <td>Los Angeles</td>\n",
       "      <td>Tokyo</td>\n",
       "      <td>None</td>\n",
       "      <td>April 2023</td>\n",
       "      <td>1.0</td>\n",
       "      <td>2.0</td>\n",
       "      <td>1.0</td>\n",
       "      <td>1.0</td>\n",
       "      <td>1.0</td>\n",
       "      <td>no</td>\n",
       "    </tr>\n",
       "    <tr>\n",
       "      <th>5874</th>\n",
       "      <td>ZIPAIR</td>\n",
       "      <td>1</td>\n",
       "      <td>\"I cannot say enough good things about Zipair\"</td>\n",
       "      <td>21st November 2022</td>\n",
       "      <td>False</td>\n",
       "      <td>I cannot say enough good things about Zipair...</td>\n",
       "      <td>Boeing 787-8</td>\n",
       "      <td>Couple Leisure</td>\n",
       "      <td>Business Class</td>\n",
       "      <td>Los Angeles to Narita</td>\n",
       "      <td>Los Angeles</td>\n",
       "      <td>Narita</td>\n",
       "      <td>None</td>\n",
       "      <td>November 2022</td>\n",
       "      <td>5.0</td>\n",
       "      <td>5.0</td>\n",
       "      <td>4.0</td>\n",
       "      <td>5.0</td>\n",
       "      <td>5.0</td>\n",
       "      <td>yes</td>\n",
       "    </tr>\n",
       "    <tr>\n",
       "      <th>5875</th>\n",
       "      <td>ZIPAIR</td>\n",
       "      <td>9</td>\n",
       "      <td>\"I highly recommend ZipAir\"</td>\n",
       "      <td>11th November 2022</td>\n",
       "      <td>True</td>\n",
       "      <td>It was my first time with ZipAir and I was a...</td>\n",
       "      <td>Boeing 787</td>\n",
       "      <td>Solo Leisure</td>\n",
       "      <td>Economy Class</td>\n",
       "      <td>Honolulu to Tokyo Narita</td>\n",
       "      <td>Honolulu</td>\n",
       "      <td>Tokyo Narita</td>\n",
       "      <td>None</td>\n",
       "      <td>November 2022</td>\n",
       "      <td>4.0</td>\n",
       "      <td>5.0</td>\n",
       "      <td>4.0</td>\n",
       "      <td>5.0</td>\n",
       "      <td>5.0</td>\n",
       "      <td>yes</td>\n",
       "    </tr>\n",
       "    <tr>\n",
       "      <th>5876</th>\n",
       "      <td>ZIPAIR</td>\n",
       "      <td>5</td>\n",
       "      <td>\"insist I paid for another 23kg of luggage\"</td>\n",
       "      <td>10th November 2022</td>\n",
       "      <td>True</td>\n",
       "      <td>Twenty years in the film distribution busine...</td>\n",
       "      <td>Boeing 787</td>\n",
       "      <td>Solo Leisure</td>\n",
       "      <td>Economy Class</td>\n",
       "      <td>Tokyo Narita to Singapore</td>\n",
       "      <td>Tokyo Narita</td>\n",
       "      <td>Singapore</td>\n",
       "      <td>None</td>\n",
       "      <td>November 2022</td>\n",
       "      <td>5.0</td>\n",
       "      <td>3.0</td>\n",
       "      <td>4.0</td>\n",
       "      <td>1.0</td>\n",
       "      <td>4.0</td>\n",
       "      <td>no</td>\n",
       "    </tr>\n",
       "    <tr>\n",
       "      <th>5877</th>\n",
       "      <td>ZIPAIR</td>\n",
       "      <td>6</td>\n",
       "      <td>\"It was immaculately clean\"</td>\n",
       "      <td>23rd May 2022</td>\n",
       "      <td>True</td>\n",
       "      <td>Zipair is JAL’s budget airline. They don’t ha...</td>\n",
       "      <td>Dreamliner</td>\n",
       "      <td>Business</td>\n",
       "      <td>Business Class</td>\n",
       "      <td>Tokyo to Los Angeles</td>\n",
       "      <td>Tokyo</td>\n",
       "      <td>Los Angeles</td>\n",
       "      <td>None</td>\n",
       "      <td>May 2022</td>\n",
       "      <td>3.0</td>\n",
       "      <td>4.0</td>\n",
       "      <td>3.0</td>\n",
       "      <td>1.0</td>\n",
       "      <td>5.0</td>\n",
       "      <td>yes</td>\n",
       "    </tr>\n",
       "  </tbody>\n",
       "</table>\n",
       "<p>5878 rows × 20 columns</p>\n",
       "</div>"
      ],
      "text/plain": [
       "            airline  total_rate  \\\n",
       "0       AB Aviation           1   \n",
       "1       AB Aviation           1   \n",
       "2     Adria Airways           1   \n",
       "3     Adria Airways           1   \n",
       "4     Adria Airways           3   \n",
       "...             ...         ...   \n",
       "5873         ZIPAIR           1   \n",
       "5874         ZIPAIR           1   \n",
       "5875         ZIPAIR           9   \n",
       "5876         ZIPAIR           5   \n",
       "5877         ZIPAIR           6   \n",
       "\n",
       "                                        review_title          review_date  \\\n",
       "0                               \"Not a good airline\"       25th June 2019   \n",
       "1                     \"flight was fortunately short\"       25th June 2019   \n",
       "2                          \"Had very bad experience\"  17th September 2019   \n",
       "3                             \"book another company\"     24th August 2019   \n",
       "4            \"should be ashamed of their operations\"    5th December 2017   \n",
       "...                                              ...                  ...   \n",
       "5873                          ZIPAIR customer review      21st April 2023   \n",
       "5874  \"I cannot say enough good things about Zipair\"   21st November 2022   \n",
       "5875                     \"I highly recommend ZipAir\"   11th November 2022   \n",
       "5876     \"insist I paid for another 23kg of luggage\"   10th November 2022   \n",
       "5877                     \"It was immaculately clean\"        23rd May 2022   \n",
       "\n",
       "      verified                                             review  \\\n",
       "0         True   Moroni to Anjouan. It is a very small airline...   \n",
       "1         True    Anjouan to Dzaoudzi. A very small airline an...   \n",
       "2         True    Had very bad experience with rerouted and ca...   \n",
       "3        False    First of all, I am not complaining about a s...   \n",
       "4         True    Ljubljana to Vienna. Overall, the flight ser...   \n",
       "...        ...                                                ...   \n",
       "5873      True    The seats are abysmal for a long-haul flight...   \n",
       "5874     False    I cannot say enough good things about Zipair...   \n",
       "5875      True    It was my first time with ZipAir and I was a...   \n",
       "5876      True    Twenty years in the film distribution busine...   \n",
       "5877      True   Zipair is JAL’s budget airline. They don’t ha...   \n",
       "\n",
       "            aircraft       traveller      class_type  \\\n",
       "0               E120    Solo Leisure   Economy Class   \n",
       "1      Embraer E120     Solo Leisure   Economy Class   \n",
       "2             CR 900  Couple Leisure   Economy Class   \n",
       "3     Bombardier CRJ    Solo Leisure   Economy Class   \n",
       "4             ATR-72    Solo Leisure   Economy Class   \n",
       "...              ...             ...             ...   \n",
       "5873      Boeing 787  Couple Leisure   Economy Class   \n",
       "5874    Boeing 787-8  Couple Leisure  Business Class   \n",
       "5875      Boeing 787    Solo Leisure   Economy Class   \n",
       "5876      Boeing 787    Solo Leisure   Economy Class   \n",
       "5877      Dreamliner        Business  Business Class   \n",
       "\n",
       "                          route              0              1     2  \\\n",
       "0             Moroni to Anjouan        Moroni         Anjouan  None   \n",
       "1           Anjouan to Dzaoudzi       Anjouan        Dzaoudzi  None   \n",
       "2         Sarajevo to Ljubljana      Sarajevo       Ljubljana  None   \n",
       "3           Timisoara to Munich     Timisoara          Munich  None   \n",
       "4           Ljubljana to Vienna     Ljubljana          Vienna  None   \n",
       "...                         ...            ...            ...   ...   \n",
       "5873       Los Angeles to Tokyo   Los Angeles           Tokyo  None   \n",
       "5874      Los Angeles to Narita   Los Angeles          Narita  None   \n",
       "5875   Honolulu to Tokyo Narita      Honolulu    Tokyo Narita  None   \n",
       "5876  Tokyo Narita to Singapore  Tokyo Narita       Singapore  None   \n",
       "5877       Tokyo to Los Angeles         Tokyo     Los Angeles  None   \n",
       "\n",
       "         flight_date  seat_comfort  cabin_staff  foodrinks  ground_staff  \\\n",
       "0          June 2019           2.0          2.0        1.0           1.0   \n",
       "1          June 2019           2.0          1.0        1.0           1.0   \n",
       "2     September 2019           1.0          1.0        1.0           1.0   \n",
       "3        August 2019           1.0          1.0        1.0           1.0   \n",
       "4     September 2017           2.0          4.0        1.0           1.0   \n",
       "...              ...           ...          ...        ...           ...   \n",
       "5873      April 2023           1.0          2.0        1.0           1.0   \n",
       "5874   November 2022           5.0          5.0        4.0           5.0   \n",
       "5875   November 2022           4.0          5.0        4.0           5.0   \n",
       "5876   November 2022           5.0          3.0        4.0           1.0   \n",
       "5877        May 2022           3.0          4.0        3.0           1.0   \n",
       "\n",
       "      value_for_money recommended  \n",
       "0                 2.0          no  \n",
       "1                 2.0          no  \n",
       "2                 1.0          no  \n",
       "3                 1.0          no  \n",
       "4                 3.0          no  \n",
       "...               ...         ...  \n",
       "5873              1.0          no  \n",
       "5874              5.0         yes  \n",
       "5875              5.0         yes  \n",
       "5876              4.0          no  \n",
       "5877              5.0         yes  \n",
       "\n",
       "[5878 rows x 20 columns]"
      ]
     },
     "execution_count": 979,
     "metadata": {},
     "output_type": "execute_result"
    }
   ],
   "source": [
    "df"
   ]
  },
  {
   "cell_type": "code",
   "execution_count": 980,
   "metadata": {},
   "outputs": [],
   "source": [
    "df.rename(columns={df.columns[10]: 'origin'}, inplace=True)\n",
    "df.rename(columns={df.columns[11]: 'destiny'}, inplace=True)"
   ]
  },
  {
   "cell_type": "code",
   "execution_count": 981,
   "metadata": {},
   "outputs": [],
   "source": [
    "df.drop(columns=df.columns[12], inplace=True)"
   ]
  },
  {
   "cell_type": "code",
   "execution_count": 982,
   "metadata": {},
   "outputs": [
    {
     "data": {
      "text/plain": [
       "(5878, 19)"
      ]
     },
     "execution_count": 982,
     "metadata": {},
     "output_type": "execute_result"
    }
   ],
   "source": [
    "df.shape"
   ]
  },
  {
   "cell_type": "code",
   "execution_count": 983,
   "metadata": {},
   "outputs": [
    {
     "data": {
      "text/plain": [
       "destiny\n",
       "Bangkok              125\n",
       "London                95\n",
       "Singapore             87\n",
       "Hong Kong             69\n",
       "Sydney                60\n",
       "                    ... \n",
       "Lisbon via Geneve      1\n",
       "CUC                    1\n",
       "EOH                    1\n",
       "Pereira                1\n",
       "Ndola                  1\n",
       "Name: count, Length: 2219, dtype: int64"
      ]
     },
     "execution_count": 983,
     "metadata": {},
     "output_type": "execute_result"
    }
   ],
   "source": [
    "df.destiny.value_counts()"
   ]
  },
  {
   "cell_type": "code",
   "execution_count": 984,
   "metadata": {},
   "outputs": [],
   "source": [
    "new2 = df[\"destiny\"].str.split(r\"\\bvia\\b\", expand=True)"
   ]
  },
  {
   "cell_type": "code",
   "execution_count": 986,
   "metadata": {},
   "outputs": [
    {
     "data": {
      "text/html": [
       "<div>\n",
       "<style scoped>\n",
       "    .dataframe tbody tr th:only-of-type {\n",
       "        vertical-align: middle;\n",
       "    }\n",
       "\n",
       "    .dataframe tbody tr th {\n",
       "        vertical-align: top;\n",
       "    }\n",
       "\n",
       "    .dataframe thead th {\n",
       "        text-align: right;\n",
       "    }\n",
       "</style>\n",
       "<table border=\"1\" class=\"dataframe\">\n",
       "  <thead>\n",
       "    <tr style=\"text-align: right;\">\n",
       "      <th></th>\n",
       "      <th>airline</th>\n",
       "      <th>total_rate</th>\n",
       "      <th>review_title</th>\n",
       "      <th>review_date</th>\n",
       "      <th>verified</th>\n",
       "      <th>review</th>\n",
       "      <th>aircraft</th>\n",
       "      <th>traveller</th>\n",
       "      <th>class_type</th>\n",
       "      <th>route</th>\n",
       "      <th>origin</th>\n",
       "      <th>destiny</th>\n",
       "      <th>flight_date</th>\n",
       "      <th>seat_comfort</th>\n",
       "      <th>cabin_staff</th>\n",
       "      <th>foodrinks</th>\n",
       "      <th>ground_staff</th>\n",
       "      <th>value_for_money</th>\n",
       "      <th>recommended</th>\n",
       "    </tr>\n",
       "  </thead>\n",
       "  <tbody>\n",
       "    <tr>\n",
       "      <th>0</th>\n",
       "      <td>AB Aviation</td>\n",
       "      <td>1</td>\n",
       "      <td>\"Not a good airline\"</td>\n",
       "      <td>25th June 2019</td>\n",
       "      <td>True</td>\n",
       "      <td>Moroni to Anjouan. It is a very small airline...</td>\n",
       "      <td>E120</td>\n",
       "      <td>Solo Leisure</td>\n",
       "      <td>Economy Class</td>\n",
       "      <td>Moroni to Anjouan</td>\n",
       "      <td>Moroni</td>\n",
       "      <td>Anjouan</td>\n",
       "      <td>June 2019</td>\n",
       "      <td>2.0</td>\n",
       "      <td>2.0</td>\n",
       "      <td>1.0</td>\n",
       "      <td>1.0</td>\n",
       "      <td>2.0</td>\n",
       "      <td>no</td>\n",
       "    </tr>\n",
       "    <tr>\n",
       "      <th>1</th>\n",
       "      <td>AB Aviation</td>\n",
       "      <td>1</td>\n",
       "      <td>\"flight was fortunately short\"</td>\n",
       "      <td>25th June 2019</td>\n",
       "      <td>True</td>\n",
       "      <td>Anjouan to Dzaoudzi. A very small airline an...</td>\n",
       "      <td>Embraer E120</td>\n",
       "      <td>Solo Leisure</td>\n",
       "      <td>Economy Class</td>\n",
       "      <td>Anjouan to Dzaoudzi</td>\n",
       "      <td>Anjouan</td>\n",
       "      <td>Dzaoudzi</td>\n",
       "      <td>June 2019</td>\n",
       "      <td>2.0</td>\n",
       "      <td>1.0</td>\n",
       "      <td>1.0</td>\n",
       "      <td>1.0</td>\n",
       "      <td>2.0</td>\n",
       "      <td>no</td>\n",
       "    </tr>\n",
       "    <tr>\n",
       "      <th>2</th>\n",
       "      <td>Adria Airways</td>\n",
       "      <td>1</td>\n",
       "      <td>\"Had very bad experience\"</td>\n",
       "      <td>17th September 2019</td>\n",
       "      <td>True</td>\n",
       "      <td>Had very bad experience with rerouted and ca...</td>\n",
       "      <td>CR 900</td>\n",
       "      <td>Couple Leisure</td>\n",
       "      <td>Economy Class</td>\n",
       "      <td>Sarajevo to Ljubljana</td>\n",
       "      <td>Sarajevo</td>\n",
       "      <td>Ljubljana</td>\n",
       "      <td>September 2019</td>\n",
       "      <td>1.0</td>\n",
       "      <td>1.0</td>\n",
       "      <td>1.0</td>\n",
       "      <td>1.0</td>\n",
       "      <td>1.0</td>\n",
       "      <td>no</td>\n",
       "    </tr>\n",
       "    <tr>\n",
       "      <th>3</th>\n",
       "      <td>Adria Airways</td>\n",
       "      <td>1</td>\n",
       "      <td>\"book another company\"</td>\n",
       "      <td>24th August 2019</td>\n",
       "      <td>False</td>\n",
       "      <td>First of all, I am not complaining about a s...</td>\n",
       "      <td>Bombardier CRJ</td>\n",
       "      <td>Solo Leisure</td>\n",
       "      <td>Economy Class</td>\n",
       "      <td>Timisoara to Munich</td>\n",
       "      <td>Timisoara</td>\n",
       "      <td>Munich</td>\n",
       "      <td>August 2019</td>\n",
       "      <td>1.0</td>\n",
       "      <td>1.0</td>\n",
       "      <td>1.0</td>\n",
       "      <td>1.0</td>\n",
       "      <td>1.0</td>\n",
       "      <td>no</td>\n",
       "    </tr>\n",
       "    <tr>\n",
       "      <th>4</th>\n",
       "      <td>Adria Airways</td>\n",
       "      <td>3</td>\n",
       "      <td>\"should be ashamed of their operations\"</td>\n",
       "      <td>5th December 2017</td>\n",
       "      <td>True</td>\n",
       "      <td>Ljubljana to Vienna. Overall, the flight ser...</td>\n",
       "      <td>ATR-72</td>\n",
       "      <td>Solo Leisure</td>\n",
       "      <td>Economy Class</td>\n",
       "      <td>Ljubljana to Vienna</td>\n",
       "      <td>Ljubljana</td>\n",
       "      <td>Vienna</td>\n",
       "      <td>September 2017</td>\n",
       "      <td>2.0</td>\n",
       "      <td>4.0</td>\n",
       "      <td>1.0</td>\n",
       "      <td>1.0</td>\n",
       "      <td>3.0</td>\n",
       "      <td>no</td>\n",
       "    </tr>\n",
       "  </tbody>\n",
       "</table>\n",
       "</div>"
      ],
      "text/plain": [
       "         airline  total_rate                             review_title  \\\n",
       "0    AB Aviation           1                     \"Not a good airline\"   \n",
       "1    AB Aviation           1           \"flight was fortunately short\"   \n",
       "2  Adria Airways           1                \"Had very bad experience\"   \n",
       "3  Adria Airways           1                   \"book another company\"   \n",
       "4  Adria Airways           3  \"should be ashamed of their operations\"   \n",
       "\n",
       "           review_date  verified  \\\n",
       "0       25th June 2019      True   \n",
       "1       25th June 2019      True   \n",
       "2  17th September 2019      True   \n",
       "3     24th August 2019     False   \n",
       "4    5th December 2017      True   \n",
       "\n",
       "                                              review        aircraft  \\\n",
       "0   Moroni to Anjouan. It is a very small airline...            E120   \n",
       "1    Anjouan to Dzaoudzi. A very small airline an...   Embraer E120    \n",
       "2    Had very bad experience with rerouted and ca...          CR 900   \n",
       "3    First of all, I am not complaining about a s...  Bombardier CRJ   \n",
       "4    Ljubljana to Vienna. Overall, the flight ser...          ATR-72   \n",
       "\n",
       "        traveller     class_type                  route      origin  \\\n",
       "0    Solo Leisure  Economy Class      Moroni to Anjouan     Moroni    \n",
       "1    Solo Leisure  Economy Class    Anjouan to Dzaoudzi    Anjouan    \n",
       "2  Couple Leisure  Economy Class  Sarajevo to Ljubljana   Sarajevo    \n",
       "3    Solo Leisure  Economy Class    Timisoara to Munich  Timisoara    \n",
       "4    Solo Leisure  Economy Class    Ljubljana to Vienna  Ljubljana    \n",
       "\n",
       "      destiny     flight_date  seat_comfort  cabin_staff  foodrinks  \\\n",
       "0     Anjouan       June 2019           2.0          2.0        1.0   \n",
       "1    Dzaoudzi       June 2019           2.0          1.0        1.0   \n",
       "2   Ljubljana  September 2019           1.0          1.0        1.0   \n",
       "3      Munich     August 2019           1.0          1.0        1.0   \n",
       "4      Vienna  September 2017           2.0          4.0        1.0   \n",
       "\n",
       "   ground_staff  value_for_money recommended  \n",
       "0           1.0              2.0          no  \n",
       "1           1.0              2.0          no  \n",
       "2           1.0              1.0          no  \n",
       "3           1.0              1.0          no  \n",
       "4           1.0              3.0          no  "
      ]
     },
     "execution_count": 986,
     "metadata": {},
     "output_type": "execute_result"
    }
   ],
   "source": [
    "df.head()"
   ]
  },
  {
   "cell_type": "code",
   "execution_count": 988,
   "metadata": {},
   "outputs": [
    {
     "name": "stdout",
     "output_type": "stream",
     "text": [
      "<class 'pandas.core.frame.DataFrame'>\n",
      "RangeIndex: 5878 entries, 0 to 5877\n",
      "Data columns (total 19 columns):\n",
      " #   Column           Non-Null Count  Dtype  \n",
      "---  ------           --------------  -----  \n",
      " 0   airline          5878 non-null   object \n",
      " 1   total_rate       5878 non-null   int64  \n",
      " 2   review_title     5878 non-null   object \n",
      " 3   review_date      5878 non-null   object \n",
      " 4   verified         5878 non-null   bool   \n",
      " 5   review           5878 non-null   object \n",
      " 6   aircraft         5878 non-null   object \n",
      " 7   traveller        5878 non-null   object \n",
      " 8   class_type       5878 non-null   object \n",
      " 9   route            5878 non-null   object \n",
      " 10  origin           5878 non-null   object \n",
      " 11  destiny          5869 non-null   object \n",
      " 12  flight_date      5878 non-null   object \n",
      " 13  seat_comfort     5878 non-null   float64\n",
      " 14  cabin_staff      5878 non-null   float64\n",
      " 15  foodrinks        5878 non-null   float64\n",
      " 16  ground_staff     5878 non-null   float64\n",
      " 17  value_for_money  5878 non-null   float64\n",
      " 18  recommended      5878 non-null   object \n",
      "dtypes: bool(1), float64(5), int64(1), object(12)\n",
      "memory usage: 832.5+ KB\n"
     ]
    }
   ],
   "source": [
    "df.info()"
   ]
  },
  {
   "cell_type": "code",
   "execution_count": 990,
   "metadata": {},
   "outputs": [
    {
     "data": {
      "text/plain": [
       "2219"
      ]
     },
     "execution_count": 990,
     "metadata": {},
     "output_type": "execute_result"
    }
   ],
   "source": [
    "df"
   ]
  },
  {
   "cell_type": "code",
   "execution_count": null,
   "metadata": {},
   "outputs": [],
   "source": [
    "##### FALTA POR QUITAR LA ESCALA. crear una booleana que sea escala sí/no"
   ]
  },
  {
   "cell_type": "markdown",
   "metadata": {},
   "source": [
    "Questions"
   ]
  },
  {
   "cell_type": "markdown",
   "metadata": {},
   "source": [
    "1- reviews over time: prophet\n",
    "2- classification system: creating an overall rating, recommend which is the best airline\n",
    "3- classification system: including a country, which is the best airline to use\n",
    "4- what does affect that an airline is recommended or not (logit)\n",
    "5- clustering\n",
    "6- sentiment analysis\n",
    "7- Tableau: que metiendo un avion me diga reviews, a donde vuela, etc.\n",
    "\n",
    "\n",
    "\n"
   ]
  },
  {
   "cell_type": "code",
   "execution_count": null,
   "metadata": {},
   "outputs": [],
   "source": [
    "df[\"Airline Name\"].nunique()"
   ]
  },
  {
   "cell_type": "code",
   "execution_count": null,
   "metadata": {},
   "outputs": [],
   "source": [
    "(df[\"Airline Name\"]== 'British airways').sum()\n"
   ]
  },
  {
   "cell_type": "code",
   "execution_count": null,
   "metadata": {},
   "outputs": [],
   "source": []
  }
 ],
 "metadata": {
  "kernelspec": {
   "display_name": "ironhack",
   "language": "python",
   "name": "python3"
  },
  "language_info": {
   "codemirror_mode": {
    "name": "ipython",
    "version": 3
   },
   "file_extension": ".py",
   "mimetype": "text/x-python",
   "name": "python",
   "nbconvert_exporter": "python",
   "pygments_lexer": "ipython3",
   "version": "3.11.7"
  }
 },
 "nbformat": 4,
 "nbformat_minor": 2
}
