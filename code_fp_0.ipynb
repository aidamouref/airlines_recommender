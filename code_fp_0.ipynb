{
 "cells": [
  {
   "cell_type": "markdown",
   "metadata": {},
   "source": [
    "Import the data"
   ]
  },
  {
   "cell_type": "code",
   "execution_count": 122,
   "metadata": {},
   "outputs": [],
   "source": [
    "import pandas as pd\n",
    "import numpy as np\n",
    "\n",
    "import warnings\n",
    "warnings.filterwarnings('ignore')"
   ]
  },
  {
   "cell_type": "code",
   "execution_count": 123,
   "metadata": {},
   "outputs": [],
   "source": [
    "df=pd.read_csv('datasets/airlines_reviews.csv')"
   ]
  },
  {
   "cell_type": "code",
   "execution_count": 124,
   "metadata": {},
   "outputs": [
    {
     "data": {
      "text/html": [
       "<div>\n",
       "<style scoped>\n",
       "    .dataframe tbody tr th:only-of-type {\n",
       "        vertical-align: middle;\n",
       "    }\n",
       "\n",
       "    .dataframe tbody tr th {\n",
       "        vertical-align: top;\n",
       "    }\n",
       "\n",
       "    .dataframe thead th {\n",
       "        text-align: right;\n",
       "    }\n",
       "</style>\n",
       "<table border=\"1\" class=\"dataframe\">\n",
       "  <thead>\n",
       "    <tr style=\"text-align: right;\">\n",
       "      <th></th>\n",
       "      <th>Unnamed: 0</th>\n",
       "      <th>Airline Name</th>\n",
       "      <th>Overall_Rating</th>\n",
       "      <th>Review_Title</th>\n",
       "      <th>Review Date</th>\n",
       "      <th>Verified</th>\n",
       "      <th>Review</th>\n",
       "      <th>Aircraft</th>\n",
       "      <th>Type Of Traveller</th>\n",
       "      <th>Seat Type</th>\n",
       "      <th>Route</th>\n",
       "      <th>Date Flown</th>\n",
       "      <th>Seat Comfort</th>\n",
       "      <th>Cabin Staff Service</th>\n",
       "      <th>Food &amp; Beverages</th>\n",
       "      <th>Ground Service</th>\n",
       "      <th>Inflight Entertainment</th>\n",
       "      <th>Wifi &amp; Connectivity</th>\n",
       "      <th>Value For Money</th>\n",
       "      <th>Recommended</th>\n",
       "    </tr>\n",
       "  </thead>\n",
       "  <tbody>\n",
       "    <tr>\n",
       "      <th>0</th>\n",
       "      <td>0</td>\n",
       "      <td>AB Aviation</td>\n",
       "      <td>9</td>\n",
       "      <td>\"pretty decent airline\"</td>\n",
       "      <td>11th November 2019</td>\n",
       "      <td>True</td>\n",
       "      <td>Moroni to Moheli. Turned out to be a pretty ...</td>\n",
       "      <td>NaN</td>\n",
       "      <td>Solo Leisure</td>\n",
       "      <td>Economy Class</td>\n",
       "      <td>Moroni to Moheli</td>\n",
       "      <td>November 2019</td>\n",
       "      <td>4.0</td>\n",
       "      <td>5.0</td>\n",
       "      <td>4.0</td>\n",
       "      <td>4.0</td>\n",
       "      <td>NaN</td>\n",
       "      <td>NaN</td>\n",
       "      <td>3.0</td>\n",
       "      <td>yes</td>\n",
       "    </tr>\n",
       "    <tr>\n",
       "      <th>1</th>\n",
       "      <td>1</td>\n",
       "      <td>AB Aviation</td>\n",
       "      <td>1</td>\n",
       "      <td>\"Not a good airline\"</td>\n",
       "      <td>25th June 2019</td>\n",
       "      <td>True</td>\n",
       "      <td>Moroni to Anjouan. It is a very small airline...</td>\n",
       "      <td>E120</td>\n",
       "      <td>Solo Leisure</td>\n",
       "      <td>Economy Class</td>\n",
       "      <td>Moroni to Anjouan</td>\n",
       "      <td>June 2019</td>\n",
       "      <td>2.0</td>\n",
       "      <td>2.0</td>\n",
       "      <td>1.0</td>\n",
       "      <td>1.0</td>\n",
       "      <td>NaN</td>\n",
       "      <td>NaN</td>\n",
       "      <td>2.0</td>\n",
       "      <td>no</td>\n",
       "    </tr>\n",
       "    <tr>\n",
       "      <th>2</th>\n",
       "      <td>2</td>\n",
       "      <td>AB Aviation</td>\n",
       "      <td>1</td>\n",
       "      <td>\"flight was fortunately short\"</td>\n",
       "      <td>25th June 2019</td>\n",
       "      <td>True</td>\n",
       "      <td>Anjouan to Dzaoudzi. A very small airline an...</td>\n",
       "      <td>Embraer E120</td>\n",
       "      <td>Solo Leisure</td>\n",
       "      <td>Economy Class</td>\n",
       "      <td>Anjouan to Dzaoudzi</td>\n",
       "      <td>June 2019</td>\n",
       "      <td>2.0</td>\n",
       "      <td>1.0</td>\n",
       "      <td>1.0</td>\n",
       "      <td>1.0</td>\n",
       "      <td>NaN</td>\n",
       "      <td>NaN</td>\n",
       "      <td>2.0</td>\n",
       "      <td>no</td>\n",
       "    </tr>\n",
       "    <tr>\n",
       "      <th>3</th>\n",
       "      <td>3</td>\n",
       "      <td>Adria Airways</td>\n",
       "      <td>1</td>\n",
       "      <td>\"I will never fly again with Adria\"</td>\n",
       "      <td>28th September 2019</td>\n",
       "      <td>False</td>\n",
       "      <td>Please do a favor yourself and do not fly wi...</td>\n",
       "      <td>NaN</td>\n",
       "      <td>Solo Leisure</td>\n",
       "      <td>Economy Class</td>\n",
       "      <td>Frankfurt to Pristina</td>\n",
       "      <td>September 2019</td>\n",
       "      <td>1.0</td>\n",
       "      <td>1.0</td>\n",
       "      <td>NaN</td>\n",
       "      <td>1.0</td>\n",
       "      <td>NaN</td>\n",
       "      <td>NaN</td>\n",
       "      <td>1.0</td>\n",
       "      <td>no</td>\n",
       "    </tr>\n",
       "    <tr>\n",
       "      <th>4</th>\n",
       "      <td>4</td>\n",
       "      <td>Adria Airways</td>\n",
       "      <td>1</td>\n",
       "      <td>\"it ruined our last days of holidays\"</td>\n",
       "      <td>24th September 2019</td>\n",
       "      <td>True</td>\n",
       "      <td>Do not book a flight with this airline! My fr...</td>\n",
       "      <td>NaN</td>\n",
       "      <td>Couple Leisure</td>\n",
       "      <td>Economy Class</td>\n",
       "      <td>Sofia to Amsterdam via Ljubljana</td>\n",
       "      <td>September 2019</td>\n",
       "      <td>1.0</td>\n",
       "      <td>1.0</td>\n",
       "      <td>1.0</td>\n",
       "      <td>1.0</td>\n",
       "      <td>1.0</td>\n",
       "      <td>1.0</td>\n",
       "      <td>1.0</td>\n",
       "      <td>no</td>\n",
       "    </tr>\n",
       "  </tbody>\n",
       "</table>\n",
       "</div>"
      ],
      "text/plain": [
       "   Unnamed: 0   Airline Name Overall_Rating  \\\n",
       "0           0    AB Aviation              9   \n",
       "1           1    AB Aviation              1   \n",
       "2           2    AB Aviation              1   \n",
       "3           3  Adria Airways              1   \n",
       "4           4  Adria Airways              1   \n",
       "\n",
       "                            Review_Title          Review Date  Verified  \\\n",
       "0                \"pretty decent airline\"   11th November 2019      True   \n",
       "1                   \"Not a good airline\"       25th June 2019      True   \n",
       "2         \"flight was fortunately short\"       25th June 2019      True   \n",
       "3    \"I will never fly again with Adria\"  28th September 2019     False   \n",
       "4  \"it ruined our last days of holidays\"  24th September 2019      True   \n",
       "\n",
       "                                              Review       Aircraft  \\\n",
       "0    Moroni to Moheli. Turned out to be a pretty ...            NaN   \n",
       "1   Moroni to Anjouan. It is a very small airline...           E120   \n",
       "2    Anjouan to Dzaoudzi. A very small airline an...  Embraer E120    \n",
       "3    Please do a favor yourself and do not fly wi...            NaN   \n",
       "4   Do not book a flight with this airline! My fr...            NaN   \n",
       "\n",
       "  Type Of Traveller      Seat Type                             Route  \\\n",
       "0      Solo Leisure  Economy Class                  Moroni to Moheli   \n",
       "1      Solo Leisure  Economy Class                 Moroni to Anjouan   \n",
       "2      Solo Leisure  Economy Class               Anjouan to Dzaoudzi   \n",
       "3      Solo Leisure  Economy Class             Frankfurt to Pristina   \n",
       "4    Couple Leisure  Economy Class  Sofia to Amsterdam via Ljubljana   \n",
       "\n",
       "       Date Flown  Seat Comfort  Cabin Staff Service  Food & Beverages  \\\n",
       "0   November 2019           4.0                  5.0               4.0   \n",
       "1       June 2019           2.0                  2.0               1.0   \n",
       "2       June 2019           2.0                  1.0               1.0   \n",
       "3  September 2019           1.0                  1.0               NaN   \n",
       "4  September 2019           1.0                  1.0               1.0   \n",
       "\n",
       "   Ground Service  Inflight Entertainment  Wifi & Connectivity  \\\n",
       "0             4.0                     NaN                  NaN   \n",
       "1             1.0                     NaN                  NaN   \n",
       "2             1.0                     NaN                  NaN   \n",
       "3             1.0                     NaN                  NaN   \n",
       "4             1.0                     1.0                  1.0   \n",
       "\n",
       "   Value For Money Recommended  \n",
       "0              3.0         yes  \n",
       "1              2.0          no  \n",
       "2              2.0          no  \n",
       "3              1.0          no  \n",
       "4              1.0          no  "
      ]
     },
     "execution_count": 124,
     "metadata": {},
     "output_type": "execute_result"
    }
   ],
   "source": [
    "df.head()\n"
   ]
  },
  {
   "cell_type": "code",
   "execution_count": 125,
   "metadata": {},
   "outputs": [
    {
     "name": "stdout",
     "output_type": "stream",
     "text": [
      "<class 'pandas.core.frame.DataFrame'>\n",
      "RangeIndex: 23171 entries, 0 to 23170\n",
      "Data columns (total 20 columns):\n",
      " #   Column                  Non-Null Count  Dtype  \n",
      "---  ------                  --------------  -----  \n",
      " 0   Unnamed: 0              23171 non-null  int64  \n",
      " 1   Airline Name            23171 non-null  object \n",
      " 2   Overall_Rating          23171 non-null  object \n",
      " 3   Review_Title            23171 non-null  object \n",
      " 4   Review Date             23171 non-null  object \n",
      " 5   Verified                23171 non-null  bool   \n",
      " 6   Review                  23171 non-null  object \n",
      " 7   Aircraft                7129 non-null   object \n",
      " 8   Type Of Traveller       19433 non-null  object \n",
      " 9   Seat Type               22075 non-null  object \n",
      " 10  Route                   19343 non-null  object \n",
      " 11  Date Flown              19417 non-null  object \n",
      " 12  Seat Comfort            19016 non-null  float64\n",
      " 13  Cabin Staff Service     18911 non-null  float64\n",
      " 14  Food & Beverages        14500 non-null  float64\n",
      " 15  Ground Service          18378 non-null  float64\n",
      " 16  Inflight Entertainment  10829 non-null  float64\n",
      " 17  Wifi & Connectivity     5920 non-null   float64\n",
      " 18  Value For Money         22105 non-null  float64\n",
      " 19  Recommended             23171 non-null  object \n",
      "dtypes: bool(1), float64(7), int64(1), object(11)\n",
      "memory usage: 3.4+ MB\n"
     ]
    }
   ],
   "source": [
    "df.info()\n"
   ]
  },
  {
   "cell_type": "markdown",
   "metadata": {},
   "source": [
    "EDA"
   ]
  },
  {
   "cell_type": "code",
   "execution_count": 126,
   "metadata": {},
   "outputs": [
    {
     "name": "stdout",
     "output_type": "stream",
     "text": [
      "10th April 2005\n",
      "9th September 2022\n"
     ]
    }
   ],
   "source": [
    "print(df[\"Review Date\"].min())\n",
    "print(df[\"Review Date\"].max())\n",
    "#to check if we have enough time frame for the time series"
   ]
  },
  {
   "cell_type": "code",
   "execution_count": 127,
   "metadata": {},
   "outputs": [],
   "source": [
    "#let's stick to the data where we have information on the aircraft ---23k to 7k"
   ]
  },
  {
   "cell_type": "code",
   "execution_count": 128,
   "metadata": {},
   "outputs": [],
   "source": [
    "df = df.dropna(axis=0, subset=['Aircraft'])"
   ]
  },
  {
   "cell_type": "code",
   "execution_count": 129,
   "metadata": {},
   "outputs": [
    {
     "name": "stdout",
     "output_type": "stream",
     "text": [
      "<class 'pandas.core.frame.DataFrame'>\n",
      "Index: 7129 entries, 1 to 23169\n",
      "Data columns (total 20 columns):\n",
      " #   Column                  Non-Null Count  Dtype  \n",
      "---  ------                  --------------  -----  \n",
      " 0   Unnamed: 0              7129 non-null   int64  \n",
      " 1   Airline Name            7129 non-null   object \n",
      " 2   Overall_Rating          7129 non-null   object \n",
      " 3   Review_Title            7129 non-null   object \n",
      " 4   Review Date             7129 non-null   object \n",
      " 5   Verified                7129 non-null   bool   \n",
      " 6   Review                  7129 non-null   object \n",
      " 7   Aircraft                7129 non-null   object \n",
      " 8   Type Of Traveller       7129 non-null   object \n",
      " 9   Seat Type               7129 non-null   object \n",
      " 10  Route                   7122 non-null   object \n",
      " 11  Date Flown              7122 non-null   object \n",
      " 12  Seat Comfort            7029 non-null   float64\n",
      " 13  Cabin Staff Service     7014 non-null   float64\n",
      " 14  Food & Beverages        5885 non-null   float64\n",
      " 15  Ground Service          7073 non-null   float64\n",
      " 16  Inflight Entertainment  3919 non-null   float64\n",
      " 17  Wifi & Connectivity     1864 non-null   float64\n",
      " 18  Value For Money         7129 non-null   float64\n",
      " 19  Recommended             7129 non-null   object \n",
      "dtypes: bool(1), float64(7), int64(1), object(11)\n",
      "memory usage: 1.1+ MB\n"
     ]
    }
   ],
   "source": [
    "df.info()"
   ]
  },
  {
   "cell_type": "code",
   "execution_count": 130,
   "metadata": {},
   "outputs": [],
   "source": [
    "from functions import nulls"
   ]
  },
  {
   "cell_type": "code",
   "execution_count": 131,
   "metadata": {},
   "outputs": [
    {
     "data": {
      "text/html": [
       "<div>\n",
       "<style scoped>\n",
       "    .dataframe tbody tr th:only-of-type {\n",
       "        vertical-align: middle;\n",
       "    }\n",
       "\n",
       "    .dataframe tbody tr th {\n",
       "        vertical-align: top;\n",
       "    }\n",
       "\n",
       "    .dataframe thead th {\n",
       "        text-align: right;\n",
       "    }\n",
       "</style>\n",
       "<table border=\"1\" class=\"dataframe\">\n",
       "  <thead>\n",
       "    <tr style=\"text-align: right;\">\n",
       "      <th></th>\n",
       "      <th>column_name</th>\n",
       "      <th>nulls_percentage</th>\n",
       "    </tr>\n",
       "  </thead>\n",
       "  <tbody>\n",
       "    <tr>\n",
       "      <th>0</th>\n",
       "      <td>Unnamed: 0</td>\n",
       "      <td>0.000000</td>\n",
       "    </tr>\n",
       "    <tr>\n",
       "      <th>1</th>\n",
       "      <td>Airline Name</td>\n",
       "      <td>0.000000</td>\n",
       "    </tr>\n",
       "    <tr>\n",
       "      <th>2</th>\n",
       "      <td>Overall_Rating</td>\n",
       "      <td>0.000000</td>\n",
       "    </tr>\n",
       "    <tr>\n",
       "      <th>3</th>\n",
       "      <td>Review_Title</td>\n",
       "      <td>0.000000</td>\n",
       "    </tr>\n",
       "    <tr>\n",
       "      <th>4</th>\n",
       "      <td>Review Date</td>\n",
       "      <td>0.000000</td>\n",
       "    </tr>\n",
       "    <tr>\n",
       "      <th>5</th>\n",
       "      <td>Verified</td>\n",
       "      <td>0.000000</td>\n",
       "    </tr>\n",
       "    <tr>\n",
       "      <th>6</th>\n",
       "      <td>Review</td>\n",
       "      <td>0.000000</td>\n",
       "    </tr>\n",
       "    <tr>\n",
       "      <th>7</th>\n",
       "      <td>Aircraft</td>\n",
       "      <td>0.000000</td>\n",
       "    </tr>\n",
       "    <tr>\n",
       "      <th>8</th>\n",
       "      <td>Type Of Traveller</td>\n",
       "      <td>0.000000</td>\n",
       "    </tr>\n",
       "    <tr>\n",
       "      <th>9</th>\n",
       "      <td>Seat Type</td>\n",
       "      <td>0.000000</td>\n",
       "    </tr>\n",
       "    <tr>\n",
       "      <th>10</th>\n",
       "      <td>Route</td>\n",
       "      <td>0.000982</td>\n",
       "    </tr>\n",
       "    <tr>\n",
       "      <th>11</th>\n",
       "      <td>Date Flown</td>\n",
       "      <td>0.000982</td>\n",
       "    </tr>\n",
       "    <tr>\n",
       "      <th>12</th>\n",
       "      <td>Seat Comfort</td>\n",
       "      <td>0.014027</td>\n",
       "    </tr>\n",
       "    <tr>\n",
       "      <th>13</th>\n",
       "      <td>Cabin Staff Service</td>\n",
       "      <td>0.016131</td>\n",
       "    </tr>\n",
       "    <tr>\n",
       "      <th>14</th>\n",
       "      <td>Food &amp; Beverages</td>\n",
       "      <td>0.174499</td>\n",
       "    </tr>\n",
       "    <tr>\n",
       "      <th>15</th>\n",
       "      <td>Ground Service</td>\n",
       "      <td>0.007855</td>\n",
       "    </tr>\n",
       "    <tr>\n",
       "      <th>16</th>\n",
       "      <td>Inflight Entertainment</td>\n",
       "      <td>0.450274</td>\n",
       "    </tr>\n",
       "    <tr>\n",
       "      <th>17</th>\n",
       "      <td>Wifi &amp; Connectivity</td>\n",
       "      <td>0.738533</td>\n",
       "    </tr>\n",
       "    <tr>\n",
       "      <th>18</th>\n",
       "      <td>Value For Money</td>\n",
       "      <td>0.000000</td>\n",
       "    </tr>\n",
       "    <tr>\n",
       "      <th>19</th>\n",
       "      <td>Recommended</td>\n",
       "      <td>0.000000</td>\n",
       "    </tr>\n",
       "  </tbody>\n",
       "</table>\n",
       "</div>"
      ],
      "text/plain": [
       "               column_name  nulls_percentage\n",
       "0               Unnamed: 0          0.000000\n",
       "1             Airline Name          0.000000\n",
       "2           Overall_Rating          0.000000\n",
       "3             Review_Title          0.000000\n",
       "4              Review Date          0.000000\n",
       "5                 Verified          0.000000\n",
       "6                   Review          0.000000\n",
       "7                 Aircraft          0.000000\n",
       "8        Type Of Traveller          0.000000\n",
       "9                Seat Type          0.000000\n",
       "10                   Route          0.000982\n",
       "11              Date Flown          0.000982\n",
       "12            Seat Comfort          0.014027\n",
       "13     Cabin Staff Service          0.016131\n",
       "14        Food & Beverages          0.174499\n",
       "15          Ground Service          0.007855\n",
       "16  Inflight Entertainment          0.450274\n",
       "17     Wifi & Connectivity          0.738533\n",
       "18         Value For Money          0.000000\n",
       "19             Recommended          0.000000"
      ]
     },
     "execution_count": 131,
     "metadata": {},
     "output_type": "execute_result"
    }
   ],
   "source": [
    "nulls(df)"
   ]
  },
  {
   "cell_type": "code",
   "execution_count": 132,
   "metadata": {},
   "outputs": [],
   "source": [
    "from functions import minusculas"
   ]
  },
  {
   "cell_type": "code",
   "execution_count": 133,
   "metadata": {},
   "outputs": [],
   "source": [
    "minusculas(df)"
   ]
  },
  {
   "cell_type": "code",
   "execution_count": 134,
   "metadata": {},
   "outputs": [
    {
     "name": "stdout",
     "output_type": "stream",
     "text": [
      "<class 'pandas.core.frame.DataFrame'>\n",
      "Index: 7129 entries, 1 to 23169\n",
      "Data columns (total 20 columns):\n",
      " #   Column                  Non-Null Count  Dtype  \n",
      "---  ------                  --------------  -----  \n",
      " 0   unnamed: 0              7129 non-null   int64  \n",
      " 1   airline name            7129 non-null   object \n",
      " 2   overall_rating          7129 non-null   object \n",
      " 3   review_title            7129 non-null   object \n",
      " 4   review date             7129 non-null   object \n",
      " 5   verified                7129 non-null   bool   \n",
      " 6   review                  7129 non-null   object \n",
      " 7   aircraft                7129 non-null   object \n",
      " 8   type of traveller       7129 non-null   object \n",
      " 9   seat type               7129 non-null   object \n",
      " 10  route                   7122 non-null   object \n",
      " 11  date flown              7122 non-null   object \n",
      " 12  seat comfort            7029 non-null   float64\n",
      " 13  cabin staff service     7014 non-null   float64\n",
      " 14  food & beverages        5885 non-null   float64\n",
      " 15  ground service          7073 non-null   float64\n",
      " 16  inflight entertainment  3919 non-null   float64\n",
      " 17  wifi & connectivity     1864 non-null   float64\n",
      " 18  value for money         7129 non-null   float64\n",
      " 19  recommended             7129 non-null   object \n",
      "dtypes: bool(1), float64(7), int64(1), object(11)\n",
      "memory usage: 1.1+ MB\n"
     ]
    }
   ],
   "source": [
    "df.info()"
   ]
  },
  {
   "cell_type": "code",
   "execution_count": 135,
   "metadata": {},
   "outputs": [],
   "source": [
    "#finish renaming of variables:"
   ]
  },
  {
   "cell_type": "code",
   "execution_count": 136,
   "metadata": {},
   "outputs": [],
   "source": [
    "df.rename(columns={'overall_rating':'total_rate'}, inplace=True)\n",
    "df.rename(columns={'airline name':'airline'}, inplace=True)\n",
    "df.rename(columns={'review date':'review_date'}, inplace=True)\n",
    "df.rename(columns={'type of traveller':'traveller'}, inplace=True)\n",
    "df.rename(columns={'seat type':'class_type'}, inplace=True)\n",
    "df.rename(columns={'date flown':'flight_date'}, inplace=True)\n",
    "df.rename(columns={'seat comfort':'seat_comfort'}, inplace=True)\n",
    "df.rename(columns={'cabin staff service':'cabin_staff'}, inplace=True)\n",
    "df.rename(columns={'food & beverages':'foodrinks'}, inplace=True)\n",
    "df.rename(columns={'ground service':'ground_staff'}, inplace=True)\n",
    "df.rename(columns={'inflight entertainment':'entertainment'}, inplace=True)\n",
    "df.rename(columns={'wifi & connectivity':'connectivity'}, inplace=True)\n",
    "df.rename(columns={'value for money':'value_for_money'}, inplace=True)"
   ]
  },
  {
   "cell_type": "code",
   "execution_count": 137,
   "metadata": {},
   "outputs": [],
   "source": [
    "#droping unnamed variable, does not give any additional info"
   ]
  },
  {
   "cell_type": "code",
   "execution_count": 138,
   "metadata": {},
   "outputs": [],
   "source": [
    "df.drop(columns=\"unnamed: 0\", inplace=True)"
   ]
  },
  {
   "cell_type": "code",
   "execution_count": 139,
   "metadata": {},
   "outputs": [],
   "source": [
    "#briew revision of all variables"
   ]
  },
  {
   "cell_type": "code",
   "execution_count": 140,
   "metadata": {},
   "outputs": [
    {
     "data": {
      "text/plain": [
       "Index(['airline', 'total_rate', 'review_title', 'review_date', 'verified',\n",
       "       'review', 'aircraft', 'traveller', 'class_type', 'route', 'flight_date',\n",
       "       'seat_comfort', 'cabin_staff', 'foodrinks', 'ground_staff',\n",
       "       'entertainment', 'connectivity', 'value_for_money', 'recommended'],\n",
       "      dtype='object')"
      ]
     },
     "execution_count": 140,
     "metadata": {},
     "output_type": "execute_result"
    }
   ],
   "source": [
    "df.columns"
   ]
  },
  {
   "cell_type": "code",
   "execution_count": 141,
   "metadata": {},
   "outputs": [
    {
     "data": {
      "text/plain": [
       "(7129, 19)"
      ]
     },
     "execution_count": 141,
     "metadata": {},
     "output_type": "execute_result"
    }
   ],
   "source": [
    "df.shape #ok"
   ]
  },
  {
   "cell_type": "code",
   "execution_count": 142,
   "metadata": {},
   "outputs": [],
   "source": [
    "df.drop_duplicates(inplace=True) "
   ]
  },
  {
   "cell_type": "code",
   "execution_count": 143,
   "metadata": {},
   "outputs": [
    {
     "data": {
      "text/plain": [
       "(7127, 19)"
      ]
     },
     "execution_count": 143,
     "metadata": {},
     "output_type": "execute_result"
    }
   ],
   "source": [
    "df.shape #only two duplicates"
   ]
  },
  {
   "cell_type": "code",
   "execution_count": 144,
   "metadata": {},
   "outputs": [
    {
     "data": {
      "text/plain": [
       "airline\n",
       "Thomson Airways                     81\n",
       "Hainan Airlines                     78\n",
       "Garuda Indonesia                    77\n",
       "Royal Brunei Airlines               74\n",
       "SilkAir                             68\n",
       "                                    ..\n",
       "ASKY Airlines                        1\n",
       "Thomas Cook Airlines Scandinavia     1\n",
       "Novoair                              1\n",
       "Mack Air                             1\n",
       "Manta Air                            1\n",
       "Name: count, Length: 438, dtype: int64"
      ]
     },
     "execution_count": 144,
     "metadata": {},
     "output_type": "execute_result"
    }
   ],
   "source": [
    "df.airline.value_counts()"
   ]
  },
  {
   "cell_type": "code",
   "execution_count": 145,
   "metadata": {},
   "outputs": [
    {
     "data": {
      "text/plain": [
       "total_rate\n",
       "1    2489\n",
       "9     968\n",
       "8     953\n",
       "7     710\n",
       "2     604\n",
       "3     401\n",
       "6     376\n",
       "5     325\n",
       "4     301\n",
       "Name: count, dtype: int64"
      ]
     },
     "execution_count": 145,
     "metadata": {},
     "output_type": "execute_result"
    }
   ],
   "source": [
    "df.total_rate.value_counts() #let's check later whether the values correspond to the actual review (e.g. 1 is always good or some people \n",
    "#consider it bad?)"
   ]
  },
  {
   "cell_type": "code",
   "execution_count": 146,
   "metadata": {},
   "outputs": [
    {
     "data": {
      "text/plain": [
       "verified\n",
       "True     4475\n",
       "False    2652\n",
       "Name: count, dtype: int64"
      ]
     },
     "execution_count": 146,
     "metadata": {},
     "output_type": "execute_result"
    }
   ],
   "source": [
    "df.verified.value_counts()"
   ]
  },
  {
   "cell_type": "code",
   "execution_count": 147,
   "metadata": {},
   "outputs": [
    {
     "data": {
      "text/plain": [
       "aircraft\n",
       "A320                         1041\n",
       "Boeing 737-800                553\n",
       "Boeing 737                    404\n",
       "Boeing 787                    349\n",
       "A330                          349\n",
       "                             ... \n",
       "A350-900 / Boeing 777-300       1\n",
       "A350-900 / Boeing 747-400       1\n",
       "Boeing 777/350                  1\n",
       "A350 / B744                     1\n",
       "Boeing787                       1\n",
       "Name: count, Length: 1048, dtype: int64"
      ]
     },
     "execution_count": 147,
     "metadata": {},
     "output_type": "execute_result"
    }
   ],
   "source": [
    "df.aircraft.value_counts()"
   ]
  },
  {
   "cell_type": "code",
   "execution_count": 148,
   "metadata": {},
   "outputs": [
    {
     "data": {
      "text/plain": [
       "traveller\n",
       "Solo Leisure      2678\n",
       "Couple Leisure    1835\n",
       "Family Leisure    1325\n",
       "Business          1289\n",
       "Name: count, dtype: int64"
      ]
     },
     "execution_count": 148,
     "metadata": {},
     "output_type": "execute_result"
    }
   ],
   "source": [
    "df.traveller.value_counts()"
   ]
  },
  {
   "cell_type": "code",
   "execution_count": 149,
   "metadata": {},
   "outputs": [
    {
     "data": {
      "text/plain": [
       "seat_comfort\n",
       "4.0    1844\n",
       "5.0    1556\n",
       "3.0    1432\n",
       "1.0    1337\n",
       "2.0     858\n",
       "Name: count, dtype: int64"
      ]
     },
     "execution_count": 149,
     "metadata": {},
     "output_type": "execute_result"
    }
   ],
   "source": [
    "df.seat_comfort.value_counts()"
   ]
  },
  {
   "cell_type": "code",
   "execution_count": 150,
   "metadata": {},
   "outputs": [
    {
     "data": {
      "text/plain": [
       "cabin_staff\n",
       "5.0    2657\n",
       "4.0    1485\n",
       "1.0    1142\n",
       "3.0    1025\n",
       "2.0     703\n",
       "Name: count, dtype: int64"
      ]
     },
     "execution_count": 150,
     "metadata": {},
     "output_type": "execute_result"
    }
   ],
   "source": [
    "df.cabin_staff.value_counts()"
   ]
  },
  {
   "cell_type": "code",
   "execution_count": 151,
   "metadata": {},
   "outputs": [
    {
     "data": {
      "text/plain": [
       "foodrinks\n",
       "5.0    1376\n",
       "1.0    1316\n",
       "4.0    1303\n",
       "3.0    1123\n",
       "2.0     765\n",
       "Name: count, dtype: int64"
      ]
     },
     "execution_count": 151,
     "metadata": {},
     "output_type": "execute_result"
    }
   ],
   "source": [
    "df.foodrinks.value_counts()"
   ]
  },
  {
   "cell_type": "code",
   "execution_count": 152,
   "metadata": {},
   "outputs": [
    {
     "data": {
      "text/plain": [
       "connectivity\n",
       "1.0    959\n",
       "5.0    304\n",
       "4.0    223\n",
       "3.0    219\n",
       "2.0    158\n",
       "Name: count, dtype: int64"
      ]
     },
     "execution_count": 152,
     "metadata": {},
     "output_type": "execute_result"
    }
   ],
   "source": [
    "df.connectivity.value_counts()"
   ]
  },
  {
   "cell_type": "code",
   "execution_count": 153,
   "metadata": {},
   "outputs": [
    {
     "data": {
      "text/plain": [
       "ground_staff\n",
       "1.0    1874\n",
       "5.0    1871\n",
       "4.0    1656\n",
       "3.0    1018\n",
       "2.0     652\n",
       "Name: count, dtype: int64"
      ]
     },
     "execution_count": 153,
     "metadata": {},
     "output_type": "execute_result"
    }
   ],
   "source": [
    "df.ground_staff.value_counts()"
   ]
  },
  {
   "cell_type": "code",
   "execution_count": 154,
   "metadata": {},
   "outputs": [
    {
     "data": {
      "text/plain": [
       "entertainment\n",
       "1.0    1198\n",
       "3.0     814\n",
       "4.0     739\n",
       "5.0     662\n",
       "2.0     505\n",
       "Name: count, dtype: int64"
      ]
     },
     "execution_count": 154,
     "metadata": {},
     "output_type": "execute_result"
    }
   ],
   "source": [
    "df.entertainment.value_counts()"
   ]
  },
  {
   "cell_type": "code",
   "execution_count": 155,
   "metadata": {},
   "outputs": [
    {
     "data": {
      "text/plain": [
       "value_for_money\n",
       "5.0    2258\n",
       "1.0    1630\n",
       "4.0    1456\n",
       "3.0    1000\n",
       "2.0     783\n",
       "Name: count, dtype: int64"
      ]
     },
     "execution_count": 155,
     "metadata": {},
     "output_type": "execute_result"
    }
   ],
   "source": [
    "df.value_for_money.value_counts()"
   ]
  },
  {
   "cell_type": "code",
   "execution_count": 156,
   "metadata": {},
   "outputs": [
    {
     "data": {
      "text/plain": [
       "recommended\n",
       "yes    4117\n",
       "no     3010\n",
       "Name: count, dtype: int64"
      ]
     },
     "execution_count": 156,
     "metadata": {},
     "output_type": "execute_result"
    }
   ],
   "source": [
    "df.recommended.value_counts()"
   ]
  },
  {
   "cell_type": "code",
   "execution_count": 157,
   "metadata": {},
   "outputs": [
    {
     "data": {
      "text/html": [
       "<div>\n",
       "<style scoped>\n",
       "    .dataframe tbody tr th:only-of-type {\n",
       "        vertical-align: middle;\n",
       "    }\n",
       "\n",
       "    .dataframe tbody tr th {\n",
       "        vertical-align: top;\n",
       "    }\n",
       "\n",
       "    .dataframe thead th {\n",
       "        text-align: right;\n",
       "    }\n",
       "</style>\n",
       "<table border=\"1\" class=\"dataframe\">\n",
       "  <thead>\n",
       "    <tr style=\"text-align: right;\">\n",
       "      <th></th>\n",
       "      <th>seat_comfort</th>\n",
       "      <th>cabin_staff</th>\n",
       "      <th>foodrinks</th>\n",
       "      <th>ground_staff</th>\n",
       "      <th>entertainment</th>\n",
       "      <th>connectivity</th>\n",
       "      <th>value_for_money</th>\n",
       "    </tr>\n",
       "  </thead>\n",
       "  <tbody>\n",
       "    <tr>\n",
       "      <th>count</th>\n",
       "      <td>7027.000000</td>\n",
       "      <td>7012.000000</td>\n",
       "      <td>5883.000000</td>\n",
       "      <td>7071.00000</td>\n",
       "      <td>3918.000000</td>\n",
       "      <td>1863.000000</td>\n",
       "      <td>7127.000000</td>\n",
       "    </tr>\n",
       "    <tr>\n",
       "      <th>mean</th>\n",
       "      <td>3.202647</td>\n",
       "      <td>3.543639</td>\n",
       "      <td>3.111848</td>\n",
       "      <td>3.14114</td>\n",
       "      <td>2.786115</td>\n",
       "      <td>2.331723</td>\n",
       "      <td>3.270661</td>\n",
       "    </tr>\n",
       "    <tr>\n",
       "      <th>std</th>\n",
       "      <td>1.410860</td>\n",
       "      <td>1.477818</td>\n",
       "      <td>1.473003</td>\n",
       "      <td>1.55735</td>\n",
       "      <td>1.473514</td>\n",
       "      <td>1.571940</td>\n",
       "      <td>1.556716</td>\n",
       "    </tr>\n",
       "    <tr>\n",
       "      <th>min</th>\n",
       "      <td>1.000000</td>\n",
       "      <td>1.000000</td>\n",
       "      <td>1.000000</td>\n",
       "      <td>1.00000</td>\n",
       "      <td>1.000000</td>\n",
       "      <td>1.000000</td>\n",
       "      <td>1.000000</td>\n",
       "    </tr>\n",
       "    <tr>\n",
       "      <th>25%</th>\n",
       "      <td>2.000000</td>\n",
       "      <td>2.000000</td>\n",
       "      <td>2.000000</td>\n",
       "      <td>1.00000</td>\n",
       "      <td>1.000000</td>\n",
       "      <td>1.000000</td>\n",
       "      <td>2.000000</td>\n",
       "    </tr>\n",
       "    <tr>\n",
       "      <th>50%</th>\n",
       "      <td>3.000000</td>\n",
       "      <td>4.000000</td>\n",
       "      <td>3.000000</td>\n",
       "      <td>3.00000</td>\n",
       "      <td>3.000000</td>\n",
       "      <td>1.000000</td>\n",
       "      <td>4.000000</td>\n",
       "    </tr>\n",
       "    <tr>\n",
       "      <th>75%</th>\n",
       "      <td>4.000000</td>\n",
       "      <td>5.000000</td>\n",
       "      <td>4.000000</td>\n",
       "      <td>5.00000</td>\n",
       "      <td>4.000000</td>\n",
       "      <td>4.000000</td>\n",
       "      <td>5.000000</td>\n",
       "    </tr>\n",
       "    <tr>\n",
       "      <th>max</th>\n",
       "      <td>5.000000</td>\n",
       "      <td>5.000000</td>\n",
       "      <td>5.000000</td>\n",
       "      <td>5.00000</td>\n",
       "      <td>5.000000</td>\n",
       "      <td>5.000000</td>\n",
       "      <td>5.000000</td>\n",
       "    </tr>\n",
       "  </tbody>\n",
       "</table>\n",
       "</div>"
      ],
      "text/plain": [
       "       seat_comfort  cabin_staff    foodrinks  ground_staff  entertainment  \\\n",
       "count   7027.000000  7012.000000  5883.000000    7071.00000    3918.000000   \n",
       "mean       3.202647     3.543639     3.111848       3.14114       2.786115   \n",
       "std        1.410860     1.477818     1.473003       1.55735       1.473514   \n",
       "min        1.000000     1.000000     1.000000       1.00000       1.000000   \n",
       "25%        2.000000     2.000000     2.000000       1.00000       1.000000   \n",
       "50%        3.000000     4.000000     3.000000       3.00000       3.000000   \n",
       "75%        4.000000     5.000000     4.000000       5.00000       4.000000   \n",
       "max        5.000000     5.000000     5.000000       5.00000       5.000000   \n",
       "\n",
       "       connectivity  value_for_money  \n",
       "count   1863.000000      7127.000000  \n",
       "mean       2.331723         3.270661  \n",
       "std        1.571940         1.556716  \n",
       "min        1.000000         1.000000  \n",
       "25%        1.000000         2.000000  \n",
       "50%        1.000000         4.000000  \n",
       "75%        4.000000         5.000000  \n",
       "max        5.000000         5.000000  "
      ]
     },
     "execution_count": 157,
     "metadata": {},
     "output_type": "execute_result"
    }
   ],
   "source": [
    "df.describe()"
   ]
  },
  {
   "cell_type": "code",
   "execution_count": 158,
   "metadata": {},
   "outputs": [
    {
     "name": "stdout",
     "output_type": "stream",
     "text": [
      "<class 'pandas.core.frame.DataFrame'>\n",
      "Index: 7127 entries, 1 to 23169\n",
      "Data columns (total 19 columns):\n",
      " #   Column           Non-Null Count  Dtype  \n",
      "---  ------           --------------  -----  \n",
      " 0   airline          7127 non-null   object \n",
      " 1   total_rate       7127 non-null   object \n",
      " 2   review_title     7127 non-null   object \n",
      " 3   review_date      7127 non-null   object \n",
      " 4   verified         7127 non-null   bool   \n",
      " 5   review           7127 non-null   object \n",
      " 6   aircraft         7127 non-null   object \n",
      " 7   traveller        7127 non-null   object \n",
      " 8   class_type       7127 non-null   object \n",
      " 9   route            7120 non-null   object \n",
      " 10  flight_date      7120 non-null   object \n",
      " 11  seat_comfort     7027 non-null   float64\n",
      " 12  cabin_staff      7012 non-null   float64\n",
      " 13  foodrinks        5883 non-null   float64\n",
      " 14  ground_staff     7071 non-null   float64\n",
      " 15  entertainment    3918 non-null   float64\n",
      " 16  connectivity     1863 non-null   float64\n",
      " 17  value_for_money  7127 non-null   float64\n",
      " 18  recommended      7127 non-null   object \n",
      "dtypes: bool(1), float64(7), object(11)\n",
      "memory usage: 1.0+ MB\n"
     ]
    }
   ],
   "source": [
    "df.info()"
   ]
  },
  {
   "cell_type": "code",
   "execution_count": 159,
   "metadata": {},
   "outputs": [
    {
     "data": {
      "text/plain": [
       "class_type\n",
       "Economy Class      5462\n",
       "Business Class     1266\n",
       "Premium Economy     286\n",
       "First Class         113\n",
       "Name: count, dtype: int64"
      ]
     },
     "execution_count": 159,
     "metadata": {},
     "output_type": "execute_result"
    }
   ],
   "source": [
    "df.class_type.value_counts()"
   ]
  },
  {
   "cell_type": "code",
   "execution_count": 160,
   "metadata": {},
   "outputs": [
    {
     "data": {
      "text/html": [
       "<div>\n",
       "<style scoped>\n",
       "    .dataframe tbody tr th:only-of-type {\n",
       "        vertical-align: middle;\n",
       "    }\n",
       "\n",
       "    .dataframe tbody tr th {\n",
       "        vertical-align: top;\n",
       "    }\n",
       "\n",
       "    .dataframe thead th {\n",
       "        text-align: right;\n",
       "    }\n",
       "</style>\n",
       "<table border=\"1\" class=\"dataframe\">\n",
       "  <thead>\n",
       "    <tr style=\"text-align: right;\">\n",
       "      <th></th>\n",
       "      <th>airline</th>\n",
       "      <th>total_rate</th>\n",
       "      <th>review_title</th>\n",
       "      <th>review_date</th>\n",
       "      <th>verified</th>\n",
       "      <th>review</th>\n",
       "      <th>aircraft</th>\n",
       "      <th>traveller</th>\n",
       "      <th>class_type</th>\n",
       "      <th>route</th>\n",
       "      <th>flight_date</th>\n",
       "      <th>seat_comfort</th>\n",
       "      <th>cabin_staff</th>\n",
       "      <th>foodrinks</th>\n",
       "      <th>ground_staff</th>\n",
       "      <th>entertainment</th>\n",
       "      <th>connectivity</th>\n",
       "      <th>value_for_money</th>\n",
       "      <th>recommended</th>\n",
       "    </tr>\n",
       "  </thead>\n",
       "  <tbody>\n",
       "    <tr>\n",
       "      <th>14974</th>\n",
       "      <td>Nepal Airlines</td>\n",
       "      <td>2</td>\n",
       "      <td>\"I am waiting past 5 hours\"</td>\n",
       "      <td>25th March 2019</td>\n",
       "      <td>True</td>\n",
       "      <td>Worst management by  Nepal Airline. I am ver...</td>\n",
       "      <td>A330</td>\n",
       "      <td>Solo Leisure</td>\n",
       "      <td>Economy Class</td>\n",
       "      <td>Kathmandu to New Delhi</td>\n",
       "      <td>March 2019</td>\n",
       "      <td>3.0</td>\n",
       "      <td>3.0</td>\n",
       "      <td>NaN</td>\n",
       "      <td>1.0</td>\n",
       "      <td>NaN</td>\n",
       "      <td>NaN</td>\n",
       "      <td>1.0</td>\n",
       "      <td>no</td>\n",
       "    </tr>\n",
       "  </tbody>\n",
       "</table>\n",
       "</div>"
      ],
      "text/plain": [
       "              airline total_rate                 review_title  \\\n",
       "14974  Nepal Airlines          2  \"I am waiting past 5 hours\"   \n",
       "\n",
       "           review_date  verified  \\\n",
       "14974  25th March 2019      True   \n",
       "\n",
       "                                                  review aircraft  \\\n",
       "14974    Worst management by  Nepal Airline. I am ver...     A330   \n",
       "\n",
       "          traveller     class_type                   route flight_date  \\\n",
       "14974  Solo Leisure  Economy Class  Kathmandu to New Delhi  March 2019   \n",
       "\n",
       "       seat_comfort  cabin_staff  foodrinks  ground_staff  entertainment  \\\n",
       "14974           3.0          3.0        NaN           1.0            NaN   \n",
       "\n",
       "       connectivity  value_for_money recommended  \n",
       "14974           NaN              1.0          no  "
      ]
     },
     "execution_count": 160,
     "metadata": {},
     "output_type": "execute_result"
    }
   ],
   "source": [
    "df.sample()"
   ]
  },
  {
   "cell_type": "code",
   "execution_count": 161,
   "metadata": {},
   "outputs": [],
   "source": [
    "df.total_rate=pd.to_numeric(df.total_rate)"
   ]
  },
  {
   "cell_type": "code",
   "execution_count": 162,
   "metadata": {},
   "outputs": [],
   "source": [
    "df.reset_index(inplace=True)"
   ]
  },
  {
   "cell_type": "code",
   "execution_count": 163,
   "metadata": {},
   "outputs": [],
   "source": [
    "#hasta aquí, ok"
   ]
  },
  {
   "cell_type": "markdown",
   "metadata": {},
   "source": [
    "Imputing missing values"
   ]
  },
  {
   "cell_type": "code",
   "execution_count": 164,
   "metadata": {},
   "outputs": [
    {
     "name": "stdout",
     "output_type": "stream",
     "text": [
      "<class 'pandas.core.frame.DataFrame'>\n",
      "RangeIndex: 7127 entries, 0 to 7126\n",
      "Data columns (total 20 columns):\n",
      " #   Column           Non-Null Count  Dtype  \n",
      "---  ------           --------------  -----  \n",
      " 0   index            7127 non-null   int64  \n",
      " 1   airline          7127 non-null   object \n",
      " 2   total_rate       7127 non-null   int64  \n",
      " 3   review_title     7127 non-null   object \n",
      " 4   review_date      7127 non-null   object \n",
      " 5   verified         7127 non-null   bool   \n",
      " 6   review           7127 non-null   object \n",
      " 7   aircraft         7127 non-null   object \n",
      " 8   traveller        7127 non-null   object \n",
      " 9   class_type       7127 non-null   object \n",
      " 10  route            7120 non-null   object \n",
      " 11  flight_date      7120 non-null   object \n",
      " 12  seat_comfort     7027 non-null   float64\n",
      " 13  cabin_staff      7012 non-null   float64\n",
      " 14  foodrinks        5883 non-null   float64\n",
      " 15  ground_staff     7071 non-null   float64\n",
      " 16  entertainment    3918 non-null   float64\n",
      " 17  connectivity     1863 non-null   float64\n",
      " 18  value_for_money  7127 non-null   float64\n",
      " 19  recommended      7127 non-null   object \n",
      "dtypes: bool(1), float64(7), int64(2), object(10)\n",
      "memory usage: 1.0+ MB\n"
     ]
    }
   ],
   "source": [
    "df.info()"
   ]
  },
  {
   "cell_type": "code",
   "execution_count": 165,
   "metadata": {},
   "outputs": [],
   "source": [
    "df = df.dropna(axis=0, subset=['route']) ##to complicated to impute"
   ]
  },
  {
   "cell_type": "code",
   "execution_count": 166,
   "metadata": {},
   "outputs": [
    {
     "data": {
      "text/plain": [
       "(7120, 20)"
      ]
     },
     "execution_count": 166,
     "metadata": {},
     "output_type": "execute_result"
    }
   ],
   "source": [
    "df.shape #ok"
   ]
  },
  {
   "cell_type": "code",
   "execution_count": 167,
   "metadata": {},
   "outputs": [
    {
     "name": "stdout",
     "output_type": "stream",
     "text": [
      "<class 'pandas.core.series.Series'>\n",
      "Index: 7120 entries, 0 to 7126\n",
      "Series name: seat_comfort\n",
      "Non-Null Count  Dtype  \n",
      "--------------  -----  \n",
      "7021 non-null   float64\n",
      "dtypes: float64(1)\n",
      "memory usage: 111.2 KB\n"
     ]
    }
   ],
   "source": [
    "df.seat_comfort.info()"
   ]
  },
  {
   "cell_type": "code",
   "execution_count": 168,
   "metadata": {},
   "outputs": [],
   "source": [
    "df['seat_comfort']=df.seat_comfort.fillna(round(np.mean(df.seat_comfort))) "
   ]
  },
  {
   "cell_type": "code",
   "execution_count": 169,
   "metadata": {},
   "outputs": [
    {
     "data": {
      "text/plain": [
       "seat_comfort\n",
       "4.0    1844\n",
       "5.0    1555\n",
       "3.0    1530\n",
       "1.0    1336\n",
       "2.0     855\n",
       "Name: count, dtype: int64"
      ]
     },
     "execution_count": 169,
     "metadata": {},
     "output_type": "execute_result"
    }
   ],
   "source": [
    "df.seat_comfort.value_counts() #ok"
   ]
  },
  {
   "cell_type": "code",
   "execution_count": 170,
   "metadata": {},
   "outputs": [
    {
     "name": "stdout",
     "output_type": "stream",
     "text": [
      "<class 'pandas.core.series.Series'>\n",
      "Index: 7120 entries, 0 to 7126\n",
      "Series name: ground_staff\n",
      "Non-Null Count  Dtype  \n",
      "--------------  -----  \n",
      "7065 non-null   float64\n",
      "dtypes: float64(1)\n",
      "memory usage: 111.2 KB\n"
     ]
    }
   ],
   "source": [
    "df.ground_staff.info()"
   ]
  },
  {
   "cell_type": "code",
   "execution_count": 171,
   "metadata": {},
   "outputs": [],
   "source": [
    "df['ground_staff']=df.ground_staff.fillna(round(np.mean(df.ground_staff)))"
   ]
  },
  {
   "cell_type": "code",
   "execution_count": 172,
   "metadata": {},
   "outputs": [
    {
     "data": {
      "text/plain": [
       "ground_staff\n",
       "1.0    1872\n",
       "5.0    1870\n",
       "4.0    1656\n",
       "3.0    1071\n",
       "2.0     651\n",
       "Name: count, dtype: int64"
      ]
     },
     "execution_count": 172,
     "metadata": {},
     "output_type": "execute_result"
    }
   ],
   "source": [
    "df.ground_staff.value_counts() #ok"
   ]
  },
  {
   "cell_type": "code",
   "execution_count": 173,
   "metadata": {},
   "outputs": [
    {
     "name": "stdout",
     "output_type": "stream",
     "text": [
      "<class 'pandas.core.series.Series'>\n",
      "Index: 7120 entries, 0 to 7126\n",
      "Series name: cabin_staff\n",
      "Non-Null Count  Dtype  \n",
      "--------------  -----  \n",
      "7006 non-null   float64\n",
      "dtypes: float64(1)\n",
      "memory usage: 111.2 KB\n"
     ]
    }
   ],
   "source": [
    "df.cabin_staff.info()"
   ]
  },
  {
   "cell_type": "code",
   "execution_count": 174,
   "metadata": {},
   "outputs": [],
   "source": [
    "df['cabin_staff']=df.cabin_staff.fillna(round(np.mean(df.cabin_staff)))"
   ]
  },
  {
   "cell_type": "code",
   "execution_count": 175,
   "metadata": {},
   "outputs": [
    {
     "name": "stdout",
     "output_type": "stream",
     "text": [
      "<class 'pandas.core.frame.DataFrame'>\n",
      "Index: 7120 entries, 0 to 7126\n",
      "Data columns (total 20 columns):\n",
      " #   Column           Non-Null Count  Dtype  \n",
      "---  ------           --------------  -----  \n",
      " 0   index            7120 non-null   int64  \n",
      " 1   airline          7120 non-null   object \n",
      " 2   total_rate       7120 non-null   int64  \n",
      " 3   review_title     7120 non-null   object \n",
      " 4   review_date      7120 non-null   object \n",
      " 5   verified         7120 non-null   bool   \n",
      " 6   review           7120 non-null   object \n",
      " 7   aircraft         7120 non-null   object \n",
      " 8   traveller        7120 non-null   object \n",
      " 9   class_type       7120 non-null   object \n",
      " 10  route            7120 non-null   object \n",
      " 11  flight_date      7114 non-null   object \n",
      " 12  seat_comfort     7120 non-null   float64\n",
      " 13  cabin_staff      7120 non-null   float64\n",
      " 14  foodrinks        5878 non-null   float64\n",
      " 15  ground_staff     7120 non-null   float64\n",
      " 16  entertainment    3914 non-null   float64\n",
      " 17  connectivity     1859 non-null   float64\n",
      " 18  value_for_money  7120 non-null   float64\n",
      " 19  recommended      7120 non-null   object \n",
      "dtypes: bool(1), float64(7), int64(2), object(10)\n",
      "memory usage: 1.1+ MB\n"
     ]
    }
   ],
   "source": [
    "df.info()"
   ]
  },
  {
   "cell_type": "code",
   "execution_count": 176,
   "metadata": {},
   "outputs": [],
   "source": [
    "df = df.dropna(axis=0, subset=['foodrinks']) ##to complicated to impute"
   ]
  },
  {
   "cell_type": "code",
   "execution_count": 177,
   "metadata": {},
   "outputs": [
    {
     "data": {
      "text/plain": [
       "(5878, 20)"
      ]
     },
     "execution_count": 177,
     "metadata": {},
     "output_type": "execute_result"
    }
   ],
   "source": [
    "df.shape #we will finally stick to this? ask"
   ]
  },
  {
   "cell_type": "code",
   "execution_count": 178,
   "metadata": {},
   "outputs": [],
   "source": [
    "df['flight_date'] = df['flight_date'].fillna(df['flight_date'].mode()[0])"
   ]
  },
  {
   "cell_type": "code",
   "execution_count": 179,
   "metadata": {},
   "outputs": [
    {
     "name": "stdout",
     "output_type": "stream",
     "text": [
      "<class 'pandas.core.frame.DataFrame'>\n",
      "Index: 5878 entries, 0 to 7126\n",
      "Data columns (total 20 columns):\n",
      " #   Column           Non-Null Count  Dtype  \n",
      "---  ------           --------------  -----  \n",
      " 0   index            5878 non-null   int64  \n",
      " 1   airline          5878 non-null   object \n",
      " 2   total_rate       5878 non-null   int64  \n",
      " 3   review_title     5878 non-null   object \n",
      " 4   review_date      5878 non-null   object \n",
      " 5   verified         5878 non-null   bool   \n",
      " 6   review           5878 non-null   object \n",
      " 7   aircraft         5878 non-null   object \n",
      " 8   traveller        5878 non-null   object \n",
      " 9   class_type       5878 non-null   object \n",
      " 10  route            5878 non-null   object \n",
      " 11  flight_date      5878 non-null   object \n",
      " 12  seat_comfort     5878 non-null   float64\n",
      " 13  cabin_staff      5878 non-null   float64\n",
      " 14  foodrinks        5878 non-null   float64\n",
      " 15  ground_staff     5878 non-null   float64\n",
      " 16  entertainment    3796 non-null   float64\n",
      " 17  connectivity     1785 non-null   float64\n",
      " 18  value_for_money  5878 non-null   float64\n",
      " 19  recommended      5878 non-null   object \n",
      "dtypes: bool(1), float64(7), int64(2), object(10)\n",
      "memory usage: 924.2+ KB\n"
     ]
    }
   ],
   "source": [
    "df.info()"
   ]
  },
  {
   "cell_type": "code",
   "execution_count": 180,
   "metadata": {},
   "outputs": [],
   "source": [
    "df.drop('entertainment', axis=1, inplace=True)\n",
    "df.drop('connectivity', axis=1, inplace=True)"
   ]
  },
  {
   "cell_type": "code",
   "execution_count": 181,
   "metadata": {},
   "outputs": [
    {
     "data": {
      "text/plain": [
       "(5878, 18)"
      ]
     },
     "execution_count": 181,
     "metadata": {},
     "output_type": "execute_result"
    }
   ],
   "source": [
    "df.shape"
   ]
  },
  {
   "cell_type": "code",
   "execution_count": 182,
   "metadata": {},
   "outputs": [
    {
     "name": "stdout",
     "output_type": "stream",
     "text": [
      "<class 'pandas.core.frame.DataFrame'>\n",
      "Index: 5878 entries, 0 to 7126\n",
      "Data columns (total 18 columns):\n",
      " #   Column           Non-Null Count  Dtype  \n",
      "---  ------           --------------  -----  \n",
      " 0   index            5878 non-null   int64  \n",
      " 1   airline          5878 non-null   object \n",
      " 2   total_rate       5878 non-null   int64  \n",
      " 3   review_title     5878 non-null   object \n",
      " 4   review_date      5878 non-null   object \n",
      " 5   verified         5878 non-null   bool   \n",
      " 6   review           5878 non-null   object \n",
      " 7   aircraft         5878 non-null   object \n",
      " 8   traveller        5878 non-null   object \n",
      " 9   class_type       5878 non-null   object \n",
      " 10  route            5878 non-null   object \n",
      " 11  flight_date      5878 non-null   object \n",
      " 12  seat_comfort     5878 non-null   float64\n",
      " 13  cabin_staff      5878 non-null   float64\n",
      " 14  foodrinks        5878 non-null   float64\n",
      " 15  ground_staff     5878 non-null   float64\n",
      " 16  value_for_money  5878 non-null   float64\n",
      " 17  recommended      5878 non-null   object \n",
      "dtypes: bool(1), float64(5), int64(2), object(10)\n",
      "memory usage: 832.3+ KB\n"
     ]
    }
   ],
   "source": [
    "df.info()"
   ]
  },
  {
   "cell_type": "code",
   "execution_count": 183,
   "metadata": {},
   "outputs": [],
   "source": [
    "#clean dataset!"
   ]
  },
  {
   "cell_type": "markdown",
   "metadata": {},
   "source": [
    "Feature Engineering"
   ]
  },
  {
   "cell_type": "code",
   "execution_count": 184,
   "metadata": {},
   "outputs": [],
   "source": [
    "#create the variables 'origin' and 'destiny' from 'route'. O and D are separated by 'to', so a simple regexp can help."
   ]
  },
  {
   "cell_type": "code",
   "execution_count": 185,
   "metadata": {},
   "outputs": [],
   "source": [
    "new = df[\"route\"].str.split(r\"\\bto\\b\", expand=True)\n"
   ]
  },
  {
   "cell_type": "code",
   "execution_count": 186,
   "metadata": {},
   "outputs": [],
   "source": [
    "new.reset_index(drop=True, inplace=True)"
   ]
  },
  {
   "cell_type": "code",
   "execution_count": 187,
   "metadata": {},
   "outputs": [
    {
     "name": "stdout",
     "output_type": "stream",
     "text": [
      "<class 'pandas.core.frame.DataFrame'>\n",
      "RangeIndex: 5878 entries, 0 to 5877\n",
      "Data columns (total 3 columns):\n",
      " #   Column  Non-Null Count  Dtype \n",
      "---  ------  --------------  ----- \n",
      " 0   0       5878 non-null   object\n",
      " 1   1       5869 non-null   object\n",
      " 2   2       3 non-null      object\n",
      "dtypes: object(3)\n",
      "memory usage: 137.9+ KB\n"
     ]
    }
   ],
   "source": [
    "new.info()"
   ]
  },
  {
   "cell_type": "code",
   "execution_count": 188,
   "metadata": {},
   "outputs": [],
   "source": [
    "df.reset_index(drop=True, inplace=True)"
   ]
  },
  {
   "cell_type": "code",
   "execution_count": 189,
   "metadata": {},
   "outputs": [],
   "source": [
    "df.drop(columns='index', inplace=True)"
   ]
  },
  {
   "cell_type": "code",
   "execution_count": 190,
   "metadata": {},
   "outputs": [
    {
     "data": {
      "text/html": [
       "<div>\n",
       "<style scoped>\n",
       "    .dataframe tbody tr th:only-of-type {\n",
       "        vertical-align: middle;\n",
       "    }\n",
       "\n",
       "    .dataframe tbody tr th {\n",
       "        vertical-align: top;\n",
       "    }\n",
       "\n",
       "    .dataframe thead th {\n",
       "        text-align: right;\n",
       "    }\n",
       "</style>\n",
       "<table border=\"1\" class=\"dataframe\">\n",
       "  <thead>\n",
       "    <tr style=\"text-align: right;\">\n",
       "      <th></th>\n",
       "      <th>airline</th>\n",
       "      <th>total_rate</th>\n",
       "      <th>review_title</th>\n",
       "      <th>review_date</th>\n",
       "      <th>verified</th>\n",
       "      <th>review</th>\n",
       "      <th>aircraft</th>\n",
       "      <th>traveller</th>\n",
       "      <th>class_type</th>\n",
       "      <th>route</th>\n",
       "      <th>flight_date</th>\n",
       "      <th>seat_comfort</th>\n",
       "      <th>cabin_staff</th>\n",
       "      <th>foodrinks</th>\n",
       "      <th>ground_staff</th>\n",
       "      <th>value_for_money</th>\n",
       "      <th>recommended</th>\n",
       "    </tr>\n",
       "  </thead>\n",
       "  <tbody>\n",
       "    <tr>\n",
       "      <th>3935</th>\n",
       "      <td>Norwegian</td>\n",
       "      <td>1</td>\n",
       "      <td>\"we absolutely loved it\"</td>\n",
       "      <td>23rd January 2020</td>\n",
       "      <td>False</td>\n",
       "      <td>New York to London Gatwick. First time flyer...</td>\n",
       "      <td>Dreamliner</td>\n",
       "      <td>Couple Leisure</td>\n",
       "      <td>Premium Economy</td>\n",
       "      <td>New York to London Gatwick</td>\n",
       "      <td>January 2020</td>\n",
       "      <td>5.0</td>\n",
       "      <td>5.0</td>\n",
       "      <td>5.0</td>\n",
       "      <td>5.0</td>\n",
       "      <td>5.0</td>\n",
       "      <td>yes</td>\n",
       "    </tr>\n",
       "  </tbody>\n",
       "</table>\n",
       "</div>"
      ],
      "text/plain": [
       "        airline  total_rate              review_title        review_date  \\\n",
       "3935  Norwegian           1  \"we absolutely loved it\"  23rd January 2020   \n",
       "\n",
       "      verified                                             review    aircraft  \\\n",
       "3935     False    New York to London Gatwick. First time flyer...  Dreamliner   \n",
       "\n",
       "           traveller       class_type                       route  \\\n",
       "3935  Couple Leisure  Premium Economy  New York to London Gatwick   \n",
       "\n",
       "       flight_date  seat_comfort  cabin_staff  foodrinks  ground_staff  \\\n",
       "3935  January 2020           5.0          5.0        5.0           5.0   \n",
       "\n",
       "      value_for_money recommended  \n",
       "3935              5.0         yes  "
      ]
     },
     "execution_count": 190,
     "metadata": {},
     "output_type": "execute_result"
    }
   ],
   "source": [
    "df.sample()"
   ]
  },
  {
   "cell_type": "code",
   "execution_count": 191,
   "metadata": {},
   "outputs": [],
   "source": [
    "#relocate the new variables O and D in the main df"
   ]
  },
  {
   "cell_type": "code",
   "execution_count": 192,
   "metadata": {},
   "outputs": [],
   "source": [
    "df = pd.concat([df.iloc[:, :10], new, df.iloc[:, 10:]], axis=1)"
   ]
  },
  {
   "cell_type": "code",
   "execution_count": 193,
   "metadata": {},
   "outputs": [
    {
     "data": {
      "text/html": [
       "<div>\n",
       "<style scoped>\n",
       "    .dataframe tbody tr th:only-of-type {\n",
       "        vertical-align: middle;\n",
       "    }\n",
       "\n",
       "    .dataframe tbody tr th {\n",
       "        vertical-align: top;\n",
       "    }\n",
       "\n",
       "    .dataframe thead th {\n",
       "        text-align: right;\n",
       "    }\n",
       "</style>\n",
       "<table border=\"1\" class=\"dataframe\">\n",
       "  <thead>\n",
       "    <tr style=\"text-align: right;\">\n",
       "      <th></th>\n",
       "      <th>airline</th>\n",
       "      <th>total_rate</th>\n",
       "      <th>review_title</th>\n",
       "      <th>review_date</th>\n",
       "      <th>verified</th>\n",
       "      <th>review</th>\n",
       "      <th>aircraft</th>\n",
       "      <th>traveller</th>\n",
       "      <th>class_type</th>\n",
       "      <th>route</th>\n",
       "      <th>0</th>\n",
       "      <th>1</th>\n",
       "      <th>2</th>\n",
       "      <th>flight_date</th>\n",
       "      <th>seat_comfort</th>\n",
       "      <th>cabin_staff</th>\n",
       "      <th>foodrinks</th>\n",
       "      <th>ground_staff</th>\n",
       "      <th>value_for_money</th>\n",
       "      <th>recommended</th>\n",
       "    </tr>\n",
       "  </thead>\n",
       "  <tbody>\n",
       "    <tr>\n",
       "      <th>2479</th>\n",
       "      <td>EVA Air</td>\n",
       "      <td>8</td>\n",
       "      <td>\"the seat was very comfortable\"</td>\n",
       "      <td>18th November 2019</td>\n",
       "      <td>True</td>\n",
       "      <td>Shanghai Pudong to Taipei Taoyuan. When I fou...</td>\n",
       "      <td>Boeing 777-300ER</td>\n",
       "      <td>Family Leisure</td>\n",
       "      <td>Economy Class</td>\n",
       "      <td>Shanghai Pudong to Taipei Taoyuan</td>\n",
       "      <td>Shanghai Pudong</td>\n",
       "      <td>Taipei Taoyuan</td>\n",
       "      <td>None</td>\n",
       "      <td>November 2019</td>\n",
       "      <td>5.0</td>\n",
       "      <td>5.0</td>\n",
       "      <td>5.0</td>\n",
       "      <td>4.0</td>\n",
       "      <td>5.0</td>\n",
       "      <td>yes</td>\n",
       "    </tr>\n",
       "  </tbody>\n",
       "</table>\n",
       "</div>"
      ],
      "text/plain": [
       "      airline  total_rate                     review_title  \\\n",
       "2479  EVA Air           8  \"the seat was very comfortable\"   \n",
       "\n",
       "             review_date  verified  \\\n",
       "2479  18th November 2019      True   \n",
       "\n",
       "                                                 review          aircraft  \\\n",
       "2479   Shanghai Pudong to Taipei Taoyuan. When I fou...  Boeing 777-300ER   \n",
       "\n",
       "           traveller     class_type                              route  \\\n",
       "2479  Family Leisure  Economy Class  Shanghai Pudong to Taipei Taoyuan   \n",
       "\n",
       "                     0                1     2    flight_date  seat_comfort  \\\n",
       "2479  Shanghai Pudong    Taipei Taoyuan  None  November 2019           5.0   \n",
       "\n",
       "      cabin_staff  foodrinks  ground_staff  value_for_money recommended  \n",
       "2479          5.0        5.0           4.0              5.0         yes  "
      ]
     },
     "execution_count": 193,
     "metadata": {},
     "output_type": "execute_result"
    }
   ],
   "source": [
    "df.sample()"
   ]
  },
  {
   "cell_type": "code",
   "execution_count": 194,
   "metadata": {},
   "outputs": [],
   "source": [
    "df.rename(columns={df.columns[10]: 'origin'}, inplace=True)\n",
    "df.rename(columns={df.columns[11]: 'destiny'}, inplace=True)"
   ]
  },
  {
   "cell_type": "code",
   "execution_count": 195,
   "metadata": {},
   "outputs": [],
   "source": [
    "df.drop(columns=df.columns[12], inplace=True) #we don't need this variable"
   ]
  },
  {
   "cell_type": "code",
   "execution_count": 196,
   "metadata": {},
   "outputs": [
    {
     "data": {
      "text/html": [
       "<div>\n",
       "<style scoped>\n",
       "    .dataframe tbody tr th:only-of-type {\n",
       "        vertical-align: middle;\n",
       "    }\n",
       "\n",
       "    .dataframe tbody tr th {\n",
       "        vertical-align: top;\n",
       "    }\n",
       "\n",
       "    .dataframe thead th {\n",
       "        text-align: right;\n",
       "    }\n",
       "</style>\n",
       "<table border=\"1\" class=\"dataframe\">\n",
       "  <thead>\n",
       "    <tr style=\"text-align: right;\">\n",
       "      <th></th>\n",
       "      <th>airline</th>\n",
       "      <th>total_rate</th>\n",
       "      <th>review_title</th>\n",
       "      <th>review_date</th>\n",
       "      <th>verified</th>\n",
       "      <th>review</th>\n",
       "      <th>aircraft</th>\n",
       "      <th>traveller</th>\n",
       "      <th>class_type</th>\n",
       "      <th>route</th>\n",
       "      <th>origin</th>\n",
       "      <th>destiny</th>\n",
       "      <th>flight_date</th>\n",
       "      <th>seat_comfort</th>\n",
       "      <th>cabin_staff</th>\n",
       "      <th>foodrinks</th>\n",
       "      <th>ground_staff</th>\n",
       "      <th>value_for_money</th>\n",
       "      <th>recommended</th>\n",
       "    </tr>\n",
       "  </thead>\n",
       "  <tbody>\n",
       "    <tr>\n",
       "      <th>1296</th>\n",
       "      <td>Bamboo Airways</td>\n",
       "      <td>6</td>\n",
       "      <td>\"would prefer a low cost carrier\"</td>\n",
       "      <td>21st February 2020</td>\n",
       "      <td>True</td>\n",
       "      <td>Ho Chi Minh to Danang. We did not had to cue...</td>\n",
       "      <td>A320</td>\n",
       "      <td>Family Leisure</td>\n",
       "      <td>Economy Class</td>\n",
       "      <td>Ho Chi Minh to Danang</td>\n",
       "      <td>Ho Chi Minh</td>\n",
       "      <td>Danang</td>\n",
       "      <td>January 2020</td>\n",
       "      <td>4.0</td>\n",
       "      <td>4.0</td>\n",
       "      <td>2.0</td>\n",
       "      <td>1.0</td>\n",
       "      <td>1.0</td>\n",
       "      <td>no</td>\n",
       "    </tr>\n",
       "  </tbody>\n",
       "</table>\n",
       "</div>"
      ],
      "text/plain": [
       "             airline  total_rate                       review_title  \\\n",
       "1296  Bamboo Airways           6  \"would prefer a low cost carrier\"   \n",
       "\n",
       "             review_date  verified  \\\n",
       "1296  21st February 2020      True   \n",
       "\n",
       "                                                 review aircraft  \\\n",
       "1296    Ho Chi Minh to Danang. We did not had to cue...     A320   \n",
       "\n",
       "           traveller     class_type                  route        origin  \\\n",
       "1296  Family Leisure  Economy Class  Ho Chi Minh to Danang  Ho Chi Minh    \n",
       "\n",
       "      destiny   flight_date  seat_comfort  cabin_staff  foodrinks  \\\n",
       "1296   Danang  January 2020           4.0          4.0        2.0   \n",
       "\n",
       "      ground_staff  value_for_money recommended  \n",
       "1296           1.0              1.0          no  "
      ]
     },
     "execution_count": 196,
     "metadata": {},
     "output_type": "execute_result"
    }
   ],
   "source": [
    "df.sample()"
   ]
  },
  {
   "cell_type": "code",
   "execution_count": 197,
   "metadata": {},
   "outputs": [],
   "source": [
    "#some flights have in the route also the 'via...'. This means they have scale/s. Let's put this in a different variable"
   ]
  },
  {
   "cell_type": "code",
   "execution_count": 198,
   "metadata": {},
   "outputs": [
    {
     "data": {
      "text/plain": [
       "destiny\n",
       "Bangkok              125\n",
       "London                95\n",
       "Singapore             87\n",
       "Hong Kong             69\n",
       "Sydney                60\n",
       "                    ... \n",
       "Lisbon via Geneve      1\n",
       "CUC                    1\n",
       "EOH                    1\n",
       "Pereira                1\n",
       "Ndola                  1\n",
       "Name: count, Length: 2219, dtype: int64"
      ]
     },
     "execution_count": 198,
     "metadata": {},
     "output_type": "execute_result"
    }
   ],
   "source": [
    "df.destiny.value_counts()"
   ]
  },
  {
   "cell_type": "code",
   "execution_count": 199,
   "metadata": {},
   "outputs": [],
   "source": [
    "new2 = df[\"destiny\"].str.split(r\"\\bvia\\b\", expand=True)"
   ]
  },
  {
   "cell_type": "code",
   "execution_count": 200,
   "metadata": {},
   "outputs": [],
   "source": [
    "new2.rename(columns={new2.columns[0]: 'destiny2'}, inplace=True)\n",
    "new2.rename(columns={new2.columns[1]: 'scale'}, inplace=True)"
   ]
  },
  {
   "cell_type": "code",
   "execution_count": 201,
   "metadata": {},
   "outputs": [
    {
     "data": {
      "text/html": [
       "<div>\n",
       "<style scoped>\n",
       "    .dataframe tbody tr th:only-of-type {\n",
       "        vertical-align: middle;\n",
       "    }\n",
       "\n",
       "    .dataframe tbody tr th {\n",
       "        vertical-align: top;\n",
       "    }\n",
       "\n",
       "    .dataframe thead th {\n",
       "        text-align: right;\n",
       "    }\n",
       "</style>\n",
       "<table border=\"1\" class=\"dataframe\">\n",
       "  <thead>\n",
       "    <tr style=\"text-align: right;\">\n",
       "      <th></th>\n",
       "      <th>destiny2</th>\n",
       "      <th>scale</th>\n",
       "    </tr>\n",
       "  </thead>\n",
       "  <tbody>\n",
       "    <tr>\n",
       "      <th>3331</th>\n",
       "      <td>Kigali</td>\n",
       "      <td>Nairobi</td>\n",
       "    </tr>\n",
       "  </tbody>\n",
       "</table>\n",
       "</div>"
      ],
      "text/plain": [
       "      destiny2     scale\n",
       "3331   Kigali    Nairobi"
      ]
     },
     "execution_count": 201,
     "metadata": {},
     "output_type": "execute_result"
    }
   ],
   "source": [
    "new2.sample() #if scale is 'none' this means no scale was done. "
   ]
  },
  {
   "cell_type": "code",
   "execution_count": 202,
   "metadata": {},
   "outputs": [],
   "source": [
    "#join in to the main df"
   ]
  },
  {
   "cell_type": "code",
   "execution_count": 203,
   "metadata": {},
   "outputs": [],
   "source": [
    "df = pd.concat([df.iloc[:, :12], new2, df.iloc[:, 12:]], axis=1)"
   ]
  },
  {
   "cell_type": "code",
   "execution_count": 204,
   "metadata": {},
   "outputs": [],
   "source": [
    "df.drop(columns=\"destiny\", inplace=True)"
   ]
  },
  {
   "cell_type": "code",
   "execution_count": 205,
   "metadata": {},
   "outputs": [],
   "source": [
    "df.rename(columns={'destiny2':'destiny'}, inplace=True)"
   ]
  },
  {
   "cell_type": "code",
   "execution_count": 206,
   "metadata": {},
   "outputs": [
    {
     "name": "stdout",
     "output_type": "stream",
     "text": [
      "<class 'pandas.core.series.Series'>\n",
      "RangeIndex: 5878 entries, 0 to 5877\n",
      "Series name: scale\n",
      "Non-Null Count  Dtype \n",
      "--------------  ----- \n",
      "1213 non-null   object\n",
      "dtypes: object(1)\n",
      "memory usage: 46.1+ KB\n"
     ]
    }
   ],
   "source": [
    "df.scale.info() ##many missing. We assume all missings are 'no scale'."
   ]
  },
  {
   "cell_type": "code",
   "execution_count": 207,
   "metadata": {},
   "outputs": [],
   "source": [
    "#create a dummy variable of scale (yes/no). By now, don't drop the scale made."
   ]
  },
  {
   "cell_type": "code",
   "execution_count": 208,
   "metadata": {},
   "outputs": [],
   "source": [
    "df.insert(13,'scale_yn',np.where(df['scale'].isna(), 0,1))"
   ]
  },
  {
   "cell_type": "code",
   "execution_count": 209,
   "metadata": {},
   "outputs": [
    {
     "data": {
      "text/html": [
       "<div>\n",
       "<style scoped>\n",
       "    .dataframe tbody tr th:only-of-type {\n",
       "        vertical-align: middle;\n",
       "    }\n",
       "\n",
       "    .dataframe tbody tr th {\n",
       "        vertical-align: top;\n",
       "    }\n",
       "\n",
       "    .dataframe thead th {\n",
       "        text-align: right;\n",
       "    }\n",
       "</style>\n",
       "<table border=\"1\" class=\"dataframe\">\n",
       "  <thead>\n",
       "    <tr style=\"text-align: right;\">\n",
       "      <th></th>\n",
       "      <th>airline</th>\n",
       "      <th>total_rate</th>\n",
       "      <th>review_title</th>\n",
       "      <th>review_date</th>\n",
       "      <th>verified</th>\n",
       "      <th>review</th>\n",
       "      <th>aircraft</th>\n",
       "      <th>traveller</th>\n",
       "      <th>class_type</th>\n",
       "      <th>route</th>\n",
       "      <th>...</th>\n",
       "      <th>destiny</th>\n",
       "      <th>scale</th>\n",
       "      <th>scale_yn</th>\n",
       "      <th>flight_date</th>\n",
       "      <th>seat_comfort</th>\n",
       "      <th>cabin_staff</th>\n",
       "      <th>foodrinks</th>\n",
       "      <th>ground_staff</th>\n",
       "      <th>value_for_money</th>\n",
       "      <th>recommended</th>\n",
       "    </tr>\n",
       "  </thead>\n",
       "  <tbody>\n",
       "    <tr>\n",
       "      <th>2234</th>\n",
       "      <td>El Al Israel Airlines</td>\n",
       "      <td>4</td>\n",
       "      <td>\"never been a premium airline\"</td>\n",
       "      <td>16th June 2023</td>\n",
       "      <td>True</td>\n",
       "      <td>I have been a loyal customer of El Al for 40 ...</td>\n",
       "      <td>Boeing 737</td>\n",
       "      <td>Couple Leisure</td>\n",
       "      <td>Economy Class</td>\n",
       "      <td>Prague to Tel Aviv</td>\n",
       "      <td>...</td>\n",
       "      <td>Tel Aviv</td>\n",
       "      <td>None</td>\n",
       "      <td>0</td>\n",
       "      <td>May 2023</td>\n",
       "      <td>1.0</td>\n",
       "      <td>4.0</td>\n",
       "      <td>1.0</td>\n",
       "      <td>2.0</td>\n",
       "      <td>3.0</td>\n",
       "      <td>no</td>\n",
       "    </tr>\n",
       "  </tbody>\n",
       "</table>\n",
       "<p>1 rows × 21 columns</p>\n",
       "</div>"
      ],
      "text/plain": [
       "                    airline  total_rate                    review_title  \\\n",
       "2234  El Al Israel Airlines           4  \"never been a premium airline\"   \n",
       "\n",
       "         review_date  verified  \\\n",
       "2234  16th June 2023      True   \n",
       "\n",
       "                                                 review    aircraft  \\\n",
       "2234   I have been a loyal customer of El Al for 40 ...  Boeing 737   \n",
       "\n",
       "           traveller     class_type               route  ...    destiny scale  \\\n",
       "2234  Couple Leisure  Economy Class  Prague to Tel Aviv  ...   Tel Aviv  None   \n",
       "\n",
       "     scale_yn  flight_date seat_comfort  cabin_staff  foodrinks  ground_staff  \\\n",
       "2234        0     May 2023          1.0          4.0        1.0           2.0   \n",
       "\n",
       "      value_for_money  recommended  \n",
       "2234              3.0           no  \n",
       "\n",
       "[1 rows x 21 columns]"
      ]
     },
     "execution_count": 209,
     "metadata": {},
     "output_type": "execute_result"
    }
   ],
   "source": [
    "df.sample()"
   ]
  },
  {
   "cell_type": "code",
   "execution_count": 210,
   "metadata": {},
   "outputs": [
    {
     "name": "stdout",
     "output_type": "stream",
     "text": [
      "<class 'pandas.core.series.Series'>\n",
      "RangeIndex: 5878 entries, 0 to 5877\n",
      "Series name: scale\n",
      "Non-Null Count  Dtype \n",
      "--------------  ----- \n",
      "1213 non-null   object\n",
      "dtypes: object(1)\n",
      "memory usage: 46.1+ KB\n"
     ]
    }
   ],
   "source": [
    "df.scale.info()"
   ]
  },
  {
   "cell_type": "code",
   "execution_count": 211,
   "metadata": {},
   "outputs": [
    {
     "data": {
      "text/plain": [
       "scale_yn\n",
       "0    4665\n",
       "1    1213\n",
       "Name: count, dtype: int64"
      ]
     },
     "execution_count": 211,
     "metadata": {},
     "output_type": "execute_result"
    }
   ],
   "source": [
    "df.scale_yn.value_counts() #ok"
   ]
  },
  {
   "cell_type": "code",
   "execution_count": 212,
   "metadata": {},
   "outputs": [],
   "source": [
    "#hasta aquí ok"
   ]
  },
  {
   "cell_type": "code",
   "execution_count": 213,
   "metadata": {},
   "outputs": [],
   "source": [
    "#variable traveller includes type of traveller (solo, family, etc.) and purpose of the travel(leisure, business). Let´s separate both concepts"
   ]
  },
  {
   "cell_type": "code",
   "execution_count": 214,
   "metadata": {},
   "outputs": [
    {
     "data": {
      "text/plain": [
       "traveller\n",
       "Solo Leisure      2196\n",
       "Couple Leisure    1512\n",
       "Family Leisure    1092\n",
       "Business          1078\n",
       "Name: count, dtype: int64"
      ]
     },
     "execution_count": 214,
     "metadata": {},
     "output_type": "execute_result"
    }
   ],
   "source": [
    "df.traveller.value_counts()"
   ]
  },
  {
   "cell_type": "code",
   "execution_count": 215,
   "metadata": {},
   "outputs": [],
   "source": [
    "new3=df[\"traveller\"].str.split(\" \", expand=True)"
   ]
  },
  {
   "cell_type": "code",
   "execution_count": 216,
   "metadata": {},
   "outputs": [],
   "source": [
    "new3.rename(columns={new3.columns[0]: 'traveller_type'}, inplace=True)\n",
    "new3.rename(columns={new3.columns[1]: 'purpose'}, inplace=True)"
   ]
  },
  {
   "cell_type": "code",
   "execution_count": 217,
   "metadata": {},
   "outputs": [
    {
     "data": {
      "text/html": [
       "<div>\n",
       "<style scoped>\n",
       "    .dataframe tbody tr th:only-of-type {\n",
       "        vertical-align: middle;\n",
       "    }\n",
       "\n",
       "    .dataframe tbody tr th {\n",
       "        vertical-align: top;\n",
       "    }\n",
       "\n",
       "    .dataframe thead th {\n",
       "        text-align: right;\n",
       "    }\n",
       "</style>\n",
       "<table border=\"1\" class=\"dataframe\">\n",
       "  <thead>\n",
       "    <tr style=\"text-align: right;\">\n",
       "      <th></th>\n",
       "      <th>traveller_type</th>\n",
       "      <th>purpose</th>\n",
       "    </tr>\n",
       "  </thead>\n",
       "  <tbody>\n",
       "    <tr>\n",
       "      <th>0</th>\n",
       "      <td>Solo</td>\n",
       "      <td>Leisure</td>\n",
       "    </tr>\n",
       "    <tr>\n",
       "      <th>1</th>\n",
       "      <td>Solo</td>\n",
       "      <td>Leisure</td>\n",
       "    </tr>\n",
       "    <tr>\n",
       "      <th>2</th>\n",
       "      <td>Couple</td>\n",
       "      <td>Leisure</td>\n",
       "    </tr>\n",
       "    <tr>\n",
       "      <th>3</th>\n",
       "      <td>Solo</td>\n",
       "      <td>Leisure</td>\n",
       "    </tr>\n",
       "    <tr>\n",
       "      <th>4</th>\n",
       "      <td>Solo</td>\n",
       "      <td>Leisure</td>\n",
       "    </tr>\n",
       "    <tr>\n",
       "      <th>...</th>\n",
       "      <td>...</td>\n",
       "      <td>...</td>\n",
       "    </tr>\n",
       "    <tr>\n",
       "      <th>5873</th>\n",
       "      <td>Couple</td>\n",
       "      <td>Leisure</td>\n",
       "    </tr>\n",
       "    <tr>\n",
       "      <th>5874</th>\n",
       "      <td>Couple</td>\n",
       "      <td>Leisure</td>\n",
       "    </tr>\n",
       "    <tr>\n",
       "      <th>5875</th>\n",
       "      <td>Solo</td>\n",
       "      <td>Leisure</td>\n",
       "    </tr>\n",
       "    <tr>\n",
       "      <th>5876</th>\n",
       "      <td>Solo</td>\n",
       "      <td>Leisure</td>\n",
       "    </tr>\n",
       "    <tr>\n",
       "      <th>5877</th>\n",
       "      <td>Business</td>\n",
       "      <td>None</td>\n",
       "    </tr>\n",
       "  </tbody>\n",
       "</table>\n",
       "<p>5878 rows × 2 columns</p>\n",
       "</div>"
      ],
      "text/plain": [
       "     traveller_type  purpose\n",
       "0              Solo  Leisure\n",
       "1              Solo  Leisure\n",
       "2            Couple  Leisure\n",
       "3              Solo  Leisure\n",
       "4              Solo  Leisure\n",
       "...             ...      ...\n",
       "5873         Couple  Leisure\n",
       "5874         Couple  Leisure\n",
       "5875           Solo  Leisure\n",
       "5876           Solo  Leisure\n",
       "5877       Business     None\n",
       "\n",
       "[5878 rows x 2 columns]"
      ]
     },
     "execution_count": 217,
     "metadata": {},
     "output_type": "execute_result"
    }
   ],
   "source": [
    "new3"
   ]
  },
  {
   "cell_type": "code",
   "execution_count": 218,
   "metadata": {},
   "outputs": [
    {
     "name": "stdout",
     "output_type": "stream",
     "text": [
      "<class 'pandas.core.series.Series'>\n",
      "RangeIndex: 5878 entries, 0 to 5877\n",
      "Series name: traveller\n",
      "Non-Null Count  Dtype \n",
      "--------------  ----- \n",
      "5878 non-null   object\n",
      "dtypes: object(1)\n",
      "memory usage: 46.1+ KB\n"
     ]
    }
   ],
   "source": [
    "df.traveller.info()"
   ]
  },
  {
   "cell_type": "code",
   "execution_count": 219,
   "metadata": {},
   "outputs": [],
   "source": [
    "#put 'business' in the purpose variable, not in traveller type"
   ]
  },
  {
   "cell_type": "code",
   "execution_count": 220,
   "metadata": {},
   "outputs": [],
   "source": [
    "new3[\"purpose\"]=np.where(new3['traveller_type']==\"Business\", \"Bussiness\",new3.purpose)"
   ]
  },
  {
   "cell_type": "code",
   "execution_count": 221,
   "metadata": {},
   "outputs": [
    {
     "data": {
      "text/plain": [
       "traveller_type\n",
       "Solo        2196\n",
       "Couple      1512\n",
       "Family      1092\n",
       "Business    1078\n",
       "Name: count, dtype: int64"
      ]
     },
     "execution_count": 221,
     "metadata": {},
     "output_type": "execute_result"
    }
   ],
   "source": [
    "new3.traveller_type.value_counts()"
   ]
  },
  {
   "cell_type": "code",
   "execution_count": 222,
   "metadata": {},
   "outputs": [
    {
     "data": {
      "text/plain": [
       "purpose\n",
       "Leisure      4800\n",
       "Bussiness    1078\n",
       "Name: count, dtype: int64"
      ]
     },
     "execution_count": 222,
     "metadata": {},
     "output_type": "execute_result"
    }
   ],
   "source": [
    "new3.purpose.value_counts()"
   ]
  },
  {
   "cell_type": "code",
   "execution_count": 223,
   "metadata": {},
   "outputs": [],
   "source": [
    "new3[\"traveller_type\"]=np.where(new3['traveller_type']==\"Business\", \"Solo\",new3.traveller_type) #assume business is 'solo' in traveller_type"
   ]
  },
  {
   "cell_type": "code",
   "execution_count": 224,
   "metadata": {},
   "outputs": [
    {
     "data": {
      "text/plain": [
       "traveller_type\n",
       "Solo      3274\n",
       "Couple    1512\n",
       "Family    1092\n",
       "Name: count, dtype: int64"
      ]
     },
     "execution_count": 224,
     "metadata": {},
     "output_type": "execute_result"
    }
   ],
   "source": [
    "new3.traveller_type.value_counts() #ok"
   ]
  },
  {
   "cell_type": "code",
   "execution_count": 225,
   "metadata": {},
   "outputs": [
    {
     "data": {
      "text/plain": [
       "traveller\n",
       "Solo Leisure      2196\n",
       "Couple Leisure    1512\n",
       "Family Leisure    1092\n",
       "Business          1078\n",
       "Name: count, dtype: int64"
      ]
     },
     "execution_count": 225,
     "metadata": {},
     "output_type": "execute_result"
    }
   ],
   "source": [
    "df.traveller.value_counts()"
   ]
  },
  {
   "cell_type": "code",
   "execution_count": 226,
   "metadata": {},
   "outputs": [
    {
     "data": {
      "text/plain": [
       "7"
      ]
     },
     "execution_count": 226,
     "metadata": {},
     "output_type": "execute_result"
    }
   ],
   "source": [
    "df.columns.get_loc('traveller') #this variable is in position 7 in my main df. So the new derived variables must be in position 8,9"
   ]
  },
  {
   "cell_type": "code",
   "execution_count": 227,
   "metadata": {},
   "outputs": [],
   "source": [
    "df = pd.concat([df.iloc[:, :8], new3, df.iloc[:, 8:]], axis=1)"
   ]
  },
  {
   "cell_type": "code",
   "execution_count": 228,
   "metadata": {},
   "outputs": [
    {
     "data": {
      "text/html": [
       "<div>\n",
       "<style scoped>\n",
       "    .dataframe tbody tr th:only-of-type {\n",
       "        vertical-align: middle;\n",
       "    }\n",
       "\n",
       "    .dataframe tbody tr th {\n",
       "        vertical-align: top;\n",
       "    }\n",
       "\n",
       "    .dataframe thead th {\n",
       "        text-align: right;\n",
       "    }\n",
       "</style>\n",
       "<table border=\"1\" class=\"dataframe\">\n",
       "  <thead>\n",
       "    <tr style=\"text-align: right;\">\n",
       "      <th></th>\n",
       "      <th>airline</th>\n",
       "      <th>total_rate</th>\n",
       "      <th>review_title</th>\n",
       "      <th>review_date</th>\n",
       "      <th>verified</th>\n",
       "      <th>review</th>\n",
       "      <th>aircraft</th>\n",
       "      <th>traveller</th>\n",
       "      <th>traveller_type</th>\n",
       "      <th>purpose</th>\n",
       "      <th>...</th>\n",
       "      <th>destiny</th>\n",
       "      <th>scale</th>\n",
       "      <th>scale_yn</th>\n",
       "      <th>flight_date</th>\n",
       "      <th>seat_comfort</th>\n",
       "      <th>cabin_staff</th>\n",
       "      <th>foodrinks</th>\n",
       "      <th>ground_staff</th>\n",
       "      <th>value_for_money</th>\n",
       "      <th>recommended</th>\n",
       "    </tr>\n",
       "  </thead>\n",
       "  <tbody>\n",
       "    <tr>\n",
       "      <th>5277</th>\n",
       "      <td>Thomson Airways</td>\n",
       "      <td>6</td>\n",
       "      <td>\"professional crew\"</td>\n",
       "      <td>27th September 2016</td>\n",
       "      <td>False</td>\n",
       "      <td>Puerto Vallarta to London Gatwick with Thomson...</td>\n",
       "      <td>Boeing 787</td>\n",
       "      <td>Couple Leisure</td>\n",
       "      <td>Couple</td>\n",
       "      <td>Leisure</td>\n",
       "      <td>...</td>\n",
       "      <td>LGW</td>\n",
       "      <td>None</td>\n",
       "      <td>0</td>\n",
       "      <td>September 2016</td>\n",
       "      <td>2.0</td>\n",
       "      <td>5.0</td>\n",
       "      <td>4.0</td>\n",
       "      <td>1.0</td>\n",
       "      <td>3.0</td>\n",
       "      <td>yes</td>\n",
       "    </tr>\n",
       "  </tbody>\n",
       "</table>\n",
       "<p>1 rows × 23 columns</p>\n",
       "</div>"
      ],
      "text/plain": [
       "              airline  total_rate         review_title          review_date  \\\n",
       "5277  Thomson Airways           6  \"professional crew\"  27th September 2016   \n",
       "\n",
       "      verified                                             review    aircraft  \\\n",
       "5277     False  Puerto Vallarta to London Gatwick with Thomson...  Boeing 787   \n",
       "\n",
       "           traveller traveller_type  purpose  ... destiny scale scale_yn  \\\n",
       "5277  Couple Leisure         Couple  Leisure  ...     LGW  None        0   \n",
       "\n",
       "         flight_date seat_comfort  cabin_staff foodrinks  ground_staff  \\\n",
       "5277  September 2016          2.0          5.0       4.0           1.0   \n",
       "\n",
       "      value_for_money  recommended  \n",
       "5277              3.0          yes  \n",
       "\n",
       "[1 rows x 23 columns]"
      ]
     },
     "execution_count": 228,
     "metadata": {},
     "output_type": "execute_result"
    }
   ],
   "source": [
    "df.sample()"
   ]
  },
  {
   "cell_type": "code",
   "execution_count": 229,
   "metadata": {},
   "outputs": [],
   "source": [
    "df.drop(columns='traveller', inplace=True) #drop original variable"
   ]
  },
  {
   "cell_type": "code",
   "execution_count": 230,
   "metadata": {},
   "outputs": [
    {
     "name": "stdout",
     "output_type": "stream",
     "text": [
      "<class 'pandas.core.frame.DataFrame'>\n",
      "RangeIndex: 5878 entries, 0 to 5877\n",
      "Data columns (total 22 columns):\n",
      " #   Column           Non-Null Count  Dtype  \n",
      "---  ------           --------------  -----  \n",
      " 0   airline          5878 non-null   object \n",
      " 1   total_rate       5878 non-null   int64  \n",
      " 2   review_title     5878 non-null   object \n",
      " 3   review_date      5878 non-null   object \n",
      " 4   verified         5878 non-null   bool   \n",
      " 5   review           5878 non-null   object \n",
      " 6   aircraft         5878 non-null   object \n",
      " 7   traveller_type   5878 non-null   object \n",
      " 8   purpose          5878 non-null   object \n",
      " 9   class_type       5878 non-null   object \n",
      " 10  route            5878 non-null   object \n",
      " 11  origin           5878 non-null   object \n",
      " 12  destiny          5869 non-null   object \n",
      " 13  scale            1213 non-null   object \n",
      " 14  scale_yn         5878 non-null   int32  \n",
      " 15  flight_date      5878 non-null   object \n",
      " 16  seat_comfort     5878 non-null   float64\n",
      " 17  cabin_staff      5878 non-null   float64\n",
      " 18  foodrinks        5878 non-null   float64\n",
      " 19  ground_staff     5878 non-null   float64\n",
      " 20  value_for_money  5878 non-null   float64\n",
      " 21  recommended      5878 non-null   object \n",
      "dtypes: bool(1), float64(5), int32(1), int64(1), object(14)\n",
      "memory usage: 947.3+ KB\n"
     ]
    }
   ],
   "source": [
    "df.info() #ok"
   ]
  },
  {
   "cell_type": "code",
   "execution_count": 231,
   "metadata": {},
   "outputs": [
    {
     "data": {
      "text/plain": [
       "class_type\n",
       "Economy Class      4284\n",
       "Business Class     1227\n",
       "Premium Economy     258\n",
       "First Class         109\n",
       "Name: count, dtype: int64"
      ]
     },
     "execution_count": 231,
     "metadata": {},
     "output_type": "execute_result"
    }
   ],
   "source": [
    "df.class_type.value_counts()"
   ]
  },
  {
   "cell_type": "markdown",
   "metadata": {},
   "source": [
    "Questions"
   ]
  },
  {
   "cell_type": "markdown",
   "metadata": {},
   "source": [
    "1- reviews over time: prophet\n",
    "2- classification system: creating an overall rating, recommend which is the best airline\n",
    "3- classification system: including a country, which is the best airline to use\n",
    "4- what does affect that an airline is recommended or not (logit)\n",
    "5- clustering\n",
    "6- sentiment analysis\n",
    "7- Tableau: que metiendo un avion me diga reviews, a donde vuela, etc.\n",
    "\n",
    "\n",
    "- Link seatguru\n",
    "\n",
    "\n"
   ]
  },
  {
   "cell_type": "code",
   "execution_count": 232,
   "metadata": {},
   "outputs": [
    {
     "data": {
      "text/plain": [
       "409"
      ]
     },
     "execution_count": 232,
     "metadata": {},
     "output_type": "execute_result"
    }
   ],
   "source": [
    "df[\"airline\"].nunique()"
   ]
  },
  {
   "cell_type": "code",
   "execution_count": 233,
   "metadata": {},
   "outputs": [
    {
     "data": {
      "text/plain": [
       "15"
      ]
     },
     "execution_count": 233,
     "metadata": {},
     "output_type": "execute_result"
    }
   ],
   "source": [
    "(df[\"airline\"]== 'Level').sum()"
   ]
  }
 ],
 "metadata": {
  "kernelspec": {
   "display_name": "ironhack",
   "language": "python",
   "name": "python3"
  },
  "language_info": {
   "codemirror_mode": {
    "name": "ipython",
    "version": 3
   },
   "file_extension": ".py",
   "mimetype": "text/x-python",
   "name": "python",
   "nbconvert_exporter": "python",
   "pygments_lexer": "ipython3",
   "version": "3.11.7"
  }
 },
 "nbformat": 4,
 "nbformat_minor": 2
}
