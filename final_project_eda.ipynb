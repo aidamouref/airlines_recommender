{
 "cells": [
  {
   "cell_type": "code",
   "execution_count": 117,
   "metadata": {},
   "outputs": [],
   "source": [
    "#IMPORT LIBRARIES\n",
    "import pandas as pd\n",
    "import numpy as np\n",
    "\n",
    "import matplotlib.pyplot as plt\n",
    "import seaborn as sns\n",
    "%matplotlib inline\n",
    "\n",
    "import warnings\n",
    "warnings.filterwarnings('ignore')"
   ]
  },
  {
   "cell_type": "code",
   "execution_count": 118,
   "metadata": {},
   "outputs": [],
   "source": [
    "df0=pd.read_csv(\"datasets/airlinereviews128k.csv\", parse_dates=['DateFlown'])"
   ]
  },
  {
   "cell_type": "code",
   "execution_count": 119,
   "metadata": {},
   "outputs": [],
   "source": [
    "pd.set_option('display.max_columns', None)"
   ]
  },
  {
   "cell_type": "code",
   "execution_count": 120,
   "metadata": {},
   "outputs": [
    {
     "data": {
      "text/html": [
       "<div>\n",
       "<style scoped>\n",
       "    .dataframe tbody tr th:only-of-type {\n",
       "        vertical-align: middle;\n",
       "    }\n",
       "\n",
       "    .dataframe tbody tr th {\n",
       "        vertical-align: top;\n",
       "    }\n",
       "\n",
       "    .dataframe thead th {\n",
       "        text-align: right;\n",
       "    }\n",
       "</style>\n",
       "<table border=\"1\" class=\"dataframe\">\n",
       "  <thead>\n",
       "    <tr style=\"text-align: right;\">\n",
       "      <th></th>\n",
       "      <th>Aircraft</th>\n",
       "      <th>AirlineName</th>\n",
       "      <th>CabinType</th>\n",
       "      <th>DateFlown</th>\n",
       "      <th>DatePub</th>\n",
       "      <th>EntertainmentRating</th>\n",
       "      <th>FoodRating</th>\n",
       "      <th>GroundServiceRating</th>\n",
       "      <th>OriginCountry</th>\n",
       "      <th>OverallScore</th>\n",
       "      <th>Recommended</th>\n",
       "      <th>Review</th>\n",
       "      <th>Route</th>\n",
       "      <th>SeatComfortRating</th>\n",
       "      <th>ServiceRating</th>\n",
       "      <th>Slug</th>\n",
       "      <th>Title</th>\n",
       "      <th>TravelType</th>\n",
       "      <th>TripVerified</th>\n",
       "      <th>ValueRating</th>\n",
       "      <th>WifiRating</th>\n",
       "      <th>unique_id</th>\n",
       "    </tr>\n",
       "  </thead>\n",
       "  <tbody>\n",
       "    <tr>\n",
       "      <th>57733</th>\n",
       "      <td>NaN</td>\n",
       "      <td>Frontier Airlines</td>\n",
       "      <td>Economy Class</td>\n",
       "      <td>2018-09-01</td>\n",
       "      <td>5th September 2018</td>\n",
       "      <td>0</td>\n",
       "      <td>1</td>\n",
       "      <td>1</td>\n",
       "      <td>UnitedStates</td>\n",
       "      <td>1.0</td>\n",
       "      <td>no</td>\n",
       "      <td>Denver to Providence. Pretty much the worst. 3...</td>\n",
       "      <td>Denver to Providence</td>\n",
       "      <td>1</td>\n",
       "      <td>1</td>\n",
       "      <td>frontier-airlines</td>\n",
       "      <td>absolute worst airline</td>\n",
       "      <td>Couple Leisure</td>\n",
       "      <td>Trip Verified</td>\n",
       "      <td>3</td>\n",
       "      <td>0</td>\n",
       "      <td>f79ca3bc-db0a-4deb-a05a-d9655520660e</td>\n",
       "    </tr>\n",
       "  </tbody>\n",
       "</table>\n",
       "</div>"
      ],
      "text/plain": [
       "      Aircraft        AirlineName      CabinType  DateFlown  \\\n",
       "57733      NaN  Frontier Airlines  Economy Class 2018-09-01   \n",
       "\n",
       "                  DatePub  EntertainmentRating  FoodRating  \\\n",
       "57733  5th September 2018                    0           1   \n",
       "\n",
       "       GroundServiceRating OriginCountry  OverallScore Recommended  \\\n",
       "57733                    1  UnitedStates           1.0          no   \n",
       "\n",
       "                                                  Review  \\\n",
       "57733  Denver to Providence. Pretty much the worst. 3...   \n",
       "\n",
       "                      Route  SeatComfortRating  ServiceRating  \\\n",
       "57733  Denver to Providence                  1              1   \n",
       "\n",
       "                    Slug                   Title      TravelType  \\\n",
       "57733  frontier-airlines  absolute worst airline  Couple Leisure   \n",
       "\n",
       "        TripVerified  ValueRating  WifiRating  \\\n",
       "57733  Trip Verified            3           0   \n",
       "\n",
       "                                  unique_id  \n",
       "57733  f79ca3bc-db0a-4deb-a05a-d9655520660e  "
      ]
     },
     "execution_count": 120,
     "metadata": {},
     "output_type": "execute_result"
    }
   ],
   "source": [
    "df0.sample()"
   ]
  },
  {
   "cell_type": "code",
   "execution_count": 121,
   "metadata": {},
   "outputs": [
    {
     "name": "stdout",
     "output_type": "stream",
     "text": [
      "<class 'pandas.core.frame.DataFrame'>\n",
      "RangeIndex: 129455 entries, 0 to 129454\n",
      "Data columns (total 22 columns):\n",
      " #   Column               Non-Null Count   Dtype         \n",
      "---  ------               --------------   -----         \n",
      " 0   Aircraft             36423 non-null   object        \n",
      " 1   AirlineName          129455 non-null  object        \n",
      " 2   CabinType            126437 non-null  object        \n",
      " 3   DateFlown            90993 non-null   datetime64[ns]\n",
      " 4   DatePub              129455 non-null  object        \n",
      " 5   EntertainmentRating  129455 non-null  int64         \n",
      " 6   FoodRating           129455 non-null  int64         \n",
      " 7   GroundServiceRating  129455 non-null  int64         \n",
      " 8   OriginCountry        127777 non-null  object        \n",
      " 9   OverallScore         125124 non-null  float64       \n",
      " 10  Recommended          129455 non-null  object        \n",
      " 11  Review               128631 non-null  object        \n",
      " 12  Route                90825 non-null   object        \n",
      " 13  SeatComfortRating    129455 non-null  int64         \n",
      " 14  ServiceRating        129455 non-null  int64         \n",
      " 15  Slug                 129455 non-null  object        \n",
      " 16  Title                129451 non-null  object        \n",
      " 17  TravelType           91146 non-null   object        \n",
      " 18  TripVerified         59508 non-null   object        \n",
      " 19  ValueRating          129455 non-null  int64         \n",
      " 20  WifiRating           129455 non-null  int64         \n",
      " 21  unique_id            129455 non-null  object        \n",
      "dtypes: datetime64[ns](1), float64(1), int64(7), object(13)\n",
      "memory usage: 21.7+ MB\n"
     ]
    }
   ],
   "source": [
    "df0.info()"
   ]
  },
  {
   "cell_type": "markdown",
   "metadata": {},
   "source": [
    "## EDA"
   ]
  },
  {
   "cell_type": "code",
   "execution_count": 122,
   "metadata": {},
   "outputs": [],
   "source": [
    "#pass names to uppercase (to differentiate better)\n",
    "df0.columns = [x.upper() for x in df0.columns]"
   ]
  },
  {
   "cell_type": "code",
   "execution_count": 123,
   "metadata": {},
   "outputs": [],
   "source": [
    "#keep only dataset with Review values and Title of Reviews\n",
    "df0=df0.dropna(subset=\"REVIEW\") #too complicated to impute\n",
    "df0=df0.dropna(subset=\"TITLE\") #too complicated to impute\n",
    "df0.reset_index(drop=True, inplace=True)"
   ]
  },
  {
   "cell_type": "code",
   "execution_count": 124,
   "metadata": {},
   "outputs": [
    {
     "data": {
      "text/plain": [
       "array(['Moroni to Moheli', 'Moroni to Anjouan', 'Anjouan to Dzaoudzi',\n",
       "       ..., 'Budapest to Göteborg', 'London to Burgas',\n",
       "       'Paris Beauvais to Riga'], dtype=object)"
      ]
     },
     "execution_count": 124,
     "metadata": {},
     "output_type": "execute_result"
    }
   ],
   "source": [
    "df0.ROUTE.unique() #probably transform it later for origin and destiny"
   ]
  },
  {
   "cell_type": "code",
   "execution_count": 125,
   "metadata": {},
   "outputs": [],
   "source": [
    "#keep only dataset with Aircraft values\n",
    "#df0=df0.dropna(subset=\"AIRCRAFT\")"
   ]
  },
  {
   "cell_type": "code",
   "execution_count": 126,
   "metadata": {},
   "outputs": [
    {
     "data": {
      "text/plain": [
       "TRIPVERIFIED\n",
       "Trip Verified                                45311\n",
       "Not Verified                                 13755\n",
       "NotVerified                                      9\n",
       "Trip Verified,Trip Verified                      1\n",
       "Chicago to Colorado Springs. Not Verified        1\n",
       "Name: count, dtype: int64"
      ]
     },
     "execution_count": 126,
     "metadata": {},
     "output_type": "execute_result"
    }
   ],
   "source": [
    "#clean the tripverified variable\n",
    "df0.TRIPVERIFIED.value_counts()"
   ]
  },
  {
   "cell_type": "code",
   "execution_count": 127,
   "metadata": {},
   "outputs": [],
   "source": [
    "df0[\"TRIPVERIFIED\"].replace(\"Trip Verified,Trip Verified\",\"Trip Verified \", inplace=True)\n",
    "df0[\"TRIPVERIFIED\"].replace(\"NotVerified\",\"Not Verified \", inplace=True)\n",
    "df0[\"TRIPVERIFIED\"].replace(\"Not Verified,Not Verified\",\"Not Verified \", inplace=True)\n",
    "df0[\"TRIPVERIFIED\"].replace(\"Chicago to Colorado Springs. Not Verified\",\"Not Verified \", inplace=True)\n",
    "\n",
    "df0[\"TRIPVERIFIED\"]=df0.TRIPVERIFIED.str.strip()"
   ]
  },
  {
   "cell_type": "code",
   "execution_count": 128,
   "metadata": {},
   "outputs": [
    {
     "name": "stdout",
     "output_type": "stream",
     "text": [
      "10th April 2005\n",
      "9th September 2022\n"
     ]
    }
   ],
   "source": [
    "#check time horizon to see if enough for time series\n",
    "print(df0[\"DATEPUB\"].min())\n",
    "print(df0[\"DATEPUB\"].max())\n",
    "\n",
    "#ok"
   ]
  },
  {
   "cell_type": "code",
   "execution_count": 129,
   "metadata": {},
   "outputs": [
    {
     "data": {
      "text/plain": [
       "(128627, 22)"
      ]
     },
     "execution_count": 129,
     "metadata": {},
     "output_type": "execute_result"
    }
   ],
   "source": [
    "df0.drop_duplicates()\n",
    "df0.shape #no duplicates"
   ]
  },
  {
   "cell_type": "code",
   "execution_count": 130,
   "metadata": {},
   "outputs": [
    {
     "data": {
      "text/html": [
       "<div>\n",
       "<style scoped>\n",
       "    .dataframe tbody tr th:only-of-type {\n",
       "        vertical-align: middle;\n",
       "    }\n",
       "\n",
       "    .dataframe tbody tr th {\n",
       "        vertical-align: top;\n",
       "    }\n",
       "\n",
       "    .dataframe thead th {\n",
       "        text-align: right;\n",
       "    }\n",
       "</style>\n",
       "<table border=\"1\" class=\"dataframe\">\n",
       "  <thead>\n",
       "    <tr style=\"text-align: right;\">\n",
       "      <th></th>\n",
       "      <th>DATEFLOWN</th>\n",
       "      <th>ENTERTAINMENTRATING</th>\n",
       "      <th>FOODRATING</th>\n",
       "      <th>GROUNDSERVICERATING</th>\n",
       "      <th>OVERALLSCORE</th>\n",
       "      <th>SEATCOMFORTRATING</th>\n",
       "      <th>SERVICERATING</th>\n",
       "      <th>VALUERATING</th>\n",
       "      <th>WIFIRATING</th>\n",
       "    </tr>\n",
       "  </thead>\n",
       "  <tbody>\n",
       "    <tr>\n",
       "      <th>count</th>\n",
       "      <td>90166</td>\n",
       "      <td>128627.000000</td>\n",
       "      <td>128627.000000</td>\n",
       "      <td>128627.000000</td>\n",
       "      <td>124297.000000</td>\n",
       "      <td>128627.000000</td>\n",
       "      <td>128627.000000</td>\n",
       "      <td>128627.000000</td>\n",
       "      <td>128627.000000</td>\n",
       "    </tr>\n",
       "    <tr>\n",
       "      <th>mean</th>\n",
       "      <td>2018-12-26 22:17:51.144333568</td>\n",
       "      <td>1.559260</td>\n",
       "      <td>1.991557</td>\n",
       "      <td>1.648464</td>\n",
       "      <td>4.563103</td>\n",
       "      <td>2.471518</td>\n",
       "      <td>2.690602</td>\n",
       "      <td>2.639780</td>\n",
       "      <td>0.453132</td>\n",
       "    </tr>\n",
       "    <tr>\n",
       "      <th>min</th>\n",
       "      <td>2012-04-01 00:00:00</td>\n",
       "      <td>0.000000</td>\n",
       "      <td>0.000000</td>\n",
       "      <td>0.000000</td>\n",
       "      <td>1.000000</td>\n",
       "      <td>0.000000</td>\n",
       "      <td>0.000000</td>\n",
       "      <td>0.000000</td>\n",
       "      <td>0.000000</td>\n",
       "    </tr>\n",
       "    <tr>\n",
       "      <th>25%</th>\n",
       "      <td>2017-01-01 00:00:00</td>\n",
       "      <td>0.000000</td>\n",
       "      <td>0.000000</td>\n",
       "      <td>0.000000</td>\n",
       "      <td>1.000000</td>\n",
       "      <td>1.000000</td>\n",
       "      <td>1.000000</td>\n",
       "      <td>1.000000</td>\n",
       "      <td>0.000000</td>\n",
       "    </tr>\n",
       "    <tr>\n",
       "      <th>50%</th>\n",
       "      <td>2018-11-01 00:00:00</td>\n",
       "      <td>1.000000</td>\n",
       "      <td>1.000000</td>\n",
       "      <td>1.000000</td>\n",
       "      <td>3.000000</td>\n",
       "      <td>2.000000</td>\n",
       "      <td>3.000000</td>\n",
       "      <td>2.000000</td>\n",
       "      <td>0.000000</td>\n",
       "    </tr>\n",
       "    <tr>\n",
       "      <th>75%</th>\n",
       "      <td>2020-11-01 00:00:00</td>\n",
       "      <td>3.000000</td>\n",
       "      <td>4.000000</td>\n",
       "      <td>3.000000</td>\n",
       "      <td>8.000000</td>\n",
       "      <td>4.000000</td>\n",
       "      <td>4.000000</td>\n",
       "      <td>4.000000</td>\n",
       "      <td>0.000000</td>\n",
       "    </tr>\n",
       "    <tr>\n",
       "      <th>max</th>\n",
       "      <td>2023-05-01 00:00:00</td>\n",
       "      <td>5.000000</td>\n",
       "      <td>5.000000</td>\n",
       "      <td>5.000000</td>\n",
       "      <td>10.000000</td>\n",
       "      <td>5.000000</td>\n",
       "      <td>5.000000</td>\n",
       "      <td>5.000000</td>\n",
       "      <td>5.000000</td>\n",
       "    </tr>\n",
       "    <tr>\n",
       "      <th>std</th>\n",
       "      <td>NaN</td>\n",
       "      <td>1.751718</td>\n",
       "      <td>1.774979</td>\n",
       "      <td>1.740740</td>\n",
       "      <td>3.499330</td>\n",
       "      <td>1.620989</td>\n",
       "      <td>1.775078</td>\n",
       "      <td>1.629001</td>\n",
       "      <td>1.077762</td>\n",
       "    </tr>\n",
       "  </tbody>\n",
       "</table>\n",
       "</div>"
      ],
      "text/plain": [
       "                           DATEFLOWN  ENTERTAINMENTRATING     FOODRATING  \\\n",
       "count                          90166        128627.000000  128627.000000   \n",
       "mean   2018-12-26 22:17:51.144333568             1.559260       1.991557   \n",
       "min              2012-04-01 00:00:00             0.000000       0.000000   \n",
       "25%              2017-01-01 00:00:00             0.000000       0.000000   \n",
       "50%              2018-11-01 00:00:00             1.000000       1.000000   \n",
       "75%              2020-11-01 00:00:00             3.000000       4.000000   \n",
       "max              2023-05-01 00:00:00             5.000000       5.000000   \n",
       "std                              NaN             1.751718       1.774979   \n",
       "\n",
       "       GROUNDSERVICERATING   OVERALLSCORE  SEATCOMFORTRATING  SERVICERATING  \\\n",
       "count        128627.000000  124297.000000      128627.000000  128627.000000   \n",
       "mean              1.648464       4.563103           2.471518       2.690602   \n",
       "min               0.000000       1.000000           0.000000       0.000000   \n",
       "25%               0.000000       1.000000           1.000000       1.000000   \n",
       "50%               1.000000       3.000000           2.000000       3.000000   \n",
       "75%               3.000000       8.000000           4.000000       4.000000   \n",
       "max               5.000000      10.000000           5.000000       5.000000   \n",
       "std               1.740740       3.499330           1.620989       1.775078   \n",
       "\n",
       "         VALUERATING     WIFIRATING  \n",
       "count  128627.000000  128627.000000  \n",
       "mean        2.639780       0.453132  \n",
       "min         0.000000       0.000000  \n",
       "25%         1.000000       0.000000  \n",
       "50%         2.000000       0.000000  \n",
       "75%         4.000000       0.000000  \n",
       "max         5.000000       5.000000  \n",
       "std         1.629001       1.077762  "
      ]
     },
     "execution_count": 130,
     "metadata": {},
     "output_type": "execute_result"
    }
   ],
   "source": [
    "df0.describe()"
   ]
  },
  {
   "cell_type": "code",
   "execution_count": 131,
   "metadata": {},
   "outputs": [],
   "source": [
    "from functions import nulls"
   ]
  },
  {
   "cell_type": "code",
   "execution_count": 132,
   "metadata": {},
   "outputs": [
    {
     "data": {
      "text/html": [
       "<div>\n",
       "<style scoped>\n",
       "    .dataframe tbody tr th:only-of-type {\n",
       "        vertical-align: middle;\n",
       "    }\n",
       "\n",
       "    .dataframe tbody tr th {\n",
       "        vertical-align: top;\n",
       "    }\n",
       "\n",
       "    .dataframe thead th {\n",
       "        text-align: right;\n",
       "    }\n",
       "</style>\n",
       "<table border=\"1\" class=\"dataframe\">\n",
       "  <thead>\n",
       "    <tr style=\"text-align: right;\">\n",
       "      <th></th>\n",
       "      <th>column_name</th>\n",
       "      <th>nulls_percentage</th>\n",
       "    </tr>\n",
       "  </thead>\n",
       "  <tbody>\n",
       "    <tr>\n",
       "      <th>0</th>\n",
       "      <td>AIRCRAFT</td>\n",
       "      <td>0.718939</td>\n",
       "    </tr>\n",
       "    <tr>\n",
       "      <th>1</th>\n",
       "      <td>AIRLINENAME</td>\n",
       "      <td>0.000000</td>\n",
       "    </tr>\n",
       "    <tr>\n",
       "      <th>2</th>\n",
       "      <td>CABINTYPE</td>\n",
       "      <td>0.023455</td>\n",
       "    </tr>\n",
       "    <tr>\n",
       "      <th>3</th>\n",
       "      <td>DATEFLOWN</td>\n",
       "      <td>0.299012</td>\n",
       "    </tr>\n",
       "    <tr>\n",
       "      <th>4</th>\n",
       "      <td>DATEPUB</td>\n",
       "      <td>0.000000</td>\n",
       "    </tr>\n",
       "    <tr>\n",
       "      <th>5</th>\n",
       "      <td>ENTERTAINMENTRATING</td>\n",
       "      <td>0.000000</td>\n",
       "    </tr>\n",
       "    <tr>\n",
       "      <th>6</th>\n",
       "      <td>FOODRATING</td>\n",
       "      <td>0.000000</td>\n",
       "    </tr>\n",
       "    <tr>\n",
       "      <th>7</th>\n",
       "      <td>GROUNDSERVICERATING</td>\n",
       "      <td>0.000000</td>\n",
       "    </tr>\n",
       "    <tr>\n",
       "      <th>8</th>\n",
       "      <td>ORIGINCOUNTRY</td>\n",
       "      <td>0.013045</td>\n",
       "    </tr>\n",
       "    <tr>\n",
       "      <th>9</th>\n",
       "      <td>OVERALLSCORE</td>\n",
       "      <td>0.033663</td>\n",
       "    </tr>\n",
       "    <tr>\n",
       "      <th>10</th>\n",
       "      <td>RECOMMENDED</td>\n",
       "      <td>0.000000</td>\n",
       "    </tr>\n",
       "    <tr>\n",
       "      <th>11</th>\n",
       "      <td>REVIEW</td>\n",
       "      <td>0.000000</td>\n",
       "    </tr>\n",
       "    <tr>\n",
       "      <th>12</th>\n",
       "      <td>ROUTE</td>\n",
       "      <td>0.300302</td>\n",
       "    </tr>\n",
       "    <tr>\n",
       "      <th>13</th>\n",
       "      <td>SEATCOMFORTRATING</td>\n",
       "      <td>0.000000</td>\n",
       "    </tr>\n",
       "    <tr>\n",
       "      <th>14</th>\n",
       "      <td>SERVICERATING</td>\n",
       "      <td>0.000000</td>\n",
       "    </tr>\n",
       "    <tr>\n",
       "      <th>15</th>\n",
       "      <td>SLUG</td>\n",
       "      <td>0.000000</td>\n",
       "    </tr>\n",
       "    <tr>\n",
       "      <th>16</th>\n",
       "      <td>TITLE</td>\n",
       "      <td>0.000000</td>\n",
       "    </tr>\n",
       "    <tr>\n",
       "      <th>17</th>\n",
       "      <td>TRAVELTYPE</td>\n",
       "      <td>0.297822</td>\n",
       "    </tr>\n",
       "    <tr>\n",
       "      <th>18</th>\n",
       "      <td>TRIPVERIFIED</td>\n",
       "      <td>0.540711</td>\n",
       "    </tr>\n",
       "    <tr>\n",
       "      <th>19</th>\n",
       "      <td>VALUERATING</td>\n",
       "      <td>0.000000</td>\n",
       "    </tr>\n",
       "    <tr>\n",
       "      <th>20</th>\n",
       "      <td>WIFIRATING</td>\n",
       "      <td>0.000000</td>\n",
       "    </tr>\n",
       "    <tr>\n",
       "      <th>21</th>\n",
       "      <td>UNIQUE_ID</td>\n",
       "      <td>0.000000</td>\n",
       "    </tr>\n",
       "  </tbody>\n",
       "</table>\n",
       "</div>"
      ],
      "text/plain": [
       "            column_name  nulls_percentage\n",
       "0              AIRCRAFT          0.718939\n",
       "1           AIRLINENAME          0.000000\n",
       "2             CABINTYPE          0.023455\n",
       "3             DATEFLOWN          0.299012\n",
       "4               DATEPUB          0.000000\n",
       "5   ENTERTAINMENTRATING          0.000000\n",
       "6            FOODRATING          0.000000\n",
       "7   GROUNDSERVICERATING          0.000000\n",
       "8         ORIGINCOUNTRY          0.013045\n",
       "9          OVERALLSCORE          0.033663\n",
       "10          RECOMMENDED          0.000000\n",
       "11               REVIEW          0.000000\n",
       "12                ROUTE          0.300302\n",
       "13    SEATCOMFORTRATING          0.000000\n",
       "14        SERVICERATING          0.000000\n",
       "15                 SLUG          0.000000\n",
       "16                TITLE          0.000000\n",
       "17           TRAVELTYPE          0.297822\n",
       "18         TRIPVERIFIED          0.540711\n",
       "19          VALUERATING          0.000000\n",
       "20           WIFIRATING          0.000000\n",
       "21            UNIQUE_ID          0.000000"
      ]
     },
     "execution_count": 132,
     "metadata": {},
     "output_type": "execute_result"
    }
   ],
   "source": [
    "nulls(df0) #most under 3% so ok to impute. Check also if some variables have 0s where missing. So far: assumption that when no service, user set 0"
   ]
  },
  {
   "cell_type": "markdown",
   "metadata": {},
   "source": [
    "Need for imputation:\n",
    "- AIRCRAFT:won't be used so far, keep it like this for now\n",
    "- TRAVELTYPE: drop values as I want to keep this var but too many missing to impute efficiently\n",
    "- DATEFLOWN: ok, impute\n",
    "- ROUTE: ok, impute\n",
    "- CABINTYPE: ok, impute\n",
    "- OVERALLSCORE: ok, impute"
   ]
  },
  {
   "cell_type": "code",
   "execution_count": 133,
   "metadata": {},
   "outputs": [],
   "source": [
    "#too many missing on traveltype but I want that variable so let's drop null values from it (still enough observ.)\n",
    "\n",
    "df0=df0.dropna(subset=\"TRAVELTYPE\")"
   ]
  },
  {
   "cell_type": "code",
   "execution_count": 134,
   "metadata": {},
   "outputs": [
    {
     "data": {
      "text/plain": [
       "158"
      ]
     },
     "execution_count": 134,
     "metadata": {},
     "output_type": "execute_result"
    }
   ],
   "source": [
    "df0.DATEFLOWN.isna().sum() #ok"
   ]
  },
  {
   "cell_type": "code",
   "execution_count": 135,
   "metadata": {},
   "outputs": [],
   "source": [
    "pd.Timestamp.min\n",
    "df0['DATEFLOWN']=pd.to_datetime(df0['DATEFLOWN'].fillna(pd.Timestamp.min))"
   ]
  },
  {
   "cell_type": "code",
   "execution_count": 136,
   "metadata": {},
   "outputs": [],
   "source": [
    "#impute using the most common route (mode)\n",
    "df0['ROUTE'] = df0['ROUTE'].fillna(df0['ROUTE'].mode()[0])"
   ]
  },
  {
   "cell_type": "code",
   "execution_count": 137,
   "metadata": {},
   "outputs": [
    {
     "data": {
      "text/plain": [
       "0"
      ]
     },
     "execution_count": 137,
     "metadata": {},
     "output_type": "execute_result"
    }
   ],
   "source": [
    "df0.ROUTE.isna().sum() #ok"
   ]
  },
  {
   "cell_type": "code",
   "execution_count": 138,
   "metadata": {},
   "outputs": [],
   "source": [
    "df0['CABINTYPE'] = df0['CABINTYPE'].fillna(df0['CABINTYPE'].mode()[0])"
   ]
  },
  {
   "cell_type": "code",
   "execution_count": 139,
   "metadata": {},
   "outputs": [
    {
     "data": {
      "text/plain": [
       "0"
      ]
     },
     "execution_count": 139,
     "metadata": {},
     "output_type": "execute_result"
    }
   ],
   "source": [
    "df0.CABINTYPE.isna().sum() #ok"
   ]
  },
  {
   "cell_type": "code",
   "execution_count": 140,
   "metadata": {},
   "outputs": [
    {
     "data": {
      "text/html": [
       "<div>\n",
       "<style scoped>\n",
       "    .dataframe tbody tr th:only-of-type {\n",
       "        vertical-align: middle;\n",
       "    }\n",
       "\n",
       "    .dataframe tbody tr th {\n",
       "        vertical-align: top;\n",
       "    }\n",
       "\n",
       "    .dataframe thead th {\n",
       "        text-align: right;\n",
       "    }\n",
       "</style>\n",
       "<table border=\"1\" class=\"dataframe\">\n",
       "  <thead>\n",
       "    <tr style=\"text-align: right;\">\n",
       "      <th></th>\n",
       "      <th>column_name</th>\n",
       "      <th>nulls_percentage</th>\n",
       "    </tr>\n",
       "  </thead>\n",
       "  <tbody>\n",
       "    <tr>\n",
       "      <th>0</th>\n",
       "      <td>AIRCRAFT</td>\n",
       "      <td>0.599763</td>\n",
       "    </tr>\n",
       "    <tr>\n",
       "      <th>1</th>\n",
       "      <td>AIRLINENAME</td>\n",
       "      <td>0.000000</td>\n",
       "    </tr>\n",
       "    <tr>\n",
       "      <th>2</th>\n",
       "      <td>CABINTYPE</td>\n",
       "      <td>0.000000</td>\n",
       "    </tr>\n",
       "    <tr>\n",
       "      <th>3</th>\n",
       "      <td>DATEFLOWN</td>\n",
       "      <td>0.000000</td>\n",
       "    </tr>\n",
       "    <tr>\n",
       "      <th>4</th>\n",
       "      <td>DATEPUB</td>\n",
       "      <td>0.000000</td>\n",
       "    </tr>\n",
       "    <tr>\n",
       "      <th>5</th>\n",
       "      <td>ENTERTAINMENTRATING</td>\n",
       "      <td>0.000000</td>\n",
       "    </tr>\n",
       "    <tr>\n",
       "      <th>6</th>\n",
       "      <td>FOODRATING</td>\n",
       "      <td>0.000000</td>\n",
       "    </tr>\n",
       "    <tr>\n",
       "      <th>7</th>\n",
       "      <td>GROUNDSERVICERATING</td>\n",
       "      <td>0.000000</td>\n",
       "    </tr>\n",
       "    <tr>\n",
       "      <th>8</th>\n",
       "      <td>ORIGINCOUNTRY</td>\n",
       "      <td>0.000000</td>\n",
       "    </tr>\n",
       "    <tr>\n",
       "      <th>9</th>\n",
       "      <td>OVERALLSCORE</td>\n",
       "      <td>0.000011</td>\n",
       "    </tr>\n",
       "    <tr>\n",
       "      <th>10</th>\n",
       "      <td>RECOMMENDED</td>\n",
       "      <td>0.000000</td>\n",
       "    </tr>\n",
       "    <tr>\n",
       "      <th>11</th>\n",
       "      <td>REVIEW</td>\n",
       "      <td>0.000000</td>\n",
       "    </tr>\n",
       "    <tr>\n",
       "      <th>12</th>\n",
       "      <td>ROUTE</td>\n",
       "      <td>0.000000</td>\n",
       "    </tr>\n",
       "    <tr>\n",
       "      <th>13</th>\n",
       "      <td>SEATCOMFORTRATING</td>\n",
       "      <td>0.000000</td>\n",
       "    </tr>\n",
       "    <tr>\n",
       "      <th>14</th>\n",
       "      <td>SERVICERATING</td>\n",
       "      <td>0.000000</td>\n",
       "    </tr>\n",
       "    <tr>\n",
       "      <th>15</th>\n",
       "      <td>SLUG</td>\n",
       "      <td>0.000000</td>\n",
       "    </tr>\n",
       "    <tr>\n",
       "      <th>16</th>\n",
       "      <td>TITLE</td>\n",
       "      <td>0.000000</td>\n",
       "    </tr>\n",
       "    <tr>\n",
       "      <th>17</th>\n",
       "      <td>TRAVELTYPE</td>\n",
       "      <td>0.000000</td>\n",
       "    </tr>\n",
       "    <tr>\n",
       "      <th>18</th>\n",
       "      <td>TRIPVERIFIED</td>\n",
       "      <td>0.345929</td>\n",
       "    </tr>\n",
       "    <tr>\n",
       "      <th>19</th>\n",
       "      <td>VALUERATING</td>\n",
       "      <td>0.000000</td>\n",
       "    </tr>\n",
       "    <tr>\n",
       "      <th>20</th>\n",
       "      <td>WIFIRATING</td>\n",
       "      <td>0.000000</td>\n",
       "    </tr>\n",
       "    <tr>\n",
       "      <th>21</th>\n",
       "      <td>UNIQUE_ID</td>\n",
       "      <td>0.000000</td>\n",
       "    </tr>\n",
       "  </tbody>\n",
       "</table>\n",
       "</div>"
      ],
      "text/plain": [
       "            column_name  nulls_percentage\n",
       "0              AIRCRAFT          0.599763\n",
       "1           AIRLINENAME          0.000000\n",
       "2             CABINTYPE          0.000000\n",
       "3             DATEFLOWN          0.000000\n",
       "4               DATEPUB          0.000000\n",
       "5   ENTERTAINMENTRATING          0.000000\n",
       "6            FOODRATING          0.000000\n",
       "7   GROUNDSERVICERATING          0.000000\n",
       "8         ORIGINCOUNTRY          0.000000\n",
       "9          OVERALLSCORE          0.000011\n",
       "10          RECOMMENDED          0.000000\n",
       "11               REVIEW          0.000000\n",
       "12                ROUTE          0.000000\n",
       "13    SEATCOMFORTRATING          0.000000\n",
       "14        SERVICERATING          0.000000\n",
       "15                 SLUG          0.000000\n",
       "16                TITLE          0.000000\n",
       "17           TRAVELTYPE          0.000000\n",
       "18         TRIPVERIFIED          0.345929\n",
       "19          VALUERATING          0.000000\n",
       "20           WIFIRATING          0.000000\n",
       "21            UNIQUE_ID          0.000000"
      ]
     },
     "execution_count": 140,
     "metadata": {},
     "output_type": "execute_result"
    }
   ],
   "source": [
    "nulls(df0)"
   ]
  },
  {
   "cell_type": "code",
   "execution_count": 141,
   "metadata": {},
   "outputs": [
    {
     "data": {
      "text/plain": [
       "OVERALLSCORE\n",
       "1.0     39008\n",
       "2.0      9363\n",
       "10.0     9012\n",
       "9.0      7413\n",
       "8.0      6775\n",
       "3.0      5541\n",
       "7.0      4459\n",
       "4.0      3099\n",
       "5.0      2964\n",
       "6.0      2684\n",
       "Name: count, dtype: int64"
      ]
     },
     "execution_count": 141,
     "metadata": {},
     "output_type": "execute_result"
    }
   ],
   "source": [
    "df0.OVERALLSCORE.value_counts()"
   ]
  },
  {
   "cell_type": "code",
   "execution_count": 142,
   "metadata": {},
   "outputs": [],
   "source": [
    "df0['OVERALLSCORE']=df0.OVERALLSCORE.fillna(round(np.mean(df0.OVERALLSCORE))) "
   ]
  },
  {
   "cell_type": "code",
   "execution_count": 143,
   "metadata": {},
   "outputs": [
    {
     "data": {
      "text/plain": [
       "0"
      ]
     },
     "execution_count": 143,
     "metadata": {},
     "output_type": "execute_result"
    }
   ],
   "source": [
    "df0.OVERALLSCORE.isna().sum() #ok"
   ]
  },
  {
   "cell_type": "code",
   "execution_count": 144,
   "metadata": {},
   "outputs": [],
   "source": [
    "#TripVerified: assume that missing is 'not verified'"
   ]
  },
  {
   "cell_type": "code",
   "execution_count": 145,
   "metadata": {},
   "outputs": [],
   "source": [
    "df0['TRIPVERIFIED']=df0.TRIPVERIFIED.fillna(\"Not Verified\") "
   ]
  },
  {
   "cell_type": "code",
   "execution_count": 146,
   "metadata": {},
   "outputs": [
    {
     "data": {
      "text/plain": [
       "0"
      ]
     },
     "execution_count": 146,
     "metadata": {},
     "output_type": "execute_result"
    }
   ],
   "source": [
    "df0.TRIPVERIFIED.isna().sum() #ok"
   ]
  },
  {
   "cell_type": "code",
   "execution_count": 147,
   "metadata": {},
   "outputs": [],
   "source": [
    "#for now, in the rating vars asumme that 0 is 0 and non missing (if no service, I put a 0)"
   ]
  },
  {
   "cell_type": "code",
   "execution_count": 148,
   "metadata": {},
   "outputs": [],
   "source": [
    "df0[\"OVERALLSCORE\"] = df0[\"OVERALLSCORE\"].astype(int)"
   ]
  },
  {
   "cell_type": "code",
   "execution_count": 149,
   "metadata": {},
   "outputs": [],
   "source": [
    "df0.reset_index(drop=True, inplace=True)"
   ]
  },
  {
   "cell_type": "code",
   "execution_count": 150,
   "metadata": {},
   "outputs": [],
   "source": [
    "df=df0.drop(columns=\"AIRCRAFT\")"
   ]
  },
  {
   "cell_type": "code",
   "execution_count": 151,
   "metadata": {},
   "outputs": [
    {
     "name": "stdout",
     "output_type": "stream",
     "text": [
      "<class 'pandas.core.frame.DataFrame'>\n",
      "RangeIndex: 90319 entries, 0 to 90318\n",
      "Data columns (total 22 columns):\n",
      " #   Column               Non-Null Count  Dtype         \n",
      "---  ------               --------------  -----         \n",
      " 0   AIRCRAFT             36149 non-null  object        \n",
      " 1   AIRLINENAME          90319 non-null  object        \n",
      " 2   CABINTYPE            90319 non-null  object        \n",
      " 3   DATEFLOWN            90319 non-null  datetime64[ns]\n",
      " 4   DATEPUB              90319 non-null  object        \n",
      " 5   ENTERTAINMENTRATING  90319 non-null  int64         \n",
      " 6   FOODRATING           90319 non-null  int64         \n",
      " 7   GROUNDSERVICERATING  90319 non-null  int64         \n",
      " 8   ORIGINCOUNTRY        90319 non-null  object        \n",
      " 9   OVERALLSCORE         90319 non-null  int32         \n",
      " 10  RECOMMENDED          90319 non-null  object        \n",
      " 11  REVIEW               90319 non-null  object        \n",
      " 12  ROUTE                90319 non-null  object        \n",
      " 13  SEATCOMFORTRATING    90319 non-null  int64         \n",
      " 14  SERVICERATING        90319 non-null  int64         \n",
      " 15  SLUG                 90319 non-null  object        \n",
      " 16  TITLE                90319 non-null  object        \n",
      " 17  TRAVELTYPE           90319 non-null  object        \n",
      " 18  TRIPVERIFIED         90319 non-null  object        \n",
      " 19  VALUERATING          90319 non-null  int64         \n",
      " 20  WIFIRATING           90319 non-null  int64         \n",
      " 21  UNIQUE_ID            90319 non-null  object        \n",
      "dtypes: datetime64[ns](1), int32(1), int64(7), object(13)\n",
      "memory usage: 14.8+ MB\n"
     ]
    }
   ],
   "source": [
    "df0.info()"
   ]
  },
  {
   "cell_type": "code",
   "execution_count": 152,
   "metadata": {},
   "outputs": [
    {
     "data": {
      "text/plain": [
       "(90319, 22)"
      ]
     },
     "execution_count": 152,
     "metadata": {},
     "output_type": "execute_result"
    }
   ],
   "source": [
    "df0.shape"
   ]
  },
  {
   "cell_type": "code",
   "execution_count": 153,
   "metadata": {},
   "outputs": [
    {
     "data": {
      "text/plain": [
       "(90319, 21)"
      ]
     },
     "execution_count": 153,
     "metadata": {},
     "output_type": "execute_result"
    }
   ],
   "source": [
    "df.shape "
   ]
  },
  {
   "cell_type": "code",
   "execution_count": 154,
   "metadata": {},
   "outputs": [],
   "source": [
    "##CHECK VALUES OF VARIABLES"
   ]
  },
  {
   "cell_type": "code",
   "execution_count": 155,
   "metadata": {},
   "outputs": [
    {
     "data": {
      "text/plain": [
       "CABINTYPE\n",
       "Economy Class      74836\n",
       "Business Class     10507\n",
       "Premium Economy     3360\n",
       "First Class         1616\n",
       "Name: count, dtype: int64"
      ]
     },
     "execution_count": 155,
     "metadata": {},
     "output_type": "execute_result"
    }
   ],
   "source": [
    "df.CABINTYPE.value_counts() #ok"
   ]
  },
  {
   "cell_type": "code",
   "execution_count": 156,
   "metadata": {},
   "outputs": [
    {
     "data": {
      "text/plain": [
       "ENTERTAINMENTRATING\n",
       "0    39937\n",
       "1    19423\n",
       "4     8641\n",
       "3     8480\n",
       "5     7984\n",
       "2     5854\n",
       "Name: count, dtype: int64"
      ]
     },
     "execution_count": 156,
     "metadata": {},
     "output_type": "execute_result"
    }
   ],
   "source": [
    "df.ENTERTAINMENTRATING.value_counts()"
   ]
  },
  {
   "cell_type": "code",
   "execution_count": 157,
   "metadata": {},
   "outputs": [
    {
     "data": {
      "text/plain": [
       "FOODRATING\n",
       "0    26019\n",
       "1    23418\n",
       "5    10827\n",
       "3    10675\n",
       "4    10594\n",
       "2     8786\n",
       "Name: count, dtype: int64"
      ]
     },
     "execution_count": 157,
     "metadata": {},
     "output_type": "execute_result"
    }
   ],
   "source": [
    "df.FOODRATING.value_counts()"
   ]
  },
  {
   "cell_type": "code",
   "execution_count": 158,
   "metadata": {},
   "outputs": [
    {
     "data": {
      "text/plain": [
       "GROUNDSERVICERATING\n",
       "1    42006\n",
       "5    15405\n",
       "4    12225\n",
       "3     9399\n",
       "2     7759\n",
       "0     3525\n",
       "Name: count, dtype: int64"
      ]
     },
     "execution_count": 158,
     "metadata": {},
     "output_type": "execute_result"
    }
   ],
   "source": [
    "df.GROUNDSERVICERATING.value_counts()"
   ]
  },
  {
   "cell_type": "code",
   "execution_count": 159,
   "metadata": {},
   "outputs": [
    {
     "data": {
      "text/plain": [
       "OVERALLSCORE\n",
       "1     39008\n",
       "2      9363\n",
       "10     9012\n",
       "9      7413\n",
       "8      6775\n",
       "3      5541\n",
       "7      4459\n",
       "4      3100\n",
       "5      2964\n",
       "6      2684\n",
       "Name: count, dtype: int64"
      ]
     },
     "execution_count": 159,
     "metadata": {},
     "output_type": "execute_result"
    }
   ],
   "source": [
    "df.OVERALLSCORE.value_counts()"
   ]
  },
  {
   "cell_type": "code",
   "execution_count": 160,
   "metadata": {},
   "outputs": [
    {
     "data": {
      "text/plain": [
       "SEATCOMFORTRATING\n",
       "1    28506\n",
       "3    15943\n",
       "4    14855\n",
       "2    12681\n",
       "5    12141\n",
       "0     6193\n",
       "Name: count, dtype: int64"
      ]
     },
     "execution_count": 160,
     "metadata": {},
     "output_type": "execute_result"
    }
   ],
   "source": [
    "df.SEATCOMFORTRATING.value_counts()"
   ]
  },
  {
   "cell_type": "code",
   "execution_count": 161,
   "metadata": {},
   "outputs": [
    {
     "data": {
      "text/plain": [
       "SERVICERATING\n",
       "1    26623\n",
       "5    21438\n",
       "4    12694\n",
       "3    12484\n",
       "2    10587\n",
       "0     6493\n",
       "Name: count, dtype: int64"
      ]
     },
     "execution_count": 161,
     "metadata": {},
     "output_type": "execute_result"
    }
   ],
   "source": [
    "df.SERVICERATING.value_counts()"
   ]
  },
  {
   "cell_type": "code",
   "execution_count": 162,
   "metadata": {},
   "outputs": [
    {
     "data": {
      "text/plain": [
       "VALUERATING\n",
       "1    41477\n",
       "5    17176\n",
       "4    11373\n",
       "2    10647\n",
       "3     9632\n",
       "0       14\n",
       "Name: count, dtype: int64"
      ]
     },
     "execution_count": 162,
     "metadata": {},
     "output_type": "execute_result"
    }
   ],
   "source": [
    "df.VALUERATING.value_counts()"
   ]
  },
  {
   "cell_type": "code",
   "execution_count": 163,
   "metadata": {},
   "outputs": [
    {
     "data": {
      "text/plain": [
       "WIFIRATING\n",
       "0    61095\n",
       "1    17846\n",
       "5     3137\n",
       "3     3048\n",
       "4     2612\n",
       "2     2581\n",
       "Name: count, dtype: int64"
      ]
     },
     "execution_count": 163,
     "metadata": {},
     "output_type": "execute_result"
    }
   ],
   "source": [
    "df.WIFIRATING.value_counts()"
   ]
  },
  {
   "cell_type": "code",
   "execution_count": 164,
   "metadata": {},
   "outputs": [
    {
     "data": {
      "text/plain": [
       "TRAVELTYPE\n",
       "Solo Leisure      32957\n",
       "Couple Leisure    23611\n",
       "Family Leisure    19703\n",
       "Business          14048\n",
       "Name: count, dtype: int64"
      ]
     },
     "execution_count": 164,
     "metadata": {},
     "output_type": "execute_result"
    }
   ],
   "source": [
    "df.TRAVELTYPE.value_counts()"
   ]
  },
  {
   "cell_type": "code",
   "execution_count": 165,
   "metadata": {},
   "outputs": [
    {
     "data": {
      "text/plain": [
       "TRIPVERIFIED\n",
       "Trip Verified    45310\n",
       "Not Verified     45009\n",
       "Name: count, dtype: int64"
      ]
     },
     "execution_count": 165,
     "metadata": {},
     "output_type": "execute_result"
    }
   ],
   "source": [
    "df.TRIPVERIFIED.value_counts()"
   ]
  },
  {
   "cell_type": "code",
   "execution_count": 166,
   "metadata": {},
   "outputs": [
    {
     "name": "stdout",
     "output_type": "stream",
     "text": [
      "<class 'pandas.core.frame.DataFrame'>\n",
      "RangeIndex: 90319 entries, 0 to 90318\n",
      "Data columns (total 21 columns):\n",
      " #   Column               Non-Null Count  Dtype         \n",
      "---  ------               --------------  -----         \n",
      " 0   AIRLINENAME          90319 non-null  object        \n",
      " 1   CABINTYPE            90319 non-null  object        \n",
      " 2   DATEFLOWN            90319 non-null  datetime64[ns]\n",
      " 3   DATEPUB              90319 non-null  object        \n",
      " 4   ENTERTAINMENTRATING  90319 non-null  int64         \n",
      " 5   FOODRATING           90319 non-null  int64         \n",
      " 6   GROUNDSERVICERATING  90319 non-null  int64         \n",
      " 7   ORIGINCOUNTRY        90319 non-null  object        \n",
      " 8   OVERALLSCORE         90319 non-null  int32         \n",
      " 9   RECOMMENDED          90319 non-null  object        \n",
      " 10  REVIEW               90319 non-null  object        \n",
      " 11  ROUTE                90319 non-null  object        \n",
      " 12  SEATCOMFORTRATING    90319 non-null  int64         \n",
      " 13  SERVICERATING        90319 non-null  int64         \n",
      " 14  SLUG                 90319 non-null  object        \n",
      " 15  TITLE                90319 non-null  object        \n",
      " 16  TRAVELTYPE           90319 non-null  object        \n",
      " 17  TRIPVERIFIED         90319 non-null  object        \n",
      " 18  VALUERATING          90319 non-null  int64         \n",
      " 19  WIFIRATING           90319 non-null  int64         \n",
      " 20  UNIQUE_ID            90319 non-null  object        \n",
      "dtypes: datetime64[ns](1), int32(1), int64(7), object(12)\n",
      "memory usage: 14.1+ MB\n"
     ]
    }
   ],
   "source": [
    "df.info()"
   ]
  },
  {
   "cell_type": "markdown",
   "metadata": {},
   "source": [
    "## FEATURE ENGINEERING"
   ]
  },
  {
   "cell_type": "code",
   "execution_count": 167,
   "metadata": {},
   "outputs": [],
   "source": [
    "#Transform the travel type variable in two: type of traveller (solo, family, business) and purpose (leisure, business)"
   ]
  },
  {
   "cell_type": "code",
   "execution_count": 168,
   "metadata": {},
   "outputs": [],
   "source": [
    "travell_transf=df[\"TRAVELTYPE\"].str.split(\" \", expand=True)"
   ]
  },
  {
   "cell_type": "code",
   "execution_count": 169,
   "metadata": {},
   "outputs": [],
   "source": [
    "travell_transf.rename(columns={travell_transf.columns[0]: 'TRAVELLER'}, inplace=True)\n",
    "travell_transf.rename(columns={travell_transf.columns[1]: 'PURPOSE'}, inplace=True)"
   ]
  },
  {
   "cell_type": "code",
   "execution_count": 170,
   "metadata": {},
   "outputs": [
    {
     "data": {
      "text/plain": [
       "TRAVELLER\n",
       "Solo        32957\n",
       "Couple      23611\n",
       "Family      19703\n",
       "Business    14048\n",
       "Name: count, dtype: int64"
      ]
     },
     "execution_count": 170,
     "metadata": {},
     "output_type": "execute_result"
    }
   ],
   "source": [
    "travell_transf.TRAVELLER.value_counts()"
   ]
  },
  {
   "cell_type": "code",
   "execution_count": 171,
   "metadata": {},
   "outputs": [],
   "source": [
    "travell_transf[\"PURPOSE\"]=np.where(travell_transf['TRAVELLER']==\"Business\", \"Bussiness\",travell_transf.PURPOSE)"
   ]
  },
  {
   "cell_type": "code",
   "execution_count": 172,
   "metadata": {},
   "outputs": [],
   "source": [
    "travell_transf[\"TRAVELLER\"]=np.where(travell_transf['TRAVELLER']==\"Business\", \"Solo\",travell_transf.TRAVELLER) #assume business is 'solo' in traveller_type"
   ]
  },
  {
   "cell_type": "code",
   "execution_count": 173,
   "metadata": {},
   "outputs": [
    {
     "data": {
      "text/plain": [
       "16"
      ]
     },
     "execution_count": 173,
     "metadata": {},
     "output_type": "execute_result"
    }
   ],
   "source": [
    "df.columns.get_loc('TRAVELTYPE') "
   ]
  },
  {
   "cell_type": "code",
   "execution_count": 174,
   "metadata": {},
   "outputs": [],
   "source": [
    "df = pd.concat([df.iloc[:, :17], travell_transf, df.iloc[:, 17:]], axis=1)"
   ]
  },
  {
   "cell_type": "code",
   "execution_count": 175,
   "metadata": {},
   "outputs": [],
   "source": [
    "df.drop(columns='TRAVELTYPE', inplace=True)"
   ]
  },
  {
   "cell_type": "code",
   "execution_count": 176,
   "metadata": {},
   "outputs": [
    {
     "data": {
      "text/plain": [
       "RECOMMENDED\n",
       "no     59309\n",
       "yes    31010\n",
       "Name: count, dtype: int64"
      ]
     },
     "execution_count": 176,
     "metadata": {},
     "output_type": "execute_result"
    }
   ],
   "source": [
    "df.RECOMMENDED.value_counts() #quite imbalanced. Need to balance it?"
   ]
  },
  {
   "cell_type": "code",
   "execution_count": 177,
   "metadata": {},
   "outputs": [
    {
     "data": {
      "text/html": [
       "<div>\n",
       "<style scoped>\n",
       "    .dataframe tbody tr th:only-of-type {\n",
       "        vertical-align: middle;\n",
       "    }\n",
       "\n",
       "    .dataframe tbody tr th {\n",
       "        vertical-align: top;\n",
       "    }\n",
       "\n",
       "    .dataframe thead th {\n",
       "        text-align: right;\n",
       "    }\n",
       "</style>\n",
       "<table border=\"1\" class=\"dataframe\">\n",
       "  <thead>\n",
       "    <tr style=\"text-align: right;\">\n",
       "      <th></th>\n",
       "      <th>AIRLINENAME</th>\n",
       "      <th>CABINTYPE</th>\n",
       "      <th>DATEFLOWN</th>\n",
       "      <th>DATEPUB</th>\n",
       "      <th>ENTERTAINMENTRATING</th>\n",
       "      <th>FOODRATING</th>\n",
       "      <th>GROUNDSERVICERATING</th>\n",
       "      <th>ORIGINCOUNTRY</th>\n",
       "      <th>OVERALLSCORE</th>\n",
       "      <th>RECOMMENDED</th>\n",
       "      <th>REVIEW</th>\n",
       "      <th>ROUTE</th>\n",
       "      <th>SEATCOMFORTRATING</th>\n",
       "      <th>SERVICERATING</th>\n",
       "      <th>SLUG</th>\n",
       "      <th>TITLE</th>\n",
       "      <th>TRAVELLER</th>\n",
       "      <th>PURPOSE</th>\n",
       "      <th>TRIPVERIFIED</th>\n",
       "      <th>VALUERATING</th>\n",
       "      <th>WIFIRATING</th>\n",
       "      <th>UNIQUE_ID</th>\n",
       "    </tr>\n",
       "  </thead>\n",
       "  <tbody>\n",
       "    <tr>\n",
       "      <th>5509</th>\n",
       "      <td>Air Koryo</td>\n",
       "      <td>Economy Class</td>\n",
       "      <td>2015-07-01</td>\n",
       "      <td>8th September 2015</td>\n",
       "      <td>0</td>\n",
       "      <td>3</td>\n",
       "      <td>3</td>\n",
       "      <td>Thailand</td>\n",
       "      <td>6</td>\n",
       "      <td>yes</td>\n",
       "      <td>If you compare Air China with Air Koryo, there...</td>\n",
       "      <td>PEK to FNJ</td>\n",
       "      <td>3</td>\n",
       "      <td>4</td>\n",
       "      <td>air-koryo</td>\n",
       "      <td>good old-style music</td>\n",
       "      <td>Solo</td>\n",
       "      <td>Bussiness</td>\n",
       "      <td>Not Verified</td>\n",
       "      <td>3</td>\n",
       "      <td>0</td>\n",
       "      <td>5d97460b-acff-46cd-a099-63ee3fcb12b4</td>\n",
       "    </tr>\n",
       "  </tbody>\n",
       "</table>\n",
       "</div>"
      ],
      "text/plain": [
       "     AIRLINENAME      CABINTYPE  DATEFLOWN             DATEPUB  \\\n",
       "5509   Air Koryo  Economy Class 2015-07-01  8th September 2015   \n",
       "\n",
       "      ENTERTAINMENTRATING  FOODRATING  GROUNDSERVICERATING ORIGINCOUNTRY  \\\n",
       "5509                    0           3                    3      Thailand   \n",
       "\n",
       "      OVERALLSCORE RECOMMENDED  \\\n",
       "5509             6         yes   \n",
       "\n",
       "                                                 REVIEW       ROUTE  \\\n",
       "5509  If you compare Air China with Air Koryo, there...  PEK to FNJ   \n",
       "\n",
       "      SEATCOMFORTRATING  SERVICERATING       SLUG                 TITLE  \\\n",
       "5509                  3              4  air-koryo  good old-style music   \n",
       "\n",
       "     TRAVELLER    PURPOSE  TRIPVERIFIED  VALUERATING  WIFIRATING  \\\n",
       "5509      Solo  Bussiness  Not Verified            3           0   \n",
       "\n",
       "                                 UNIQUE_ID  \n",
       "5509  5d97460b-acff-46cd-a099-63ee3fcb12b4  "
      ]
     },
     "execution_count": 177,
     "metadata": {},
     "output_type": "execute_result"
    }
   ],
   "source": [
    "df.sample()"
   ]
  },
  {
   "cell_type": "code",
   "execution_count": 178,
   "metadata": {},
   "outputs": [],
   "source": [
    "#clean variable #ROUTE"
   ]
  },
  {
   "cell_type": "code",
   "execution_count": 179,
   "metadata": {},
   "outputs": [],
   "source": [
    "route_origin = df[\"ROUTE\"].str.split(r\"\\bto\\b\", expand=True)"
   ]
  },
  {
   "cell_type": "code",
   "execution_count": 180,
   "metadata": {},
   "outputs": [
    {
     "data": {
      "text/html": [
       "<div>\n",
       "<style scoped>\n",
       "    .dataframe tbody tr th:only-of-type {\n",
       "        vertical-align: middle;\n",
       "    }\n",
       "\n",
       "    .dataframe tbody tr th {\n",
       "        vertical-align: top;\n",
       "    }\n",
       "\n",
       "    .dataframe thead th {\n",
       "        text-align: right;\n",
       "    }\n",
       "</style>\n",
       "<table border=\"1\" class=\"dataframe\">\n",
       "  <thead>\n",
       "    <tr style=\"text-align: right;\">\n",
       "      <th></th>\n",
       "      <th>0</th>\n",
       "      <th>1</th>\n",
       "      <th>2</th>\n",
       "      <th>3</th>\n",
       "      <th>4</th>\n",
       "    </tr>\n",
       "  </thead>\n",
       "  <tbody>\n",
       "    <tr>\n",
       "      <th>0</th>\n",
       "      <td>Moroni</td>\n",
       "      <td>Moheli</td>\n",
       "      <td>None</td>\n",
       "      <td>None</td>\n",
       "      <td>None</td>\n",
       "    </tr>\n",
       "    <tr>\n",
       "      <th>1</th>\n",
       "      <td>Moroni</td>\n",
       "      <td>Anjouan</td>\n",
       "      <td>None</td>\n",
       "      <td>None</td>\n",
       "      <td>None</td>\n",
       "    </tr>\n",
       "    <tr>\n",
       "      <th>2</th>\n",
       "      <td>Anjouan</td>\n",
       "      <td>Dzaoudzi</td>\n",
       "      <td>None</td>\n",
       "      <td>None</td>\n",
       "      <td>None</td>\n",
       "    </tr>\n",
       "    <tr>\n",
       "      <th>3</th>\n",
       "      <td>Milano</td>\n",
       "      <td>Olbia</td>\n",
       "      <td>None</td>\n",
       "      <td>None</td>\n",
       "      <td>None</td>\n",
       "    </tr>\n",
       "    <tr>\n",
       "      <th>4</th>\n",
       "      <td>Cascais</td>\n",
       "      <td>Bragança</td>\n",
       "      <td>None</td>\n",
       "      <td>None</td>\n",
       "      <td>None</td>\n",
       "    </tr>\n",
       "  </tbody>\n",
       "</table>\n",
       "</div>"
      ],
      "text/plain": [
       "          0          1     2     3     4\n",
       "0   Moroni      Moheli  None  None  None\n",
       "1   Moroni     Anjouan  None  None  None\n",
       "2  Anjouan    Dzaoudzi  None  None  None\n",
       "3   Milano       Olbia  None  None  None\n",
       "4  Cascais    Bragança  None  None  None"
      ]
     },
     "execution_count": 180,
     "metadata": {},
     "output_type": "execute_result"
    }
   ],
   "source": [
    "route_origin.head()"
   ]
  },
  {
   "cell_type": "code",
   "execution_count": 181,
   "metadata": {},
   "outputs": [],
   "source": [
    "route_origin.reset_index(drop=True, inplace=True)"
   ]
  },
  {
   "cell_type": "code",
   "execution_count": 182,
   "metadata": {},
   "outputs": [
    {
     "name": "stdout",
     "output_type": "stream",
     "text": [
      "<class 'pandas.core.frame.DataFrame'>\n",
      "RangeIndex: 90319 entries, 0 to 90318\n",
      "Data columns (total 5 columns):\n",
      " #   Column  Non-Null Count  Dtype \n",
      "---  ------  --------------  ----- \n",
      " 0   0       90319 non-null  object\n",
      " 1   1       90113 non-null  object\n",
      " 2   2       57 non-null     object\n",
      " 3   3       6 non-null      object\n",
      " 4   4       1 non-null      object\n",
      "dtypes: object(5)\n",
      "memory usage: 3.4+ MB\n"
     ]
    }
   ],
   "source": [
    "route_origin.info() #will assume that other 'to' are not necessary (writing typos)"
   ]
  },
  {
   "cell_type": "code",
   "execution_count": 183,
   "metadata": {},
   "outputs": [
    {
     "data": {
      "text/plain": [
       "array(['Moroni to Moheli', 'Moroni to Anjouan', 'Anjouan to Dzaoudzi',\n",
       "       ..., 'Budapest to Göteborg', 'London to Burgas',\n",
       "       'Paris Beauvais to Riga'], dtype=object)"
      ]
     },
     "execution_count": 183,
     "metadata": {},
     "output_type": "execute_result"
    }
   ],
   "source": [
    "df.ROUTE.unique() #clearly origin and destiny separated by 'to'"
   ]
  },
  {
   "cell_type": "code",
   "execution_count": 184,
   "metadata": {},
   "outputs": [],
   "source": [
    "route_origin.reset_index(drop=True, inplace=True)"
   ]
  },
  {
   "cell_type": "code",
   "execution_count": 185,
   "metadata": {},
   "outputs": [
    {
     "data": {
      "text/html": [
       "<div>\n",
       "<style scoped>\n",
       "    .dataframe tbody tr th:only-of-type {\n",
       "        vertical-align: middle;\n",
       "    }\n",
       "\n",
       "    .dataframe tbody tr th {\n",
       "        vertical-align: top;\n",
       "    }\n",
       "\n",
       "    .dataframe thead th {\n",
       "        text-align: right;\n",
       "    }\n",
       "</style>\n",
       "<table border=\"1\" class=\"dataframe\">\n",
       "  <thead>\n",
       "    <tr style=\"text-align: right;\">\n",
       "      <th></th>\n",
       "      <th>AIRLINENAME</th>\n",
       "      <th>CABINTYPE</th>\n",
       "      <th>DATEFLOWN</th>\n",
       "      <th>DATEPUB</th>\n",
       "      <th>ENTERTAINMENTRATING</th>\n",
       "      <th>FOODRATING</th>\n",
       "      <th>GROUNDSERVICERATING</th>\n",
       "      <th>ORIGINCOUNTRY</th>\n",
       "      <th>OVERALLSCORE</th>\n",
       "      <th>RECOMMENDED</th>\n",
       "      <th>REVIEW</th>\n",
       "      <th>ROUTE</th>\n",
       "      <th>SEATCOMFORTRATING</th>\n",
       "      <th>SERVICERATING</th>\n",
       "      <th>SLUG</th>\n",
       "      <th>TITLE</th>\n",
       "      <th>TRAVELLER</th>\n",
       "      <th>PURPOSE</th>\n",
       "      <th>TRIPVERIFIED</th>\n",
       "      <th>VALUERATING</th>\n",
       "      <th>WIFIRATING</th>\n",
       "      <th>UNIQUE_ID</th>\n",
       "    </tr>\n",
       "  </thead>\n",
       "  <tbody>\n",
       "    <tr>\n",
       "      <th>53420</th>\n",
       "      <td>Lufthansa</td>\n",
       "      <td>Economy Class</td>\n",
       "      <td>2017-08-01</td>\n",
       "      <td>28th August 2017</td>\n",
       "      <td>5</td>\n",
       "      <td>5</td>\n",
       "      <td>1</td>\n",
       "      <td>UnitedStates</td>\n",
       "      <td>1</td>\n",
       "      <td>no</td>\n",
       "      <td>Athens to Munich. We boarded almost an hour la...</td>\n",
       "      <td>Athens to Munich</td>\n",
       "      <td>2</td>\n",
       "      <td>5</td>\n",
       "      <td>lufthansa</td>\n",
       "      <td>My bag didn't make it</td>\n",
       "      <td>Family</td>\n",
       "      <td>Leisure</td>\n",
       "      <td>Not Verified</td>\n",
       "      <td>2</td>\n",
       "      <td>4</td>\n",
       "      <td>68918957-ea37-45b0-ae57-22e897230c4b</td>\n",
       "    </tr>\n",
       "  </tbody>\n",
       "</table>\n",
       "</div>"
      ],
      "text/plain": [
       "      AIRLINENAME      CABINTYPE  DATEFLOWN           DATEPUB  \\\n",
       "53420   Lufthansa  Economy Class 2017-08-01  28th August 2017   \n",
       "\n",
       "       ENTERTAINMENTRATING  FOODRATING  GROUNDSERVICERATING ORIGINCOUNTRY  \\\n",
       "53420                    5           5                    1  UnitedStates   \n",
       "\n",
       "       OVERALLSCORE RECOMMENDED  \\\n",
       "53420             1          no   \n",
       "\n",
       "                                                  REVIEW             ROUTE  \\\n",
       "53420  Athens to Munich. We boarded almost an hour la...  Athens to Munich   \n",
       "\n",
       "       SEATCOMFORTRATING  SERVICERATING       SLUG                  TITLE  \\\n",
       "53420                  2              5  lufthansa  My bag didn't make it   \n",
       "\n",
       "      TRAVELLER  PURPOSE  TRIPVERIFIED  VALUERATING  WIFIRATING  \\\n",
       "53420    Family  Leisure  Not Verified            2           4   \n",
       "\n",
       "                                  UNIQUE_ID  \n",
       "53420  68918957-ea37-45b0-ae57-22e897230c4b  "
      ]
     },
     "execution_count": 185,
     "metadata": {},
     "output_type": "execute_result"
    }
   ],
   "source": [
    "df.sample()"
   ]
  },
  {
   "cell_type": "code",
   "execution_count": 186,
   "metadata": {},
   "outputs": [],
   "source": [
    "df.reset_index(drop=True, inplace=True) #important to reset index or won't fit the new variables with route"
   ]
  },
  {
   "cell_type": "code",
   "execution_count": 187,
   "metadata": {},
   "outputs": [
    {
     "data": {
      "text/plain": [
       "11"
      ]
     },
     "execution_count": 187,
     "metadata": {},
     "output_type": "execute_result"
    }
   ],
   "source": [
    "df.columns.get_loc('ROUTE')"
   ]
  },
  {
   "cell_type": "code",
   "execution_count": 188,
   "metadata": {},
   "outputs": [],
   "source": [
    "df = pd.concat([df.iloc[:, :12], route_origin, df.iloc[:, 12:]], axis=1)"
   ]
  },
  {
   "cell_type": "code",
   "execution_count": 189,
   "metadata": {},
   "outputs": [],
   "source": [
    "pd.set_option('display.max_columns', None) #to check all columns when sampling the df"
   ]
  },
  {
   "cell_type": "code",
   "execution_count": 190,
   "metadata": {},
   "outputs": [
    {
     "data": {
      "text/html": [
       "<div>\n",
       "<style scoped>\n",
       "    .dataframe tbody tr th:only-of-type {\n",
       "        vertical-align: middle;\n",
       "    }\n",
       "\n",
       "    .dataframe tbody tr th {\n",
       "        vertical-align: top;\n",
       "    }\n",
       "\n",
       "    .dataframe thead th {\n",
       "        text-align: right;\n",
       "    }\n",
       "</style>\n",
       "<table border=\"1\" class=\"dataframe\">\n",
       "  <thead>\n",
       "    <tr style=\"text-align: right;\">\n",
       "      <th></th>\n",
       "      <th>AIRLINENAME</th>\n",
       "      <th>CABINTYPE</th>\n",
       "      <th>DATEFLOWN</th>\n",
       "      <th>DATEPUB</th>\n",
       "      <th>ENTERTAINMENTRATING</th>\n",
       "      <th>FOODRATING</th>\n",
       "      <th>GROUNDSERVICERATING</th>\n",
       "      <th>ORIGINCOUNTRY</th>\n",
       "      <th>OVERALLSCORE</th>\n",
       "      <th>RECOMMENDED</th>\n",
       "      <th>REVIEW</th>\n",
       "      <th>ROUTE</th>\n",
       "      <th>0</th>\n",
       "      <th>1</th>\n",
       "      <th>2</th>\n",
       "      <th>3</th>\n",
       "      <th>4</th>\n",
       "      <th>SEATCOMFORTRATING</th>\n",
       "      <th>SERVICERATING</th>\n",
       "      <th>SLUG</th>\n",
       "      <th>TITLE</th>\n",
       "      <th>TRAVELLER</th>\n",
       "      <th>PURPOSE</th>\n",
       "      <th>TRIPVERIFIED</th>\n",
       "      <th>VALUERATING</th>\n",
       "      <th>WIFIRATING</th>\n",
       "      <th>UNIQUE_ID</th>\n",
       "    </tr>\n",
       "  </thead>\n",
       "  <tbody>\n",
       "    <tr>\n",
       "      <th>83204</th>\n",
       "      <td>Turkish Airlines</td>\n",
       "      <td>Business Class</td>\n",
       "      <td>2020-02-01</td>\n",
       "      <td>15th February 2020</td>\n",
       "      <td>0</td>\n",
       "      <td>0</td>\n",
       "      <td>1</td>\n",
       "      <td>UnitedStates</td>\n",
       "      <td>1</td>\n",
       "      <td>no</td>\n",
       "      <td>Dar es Salaam to Washington via Istanbul. Init...</td>\n",
       "      <td>Dar es Salaam to Washington via Istanbul</td>\n",
       "      <td>Dar es Salaam</td>\n",
       "      <td>Washington via Istanbul</td>\n",
       "      <td>None</td>\n",
       "      <td>None</td>\n",
       "      <td>None</td>\n",
       "      <td>1</td>\n",
       "      <td>1</td>\n",
       "      <td>turkish-airlines</td>\n",
       "      <td>zero concept of customer service</td>\n",
       "      <td>Solo</td>\n",
       "      <td>Leisure</td>\n",
       "      <td>Trip Verified</td>\n",
       "      <td>1</td>\n",
       "      <td>0</td>\n",
       "      <td>5544ce23-ccc5-489d-a4a6-c4dd7c4a4bca</td>\n",
       "    </tr>\n",
       "  </tbody>\n",
       "</table>\n",
       "</div>"
      ],
      "text/plain": [
       "            AIRLINENAME       CABINTYPE  DATEFLOWN             DATEPUB  \\\n",
       "83204  Turkish Airlines  Business Class 2020-02-01  15th February 2020   \n",
       "\n",
       "       ENTERTAINMENTRATING  FOODRATING  GROUNDSERVICERATING ORIGINCOUNTRY  \\\n",
       "83204                    0           0                    1  UnitedStates   \n",
       "\n",
       "       OVERALLSCORE RECOMMENDED  \\\n",
       "83204             1          no   \n",
       "\n",
       "                                                  REVIEW  \\\n",
       "83204  Dar es Salaam to Washington via Istanbul. Init...   \n",
       "\n",
       "                                          ROUTE               0  \\\n",
       "83204  Dar es Salaam to Washington via Istanbul  Dar es Salaam    \n",
       "\n",
       "                              1     2     3     4  SEATCOMFORTRATING  \\\n",
       "83204   Washington via Istanbul  None  None  None                  1   \n",
       "\n",
       "       SERVICERATING              SLUG                             TITLE  \\\n",
       "83204              1  turkish-airlines  zero concept of customer service   \n",
       "\n",
       "      TRAVELLER  PURPOSE   TRIPVERIFIED  VALUERATING  WIFIRATING  \\\n",
       "83204      Solo  Leisure  Trip Verified            1           0   \n",
       "\n",
       "                                  UNIQUE_ID  \n",
       "83204  5544ce23-ccc5-489d-a4a6-c4dd7c4a4bca  "
      ]
     },
     "execution_count": 190,
     "metadata": {},
     "output_type": "execute_result"
    }
   ],
   "source": [
    "df.sample()"
   ]
  },
  {
   "cell_type": "code",
   "execution_count": 191,
   "metadata": {},
   "outputs": [],
   "source": [
    "df.drop(columns=df.columns[15], inplace=True) #3 times, to take the extra 'tos', we are goint to assume there is only a 'to'"
   ]
  },
  {
   "cell_type": "code",
   "execution_count": 192,
   "metadata": {},
   "outputs": [],
   "source": [
    "df.drop(columns=df.columns[15], inplace=True) "
   ]
  },
  {
   "cell_type": "code",
   "execution_count": 193,
   "metadata": {},
   "outputs": [],
   "source": [
    "df.drop(columns=df.columns[14], inplace=True) "
   ]
  },
  {
   "cell_type": "code",
   "execution_count": 194,
   "metadata": {},
   "outputs": [],
   "source": [
    "df.rename(columns={df.columns[12]: 'ORIGIN'}, inplace=True)\n",
    "df.rename(columns={df.columns[13]: 'DESTINY'}, inplace=True)"
   ]
  },
  {
   "cell_type": "code",
   "execution_count": 195,
   "metadata": {},
   "outputs": [],
   "source": [
    "\n",
    "df.reset_index(drop=True, inplace=True)"
   ]
  },
  {
   "cell_type": "code",
   "execution_count": 196,
   "metadata": {},
   "outputs": [],
   "source": [
    "route_destiny = df[\"DESTINY\"].str.split(r\"\\bvia\\b\", expand=True)"
   ]
  },
  {
   "cell_type": "code",
   "execution_count": 197,
   "metadata": {},
   "outputs": [
    {
     "data": {
      "text/html": [
       "<div>\n",
       "<style scoped>\n",
       "    .dataframe tbody tr th:only-of-type {\n",
       "        vertical-align: middle;\n",
       "    }\n",
       "\n",
       "    .dataframe tbody tr th {\n",
       "        vertical-align: top;\n",
       "    }\n",
       "\n",
       "    .dataframe thead th {\n",
       "        text-align: right;\n",
       "    }\n",
       "</style>\n",
       "<table border=\"1\" class=\"dataframe\">\n",
       "  <thead>\n",
       "    <tr style=\"text-align: right;\">\n",
       "      <th></th>\n",
       "      <th>0</th>\n",
       "      <th>1</th>\n",
       "      <th>2</th>\n",
       "    </tr>\n",
       "  </thead>\n",
       "  <tbody>\n",
       "    <tr>\n",
       "      <th>81728</th>\n",
       "      <td>London</td>\n",
       "      <td>None</td>\n",
       "      <td>None</td>\n",
       "    </tr>\n",
       "  </tbody>\n",
       "</table>\n",
       "</div>"
      ],
      "text/plain": [
       "             0     1     2\n",
       "81728   London  None  None"
      ]
     },
     "execution_count": 197,
     "metadata": {},
     "output_type": "execute_result"
    }
   ],
   "source": [
    "route_destiny.sample() #if scale is 'none' this means no scale was done. "
   ]
  },
  {
   "cell_type": "code",
   "execution_count": 198,
   "metadata": {},
   "outputs": [],
   "source": [
    "route_destiny.rename(columns={route_destiny.columns[0]: 'DESTINY2'}, inplace=True)\n",
    "route_destiny.rename(columns={route_destiny.columns[1]: 'SCALE'}, inplace=True)\n",
    "route_destiny.rename(columns={route_destiny.columns[2]: 'scale2'}, inplace=True)"
   ]
  },
  {
   "cell_type": "code",
   "execution_count": 199,
   "metadata": {},
   "outputs": [
    {
     "data": {
      "text/plain": [
       "scale2\n",
       "Paris          1\n",
       "HKG            1\n",
       "Mexico City    1\n",
       "Name: count, dtype: int64"
      ]
     },
     "execution_count": 199,
     "metadata": {},
     "output_type": "execute_result"
    }
   ],
   "source": [
    "route_destiny.scale2.value_counts() #very few, we assume only if scale or not"
   ]
  },
  {
   "cell_type": "code",
   "execution_count": 200,
   "metadata": {},
   "outputs": [],
   "source": [
    "route_destiny.drop(columns=\"scale2\", inplace=True)"
   ]
  },
  {
   "cell_type": "code",
   "execution_count": 201,
   "metadata": {},
   "outputs": [],
   "source": [
    "route_destiny.reset_index(drop=True, inplace=True)"
   ]
  },
  {
   "cell_type": "code",
   "execution_count": 202,
   "metadata": {},
   "outputs": [
    {
     "data": {
      "text/plain": [
       "13"
      ]
     },
     "execution_count": 202,
     "metadata": {},
     "output_type": "execute_result"
    }
   ],
   "source": [
    "df.columns.get_loc('DESTINY')"
   ]
  },
  {
   "cell_type": "code",
   "execution_count": 203,
   "metadata": {},
   "outputs": [],
   "source": [
    "df = pd.concat([df.iloc[:, :14], route_destiny, df.iloc[:, 14:]], axis=1)"
   ]
  },
  {
   "cell_type": "code",
   "execution_count": 204,
   "metadata": {},
   "outputs": [
    {
     "data": {
      "text/html": [
       "<div>\n",
       "<style scoped>\n",
       "    .dataframe tbody tr th:only-of-type {\n",
       "        vertical-align: middle;\n",
       "    }\n",
       "\n",
       "    .dataframe tbody tr th {\n",
       "        vertical-align: top;\n",
       "    }\n",
       "\n",
       "    .dataframe thead th {\n",
       "        text-align: right;\n",
       "    }\n",
       "</style>\n",
       "<table border=\"1\" class=\"dataframe\">\n",
       "  <thead>\n",
       "    <tr style=\"text-align: right;\">\n",
       "      <th></th>\n",
       "      <th>AIRLINENAME</th>\n",
       "      <th>CABINTYPE</th>\n",
       "      <th>DATEFLOWN</th>\n",
       "      <th>DATEPUB</th>\n",
       "      <th>ENTERTAINMENTRATING</th>\n",
       "      <th>FOODRATING</th>\n",
       "      <th>GROUNDSERVICERATING</th>\n",
       "      <th>ORIGINCOUNTRY</th>\n",
       "      <th>OVERALLSCORE</th>\n",
       "      <th>RECOMMENDED</th>\n",
       "      <th>REVIEW</th>\n",
       "      <th>ROUTE</th>\n",
       "      <th>ORIGIN</th>\n",
       "      <th>DESTINY</th>\n",
       "      <th>DESTINY2</th>\n",
       "      <th>SCALE</th>\n",
       "      <th>SEATCOMFORTRATING</th>\n",
       "      <th>SERVICERATING</th>\n",
       "      <th>SLUG</th>\n",
       "      <th>TITLE</th>\n",
       "      <th>TRAVELLER</th>\n",
       "      <th>PURPOSE</th>\n",
       "      <th>TRIPVERIFIED</th>\n",
       "      <th>VALUERATING</th>\n",
       "      <th>WIFIRATING</th>\n",
       "      <th>UNIQUE_ID</th>\n",
       "    </tr>\n",
       "  </thead>\n",
       "  <tbody>\n",
       "    <tr>\n",
       "      <th>45593</th>\n",
       "      <td>Delta Air Lines</td>\n",
       "      <td>Economy Class</td>\n",
       "      <td>2022-03-01</td>\n",
       "      <td>4th April 2022</td>\n",
       "      <td>0</td>\n",
       "      <td>1</td>\n",
       "      <td>1</td>\n",
       "      <td>UnitedStates</td>\n",
       "      <td>1</td>\n",
       "      <td>no</td>\n",
       "      <td>I booked a flight from Providence to Houston a...</td>\n",
       "      <td>Providence to Houston via  New York</td>\n",
       "      <td>Providence</td>\n",
       "      <td>Houston via  New York</td>\n",
       "      <td>Houston</td>\n",
       "      <td>New York</td>\n",
       "      <td>1</td>\n",
       "      <td>1</td>\n",
       "      <td>delta-air-lines</td>\n",
       "      <td>the worst airline to fly with</td>\n",
       "      <td>Solo</td>\n",
       "      <td>Bussiness</td>\n",
       "      <td>Trip Verified</td>\n",
       "      <td>1</td>\n",
       "      <td>0</td>\n",
       "      <td>59d455c5-c566-422f-bc0b-de8e34eb452f</td>\n",
       "    </tr>\n",
       "  </tbody>\n",
       "</table>\n",
       "</div>"
      ],
      "text/plain": [
       "           AIRLINENAME      CABINTYPE  DATEFLOWN         DATEPUB  \\\n",
       "45593  Delta Air Lines  Economy Class 2022-03-01  4th April 2022   \n",
       "\n",
       "       ENTERTAINMENTRATING  FOODRATING  GROUNDSERVICERATING ORIGINCOUNTRY  \\\n",
       "45593                    0           1                    1  UnitedStates   \n",
       "\n",
       "       OVERALLSCORE RECOMMENDED  \\\n",
       "45593             1          no   \n",
       "\n",
       "                                                  REVIEW  \\\n",
       "45593  I booked a flight from Providence to Houston a...   \n",
       "\n",
       "                                      ROUTE       ORIGIN  \\\n",
       "45593  Providence to Houston via  New York   Providence    \n",
       "\n",
       "                       DESTINY   DESTINY2        SCALE  SEATCOMFORTRATING  \\\n",
       "45593   Houston via  New York    Houston     New York                   1   \n",
       "\n",
       "       SERVICERATING             SLUG                          TITLE  \\\n",
       "45593              1  delta-air-lines  the worst airline to fly with   \n",
       "\n",
       "      TRAVELLER    PURPOSE   TRIPVERIFIED  VALUERATING  WIFIRATING  \\\n",
       "45593      Solo  Bussiness  Trip Verified            1           0   \n",
       "\n",
       "                                  UNIQUE_ID  \n",
       "45593  59d455c5-c566-422f-bc0b-de8e34eb452f  "
      ]
     },
     "execution_count": 204,
     "metadata": {},
     "output_type": "execute_result"
    }
   ],
   "source": [
    "df.sample()"
   ]
  },
  {
   "cell_type": "code",
   "execution_count": 205,
   "metadata": {},
   "outputs": [],
   "source": [
    "df.drop(columns=\"DESTINY\", inplace=True)"
   ]
  },
  {
   "cell_type": "code",
   "execution_count": 206,
   "metadata": {},
   "outputs": [],
   "source": [
    "df.rename(columns={'DESTINY2':'DESTINY'}, inplace=True)"
   ]
  },
  {
   "cell_type": "code",
   "execution_count": 207,
   "metadata": {},
   "outputs": [],
   "source": [
    "df.reset_index(drop=True, inplace=True) "
   ]
  },
  {
   "cell_type": "code",
   "execution_count": 208,
   "metadata": {},
   "outputs": [
    {
     "name": "stdout",
     "output_type": "stream",
     "text": [
      "<class 'pandas.core.frame.DataFrame'>\n",
      "RangeIndex: 90319 entries, 0 to 90318\n",
      "Data columns (total 25 columns):\n",
      " #   Column               Non-Null Count  Dtype         \n",
      "---  ------               --------------  -----         \n",
      " 0   AIRLINENAME          90319 non-null  object        \n",
      " 1   CABINTYPE            90319 non-null  object        \n",
      " 2   DATEFLOWN            90319 non-null  datetime64[ns]\n",
      " 3   DATEPUB              90319 non-null  object        \n",
      " 4   ENTERTAINMENTRATING  90319 non-null  int64         \n",
      " 5   FOODRATING           90319 non-null  int64         \n",
      " 6   GROUNDSERVICERATING  90319 non-null  int64         \n",
      " 7   ORIGINCOUNTRY        90319 non-null  object        \n",
      " 8   OVERALLSCORE         90319 non-null  int32         \n",
      " 9   RECOMMENDED          90319 non-null  object        \n",
      " 10  REVIEW               90319 non-null  object        \n",
      " 11  ROUTE                90319 non-null  object        \n",
      " 12  ORIGIN               90319 non-null  object        \n",
      " 13  DESTINY              90113 non-null  object        \n",
      " 14  SCALE                23682 non-null  object        \n",
      " 15  SEATCOMFORTRATING    90319 non-null  int64         \n",
      " 16  SERVICERATING        90319 non-null  int64         \n",
      " 17  SLUG                 90319 non-null  object        \n",
      " 18  TITLE                90319 non-null  object        \n",
      " 19  TRAVELLER            90319 non-null  object        \n",
      " 20  PURPOSE              90319 non-null  object        \n",
      " 21  TRIPVERIFIED         90319 non-null  object        \n",
      " 22  VALUERATING          90319 non-null  int64         \n",
      " 23  WIFIRATING           90319 non-null  int64         \n",
      " 24  UNIQUE_ID            90319 non-null  object        \n",
      "dtypes: datetime64[ns](1), int32(1), int64(7), object(16)\n",
      "memory usage: 16.9+ MB\n"
     ]
    }
   ],
   "source": [
    "df.info()"
   ]
  },
  {
   "cell_type": "code",
   "execution_count": 209,
   "metadata": {},
   "outputs": [],
   "source": [
    "df= df.dropna(axis=0, subset=['DESTINY']) # too complicated to clean and separate, so drop (only 37 values)"
   ]
  },
  {
   "cell_type": "code",
   "execution_count": 210,
   "metadata": {},
   "outputs": [],
   "source": [
    "#delete spaces before and after\n",
    "df[\"ORIGIN\"]=df.ORIGIN.str.strip()\n",
    "df[\"DESTINY\"]=df.DESTINY.str.strip()"
   ]
  },
  {
   "cell_type": "code",
   "execution_count": 211,
   "metadata": {},
   "outputs": [],
   "source": [
    "df.insert(15,'SCALE_YN',np.where(df['SCALE'].isna(), 0,1))"
   ]
  },
  {
   "cell_type": "code",
   "execution_count": 212,
   "metadata": {},
   "outputs": [],
   "source": [
    "df.drop(columns=\"SCALE\", inplace=True)"
   ]
  },
  {
   "cell_type": "code",
   "execution_count": 213,
   "metadata": {},
   "outputs": [
    {
     "data": {
      "text/html": [
       "<div>\n",
       "<style scoped>\n",
       "    .dataframe tbody tr th:only-of-type {\n",
       "        vertical-align: middle;\n",
       "    }\n",
       "\n",
       "    .dataframe tbody tr th {\n",
       "        vertical-align: top;\n",
       "    }\n",
       "\n",
       "    .dataframe thead th {\n",
       "        text-align: right;\n",
       "    }\n",
       "</style>\n",
       "<table border=\"1\" class=\"dataframe\">\n",
       "  <thead>\n",
       "    <tr style=\"text-align: right;\">\n",
       "      <th></th>\n",
       "      <th>AIRLINENAME</th>\n",
       "      <th>CABINTYPE</th>\n",
       "      <th>DATEFLOWN</th>\n",
       "      <th>DATEPUB</th>\n",
       "      <th>ENTERTAINMENTRATING</th>\n",
       "      <th>FOODRATING</th>\n",
       "      <th>GROUNDSERVICERATING</th>\n",
       "      <th>ORIGINCOUNTRY</th>\n",
       "      <th>OVERALLSCORE</th>\n",
       "      <th>RECOMMENDED</th>\n",
       "      <th>REVIEW</th>\n",
       "      <th>ROUTE</th>\n",
       "      <th>ORIGIN</th>\n",
       "      <th>DESTINY</th>\n",
       "      <th>SCALE_YN</th>\n",
       "      <th>SEATCOMFORTRATING</th>\n",
       "      <th>SERVICERATING</th>\n",
       "      <th>SLUG</th>\n",
       "      <th>TITLE</th>\n",
       "      <th>TRAVELLER</th>\n",
       "      <th>PURPOSE</th>\n",
       "      <th>TRIPVERIFIED</th>\n",
       "      <th>VALUERATING</th>\n",
       "      <th>WIFIRATING</th>\n",
       "      <th>UNIQUE_ID</th>\n",
       "    </tr>\n",
       "  </thead>\n",
       "  <tbody>\n",
       "    <tr>\n",
       "      <th>45528</th>\n",
       "      <td>Delta Air Lines</td>\n",
       "      <td>Economy Class</td>\n",
       "      <td>2022-05-01</td>\n",
       "      <td>2nd May 2022</td>\n",
       "      <td>3</td>\n",
       "      <td>1</td>\n",
       "      <td>4</td>\n",
       "      <td>UnitedStates</td>\n",
       "      <td>2</td>\n",
       "      <td>no</td>\n",
       "      <td>Flight was cancelled because Delta didn't sche...</td>\n",
       "      <td>Atlanta to Memphis</td>\n",
       "      <td>Atlanta</td>\n",
       "      <td>Memphis</td>\n",
       "      <td>0</td>\n",
       "      <td>2</td>\n",
       "      <td>4</td>\n",
       "      <td>delta-air-lines</td>\n",
       "      <td>$75 for 10 hours!</td>\n",
       "      <td>Solo</td>\n",
       "      <td>Leisure</td>\n",
       "      <td>Not Verified</td>\n",
       "      <td>1</td>\n",
       "      <td>2</td>\n",
       "      <td>29b8075e-2432-403a-8758-bdabbfe27a7b</td>\n",
       "    </tr>\n",
       "  </tbody>\n",
       "</table>\n",
       "</div>"
      ],
      "text/plain": [
       "           AIRLINENAME      CABINTYPE  DATEFLOWN       DATEPUB  \\\n",
       "45528  Delta Air Lines  Economy Class 2022-05-01  2nd May 2022   \n",
       "\n",
       "       ENTERTAINMENTRATING  FOODRATING  GROUNDSERVICERATING ORIGINCOUNTRY  \\\n",
       "45528                    3           1                    4  UnitedStates   \n",
       "\n",
       "       OVERALLSCORE RECOMMENDED  \\\n",
       "45528             2          no   \n",
       "\n",
       "                                                  REVIEW               ROUTE  \\\n",
       "45528  Flight was cancelled because Delta didn't sche...  Atlanta to Memphis   \n",
       "\n",
       "        ORIGIN  DESTINY  SCALE_YN  SEATCOMFORTRATING  SERVICERATING  \\\n",
       "45528  Atlanta  Memphis         0                  2              4   \n",
       "\n",
       "                  SLUG              TITLE TRAVELLER  PURPOSE  TRIPVERIFIED  \\\n",
       "45528  delta-air-lines  $75 for 10 hours!      Solo  Leisure  Not Verified   \n",
       "\n",
       "       VALUERATING  WIFIRATING                             UNIQUE_ID  \n",
       "45528            1           2  29b8075e-2432-403a-8758-bdabbfe27a7b  "
      ]
     },
     "execution_count": 213,
     "metadata": {},
     "output_type": "execute_result"
    }
   ],
   "source": [
    "df.sample()"
   ]
  },
  {
   "cell_type": "code",
   "execution_count": 214,
   "metadata": {},
   "outputs": [],
   "source": [
    "#create a variable that states whether the flight was overseas or not. If entertainment diff. from 0 -->overseas; otherwise, no.\n",
    "df['LONGDISTANCE']=np.where(df.ENTERTAINMENTRATING==0,0,1)"
   ]
  },
  {
   "cell_type": "code",
   "execution_count": 215,
   "metadata": {},
   "outputs": [],
   "source": [
    "df['TRIPVERIFIED']=np.where(df['TRIPVERIFIED']==\"Trip Verified\", 1,0) "
   ]
  },
  {
   "cell_type": "code",
   "execution_count": 216,
   "metadata": {},
   "outputs": [
    {
     "data": {
      "text/plain": [
       "RECOMMENDED\n",
       "no     59224\n",
       "yes    30889\n",
       "Name: count, dtype: int64"
      ]
     },
     "execution_count": 216,
     "metadata": {},
     "output_type": "execute_result"
    }
   ],
   "source": [
    "df.RECOMMENDED.value_counts() #quite imbalanced...better check later balancing with SMOTE?"
   ]
  },
  {
   "cell_type": "code",
   "execution_count": 217,
   "metadata": {},
   "outputs": [],
   "source": [
    "df_categ=df.copy()"
   ]
  },
  {
   "cell_type": "code",
   "execution_count": 218,
   "metadata": {},
   "outputs": [],
   "source": [
    "#pass RECOMMENDED TO DUMMY\n",
    "df[\"RECOMMENDED\"]=np.where(df[\"RECOMMENDED\"]==\"yes\",1,0)"
   ]
  },
  {
   "cell_type": "code",
   "execution_count": 219,
   "metadata": {},
   "outputs": [],
   "source": [
    "#change categoricals string to categorical numbers 1=lowest class and 4=highest class\n",
    "df['CABINTYPE']=np.where(df['CABINTYPE']==\"Economy Class\", 1,df.CABINTYPE)\n",
    "df['CABINTYPE']=np.where(df['CABINTYPE']==\"Premium Economy\", 2,df.CABINTYPE)\n",
    "df['CABINTYPE']=np.where(df['CABINTYPE']==\"Business Class\", 3,df.CABINTYPE) #in order to avoid such an inbalanced class (firstclass few n)\n",
    "df['CABINTYPE']=np.where(df['CABINTYPE']==\"First Class\", 4,df.CABINTYPE)"
   ]
  },
  {
   "cell_type": "code",
   "execution_count": 220,
   "metadata": {},
   "outputs": [],
   "source": [
    "#pass froms string to int\n",
    "df[\"CABINTYPE\"]=df[\"CABINTYPE\"].astype(int)"
   ]
  },
  {
   "cell_type": "code",
   "execution_count": 221,
   "metadata": {},
   "outputs": [
    {
     "data": {
      "text/plain": [
       "TRAVELLER\n",
       "Solo      46871\n",
       "Couple    23569\n",
       "Family    19673\n",
       "Name: count, dtype: int64"
      ]
     },
     "execution_count": 221,
     "metadata": {},
     "output_type": "execute_result"
    }
   ],
   "source": [
    "df.TRAVELLER.value_counts()"
   ]
  },
  {
   "cell_type": "code",
   "execution_count": 222,
   "metadata": {},
   "outputs": [],
   "source": [
    "#change the variable traveller to numeric (based on specific order)\n",
    "df['TRAVELLER']=np.where(df['TRAVELLER']==\"Solo\", 1,df.TRAVELLER)\n",
    "df['TRAVELLER']=np.where(df['TRAVELLER']==\"Couple\", 2,df.TRAVELLER)\n",
    "df['TRAVELLER']=np.where(df['TRAVELLER']==\"Family\", 3,df.TRAVELLER)"
   ]
  },
  {
   "cell_type": "code",
   "execution_count": 223,
   "metadata": {},
   "outputs": [],
   "source": [
    "#pass froms string to int\n",
    "df[\"TRAVELLER\"]=df[\"TRAVELLER\"].astype(int)"
   ]
  },
  {
   "cell_type": "code",
   "execution_count": 224,
   "metadata": {},
   "outputs": [
    {
     "data": {
      "text/plain": [
       "PURPOSE\n",
       "Leisure      76103\n",
       "Bussiness    14010\n",
       "Name: count, dtype: int64"
      ]
     },
     "execution_count": 224,
     "metadata": {},
     "output_type": "execute_result"
    }
   ],
   "source": [
    "df.PURPOSE.value_counts()"
   ]
  },
  {
   "cell_type": "code",
   "execution_count": 225,
   "metadata": {},
   "outputs": [],
   "source": [
    "#change the variable traveller to numeric (based on specific order)\n",
    "df['PURPOSE']=np.where(df['PURPOSE']==\"Leisure\", 1,0) "
   ]
  },
  {
   "cell_type": "code",
   "execution_count": 226,
   "metadata": {},
   "outputs": [
    {
     "data": {
      "text/html": [
       "<div>\n",
       "<style scoped>\n",
       "    .dataframe tbody tr th:only-of-type {\n",
       "        vertical-align: middle;\n",
       "    }\n",
       "\n",
       "    .dataframe tbody tr th {\n",
       "        vertical-align: top;\n",
       "    }\n",
       "\n",
       "    .dataframe thead th {\n",
       "        text-align: right;\n",
       "    }\n",
       "</style>\n",
       "<table border=\"1\" class=\"dataframe\">\n",
       "  <thead>\n",
       "    <tr style=\"text-align: right;\">\n",
       "      <th></th>\n",
       "      <th>AIRLINENAME</th>\n",
       "      <th>CABINTYPE</th>\n",
       "      <th>DATEFLOWN</th>\n",
       "      <th>DATEPUB</th>\n",
       "      <th>ENTERTAINMENTRATING</th>\n",
       "      <th>FOODRATING</th>\n",
       "      <th>GROUNDSERVICERATING</th>\n",
       "      <th>ORIGINCOUNTRY</th>\n",
       "      <th>OVERALLSCORE</th>\n",
       "      <th>RECOMMENDED</th>\n",
       "      <th>REVIEW</th>\n",
       "      <th>ROUTE</th>\n",
       "      <th>ORIGIN</th>\n",
       "      <th>DESTINY</th>\n",
       "      <th>SCALE_YN</th>\n",
       "      <th>SEATCOMFORTRATING</th>\n",
       "      <th>SERVICERATING</th>\n",
       "      <th>SLUG</th>\n",
       "      <th>TITLE</th>\n",
       "      <th>TRAVELLER</th>\n",
       "      <th>PURPOSE</th>\n",
       "      <th>TRIPVERIFIED</th>\n",
       "      <th>VALUERATING</th>\n",
       "      <th>WIFIRATING</th>\n",
       "      <th>UNIQUE_ID</th>\n",
       "      <th>LONGDISTANCE</th>\n",
       "    </tr>\n",
       "  </thead>\n",
       "  <tbody>\n",
       "    <tr>\n",
       "      <th>8415</th>\n",
       "      <td>Air India</td>\n",
       "      <td>1</td>\n",
       "      <td>2018-04-01</td>\n",
       "      <td>23rd April 2018</td>\n",
       "      <td>0</td>\n",
       "      <td>1</td>\n",
       "      <td>2</td>\n",
       "      <td>Singapore</td>\n",
       "      <td>2</td>\n",
       "      <td>0</td>\n",
       "      <td>Singapore - Mumbai and New Delhi - Singapore. ...</td>\n",
       "      <td>New Delhi to Singapore</td>\n",
       "      <td>New Delhi</td>\n",
       "      <td>Singapore</td>\n",
       "      <td>0</td>\n",
       "      <td>2</td>\n",
       "      <td>2</td>\n",
       "      <td>air-india</td>\n",
       "      <td>far from acceptable standards</td>\n",
       "      <td>1</td>\n",
       "      <td>1</td>\n",
       "      <td>1</td>\n",
       "      <td>3</td>\n",
       "      <td>0</td>\n",
       "      <td>17abf4c9-faaa-48df-9636-11a57d13691f</td>\n",
       "      <td>0</td>\n",
       "    </tr>\n",
       "  </tbody>\n",
       "</table>\n",
       "</div>"
      ],
      "text/plain": [
       "     AIRLINENAME  CABINTYPE  DATEFLOWN          DATEPUB  ENTERTAINMENTRATING  \\\n",
       "8415   Air India          1 2018-04-01  23rd April 2018                    0   \n",
       "\n",
       "      FOODRATING  GROUNDSERVICERATING ORIGINCOUNTRY  OVERALLSCORE  \\\n",
       "8415           1                    2     Singapore             2   \n",
       "\n",
       "      RECOMMENDED                                             REVIEW  \\\n",
       "8415            0  Singapore - Mumbai and New Delhi - Singapore. ...   \n",
       "\n",
       "                       ROUTE     ORIGIN    DESTINY  SCALE_YN  \\\n",
       "8415  New Delhi to Singapore  New Delhi  Singapore         0   \n",
       "\n",
       "      SEATCOMFORTRATING  SERVICERATING       SLUG  \\\n",
       "8415                  2              2  air-india   \n",
       "\n",
       "                              TITLE  TRAVELLER  PURPOSE  TRIPVERIFIED  \\\n",
       "8415  far from acceptable standards          1        1             1   \n",
       "\n",
       "      VALUERATING  WIFIRATING                             UNIQUE_ID  \\\n",
       "8415            3           0  17abf4c9-faaa-48df-9636-11a57d13691f   \n",
       "\n",
       "      LONGDISTANCE  \n",
       "8415             0  "
      ]
     },
     "execution_count": 226,
     "metadata": {},
     "output_type": "execute_result"
    }
   ],
   "source": [
    "df.sample()"
   ]
  },
  {
   "cell_type": "code",
   "execution_count": 227,
   "metadata": {},
   "outputs": [],
   "source": [
    "df['YEAR'] = df['DATEFLOWN'].dt.year"
   ]
  },
  {
   "cell_type": "code",
   "execution_count": 228,
   "metadata": {},
   "outputs": [
    {
     "data": {
      "text/plain": [
       "(90113, 27)"
      ]
     },
     "execution_count": 228,
     "metadata": {},
     "output_type": "execute_result"
    }
   ],
   "source": [
    "df.shape"
   ]
  },
  {
   "cell_type": "code",
   "execution_count": 229,
   "metadata": {},
   "outputs": [
    {
     "data": {
      "text/plain": [
       "YEAR\n",
       "2019    15199\n",
       "2018    14040\n",
       "2022    12142\n",
       "2016    11847\n",
       "2017    11481\n",
       "2015     9734\n",
       "2021     6329\n",
       "2020     5529\n",
       "2023     3557\n",
       "2014      147\n",
       "1677      105\n",
       "2013        2\n",
       "2012        1\n",
       "Name: count, dtype: int64"
      ]
     },
     "execution_count": 229,
     "metadata": {},
     "output_type": "execute_result"
    }
   ],
   "source": [
    "df.YEAR.value_counts() #1677 makes no sense! drop these 105 values"
   ]
  },
  {
   "cell_type": "code",
   "execution_count": 230,
   "metadata": {},
   "outputs": [],
   "source": [
    "df = df[(df.YEAR > 1677)] #avoid negative values --> 1677"
   ]
  },
  {
   "cell_type": "code",
   "execution_count": 231,
   "metadata": {},
   "outputs": [
    {
     "data": {
      "text/plain": [
       "(90008, 27)"
      ]
     },
     "execution_count": 231,
     "metadata": {},
     "output_type": "execute_result"
    }
   ],
   "source": [
    "##CLEAN DATABASE!\n",
    "df.shape"
   ]
  },
  {
   "cell_type": "code",
   "execution_count": 232,
   "metadata": {},
   "outputs": [],
   "source": [
    "df_eda_clean=df.to_csv(\"datasets/cleandf.csv\")"
   ]
  },
  {
   "cell_type": "code",
   "execution_count": 117,
   "metadata": {},
   "outputs": [],
   "source": [
    "df_eda_clean=df.copy()"
   ]
  }
 ],
 "metadata": {
  "kernelspec": {
   "display_name": "ironhack",
   "language": "python",
   "name": "python3"
  },
  "language_info": {
   "codemirror_mode": {
    "name": "ipython",
    "version": 3
   },
   "file_extension": ".py",
   "mimetype": "text/x-python",
   "name": "python",
   "nbconvert_exporter": "python",
   "pygments_lexer": "ipython3",
   "version": "3.11.7"
  }
 },
 "nbformat": 4,
 "nbformat_minor": 2
}
